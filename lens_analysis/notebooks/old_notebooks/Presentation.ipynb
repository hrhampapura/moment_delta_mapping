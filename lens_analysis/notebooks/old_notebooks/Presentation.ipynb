{
 "cells": [
  {
   "cell_type": "markdown",
   "id": "2fd83e25",
   "metadata": {},
   "source": [
    "## Plots for thesis seminar"
   ]
  },
  {
   "cell_type": "code",
   "execution_count": 1,
   "id": "7556dd15",
   "metadata": {},
   "outputs": [
    {
     "name": "stderr",
     "output_type": "stream",
     "text": [
      "/global/home/users/harsha/miniconda3/envs/pyenv/lib/python3.9/site-packages/scipy/__init__.py:146: UserWarning: A NumPy version >=1.16.5 and <1.23.0 is required for this version of SciPy (detected version 1.23.5\n",
      "  warnings.warn(f\"A NumPy version >={np_minversion} and <{np_maxversion}\"\n",
      "/global/home/users/harsha/miniconda3/envs/pyenv/lib/python3.9/site-packages/numba/core/cpu.py:78: UserWarning: Numba extension module 'numba_scipy' failed to load due to 'ContextualVersionConflict((numpy 1.23.5 (/global/home/users/harsha/miniconda3/envs/pyenv/lib/python3.9/site-packages), Requirement.parse('numpy<1.23.0,>=1.16.5'), {'scipy'}))'.\n",
      "  numba.core.entrypoints.init_all()\n",
      "/global/home/users/harsha/miniconda3/envs/pyenv/lib/python3.9/site-packages/numba/core/cpu.py:78: UserWarning: Numba extension module 'sparse._numba_extension' failed to load due to 'ContextualVersionConflict((numpy 1.23.5 (/global/home/users/harsha/miniconda3/envs/pyenv/lib/python3.9/site-packages), Requirement.parse('numpy<1.23.0,>=1.16.5'), {'scipy'}))'.\n",
      "  numba.core.entrypoints.init_all()\n"
     ]
    }
   ],
   "source": [
    "import numpy as np\n",
    "import xarray as xr\n",
    "from distributed import Client\n",
    "import dask_jobqueue\n",
    "#import daskdataframe as dd\n",
    "import matplotlib.pyplot as plt\n",
    "import glob\n",
    "import netCDF4 as nc\n",
    "import zarr\n",
    "import nc_time_axis\n",
    "import xskillscore as xs\n",
    "import cartopy as cart\n",
    "#%run data_handler.ipynb\n",
    "import numbers\n",
    "#np.set_printoptions(threshold=np.inf)\n",
    "from scipy.special import erfinv, erf\n",
    "import xskillscore as xs"
   ]
  },
  {
   "cell_type": "code",
   "execution_count": 2,
   "id": "ccef74c1",
   "metadata": {},
   "outputs": [
    {
     "name": "stdout",
     "output_type": "stream",
     "text": [
      "41.8781 272.3702\n",
      "12.9716 77.5946\n"
     ]
    }
   ],
   "source": [
    "#Chicago\n",
    "LAT1        = 41.8781\n",
    "LON1        = (360-87.6298)%360\n",
    "#Boston\n",
    "# LAT          = 42.3601\n",
    "# LON          = (360-71.0589)%360\n",
    "# #Bengaluru:\n",
    "LAT2        = 12.9716\n",
    "LON2        = 77.5946\n",
    "#Berkeley\n",
    "# LAT       = 37.8715\n",
    "# LON       = (360-122.2730)%360\n",
    "savefigs   = '/global/scratch/users/harsha/savefigs/Feb21/'\n",
    "cesm2_path = '/global/scratch/users/harsha/LENS/cesm2/tasmax/'\n",
    "cvals      = '/global/scratch/users/harsha/LENS/cesm2/cvals/'\n",
    "cvals_det  = '/global/scratch/users/harsha/LENS/cesm2/cvals/detrended/'\n",
    "loc1       = 'Chicago/'\n",
    "locn1      = 'Chicago'\n",
    "loc2       = 'Bengaluru/'\n",
    "locn2      = 'Bengaluru'\n",
    "cvals1     = '/global/scratch/users/harsha/LENS/cesm2/tmax_mem'\n",
    "print(LAT1,LON1)\n",
    "print(LAT2,LON2)"
   ]
  },
  {
   "cell_type": "code",
   "execution_count": 3,
   "id": "84bd2205",
   "metadata": {},
   "outputs": [],
   "source": [
    "def to_daily(ds):\n",
    "    year = ds.time.dt.year\n",
    "    day = ds.time.dt.dayofyear\n",
    "\n",
    "    # assign new coords\n",
    "    ds = ds.assign_coords(year=(\"time\", year.data), day=(\"time\", day.data))\n",
    "\n",
    "    # reshape the array to (..., \"day\", \"year\")\n",
    "    return ds.set_index(time=(\"year\", \"day\")).unstack(\"time\")  "
   ]
  },
  {
   "cell_type": "code",
   "execution_count": 4,
   "id": "64321982",
   "metadata": {},
   "outputs": [
    {
     "name": "stderr",
     "output_type": "stream",
     "text": [
      "/global/home/users/harsha/miniconda3/envs/pyenv/lib/python3.9/site-packages/distributed/node.py:182: UserWarning: Port 8787 is already in use.\n",
      "Perhaps you already have a cluster running?\n",
      "Hosting the HTTP server on port 46571 instead\n",
      "  warnings.warn(\n"
     ]
    }
   ],
   "source": [
    "job_extra = ['--qos=cf_lowprio','--account=ac_cumulus'] \n",
    "#job_extra =['--qos=lr6_lowprio','--account=ac_cumulus','--constraint=lr6_m192']\n",
    "#job_extra =['--qos=lr_lowprio','--account=ac_cumulus']\n",
    "cluster = dask_jobqueue.SLURMCluster(queue=\"cf1\", cores=10, walltime='6:00:00', \n",
    "                local_directory='/global/scratch/users/harsha/dask_space/', \n",
    "                log_directory='/global/scratch/users/harsha/dask_space/', \n",
    "                job_extra_directives=job_extra, interface='eth0', memory=\"192GB\") \n",
    "client  = Client(cluster) \n",
    "cluster.scale_up(3)"
   ]
  },
  {
   "cell_type": "code",
   "execution_count": 5,
   "id": "4e49cb3b",
   "metadata": {},
   "outputs": [
    {
     "data": {
      "application/vnd.jupyter.widget-view+json": {
       "model_id": "0088a88101e4441e856720f154d66001",
       "version_major": 2,
       "version_minor": 0
      },
      "text/html": [
       "<div class=\"jp-RenderedHTMLCommon jp-RenderedHTML jp-mod-trusted jp-OutputArea-output\">\n",
       "    <div style=\"width: 24px; height: 24px; background-color: #e1e1e1; border: 3px solid #9D9D9D; border-radius: 5px; position: absolute;\">\n",
       "    </div>\n",
       "    <div style=\"margin-left: 48px;\">\n",
       "        <h3 style=\"margin-bottom: 0px; margin-top: 0px;\">SLURMCluster</h3>\n",
       "        <p style=\"color: #9D9D9D; margin-bottom: 0px;\">67944330</p>\n",
       "        <table style=\"width: 100%; text-align: left;\">\n",
       "            <tr>\n",
       "                <td style=\"text-align: left;\">\n",
       "                    <strong>Dashboard:</strong> <a href=\"http://10.0.39.1:46571/status\" target=\"_blank\">http://10.0.39.1:46571/status</a>\n",
       "                </td>\n",
       "                <td style=\"text-align: left;\">\n",
       "                    <strong>Workers:</strong> 0\n",
       "                </td>\n",
       "            </tr>\n",
       "            <tr>\n",
       "                <td style=\"text-align: left;\">\n",
       "                    <strong>Total threads:</strong> 0\n",
       "                </td>\n",
       "                <td style=\"text-align: left;\">\n",
       "                    <strong>Total memory:</strong> 0 B\n",
       "                </td>\n",
       "            </tr>\n",
       "            \n",
       "        </table>\n",
       "\n",
       "        <details>\n",
       "            <summary style=\"margin-bottom: 20px;\">\n",
       "                <h3 style=\"display: inline;\">Scheduler Info</h3>\n",
       "            </summary>\n",
       "\n",
       "            <div style=\"\">\n",
       "    <div>\n",
       "        <div style=\"width: 24px; height: 24px; background-color: #FFF7E5; border: 3px solid #FF6132; border-radius: 5px; position: absolute;\"> </div>\n",
       "        <div style=\"margin-left: 48px;\">\n",
       "            <h3 style=\"margin-bottom: 0px;\">Scheduler</h3>\n",
       "            <p style=\"color: #9D9D9D; margin-bottom: 0px;\">Scheduler-9303f404-83fc-4fc1-aab4-d5a7fc377756</p>\n",
       "            <table style=\"width: 100%; text-align: left;\">\n",
       "                <tr>\n",
       "                    <td style=\"text-align: left;\">\n",
       "                        <strong>Comm:</strong> tcp://10.0.39.1:40769\n",
       "                    </td>\n",
       "                    <td style=\"text-align: left;\">\n",
       "                        <strong>Workers:</strong> 0\n",
       "                    </td>\n",
       "                </tr>\n",
       "                <tr>\n",
       "                    <td style=\"text-align: left;\">\n",
       "                        <strong>Dashboard:</strong> <a href=\"http://10.0.39.1:46571/status\" target=\"_blank\">http://10.0.39.1:46571/status</a>\n",
       "                    </td>\n",
       "                    <td style=\"text-align: left;\">\n",
       "                        <strong>Total threads:</strong> 0\n",
       "                    </td>\n",
       "                </tr>\n",
       "                <tr>\n",
       "                    <td style=\"text-align: left;\">\n",
       "                        <strong>Started:</strong> Just now\n",
       "                    </td>\n",
       "                    <td style=\"text-align: left;\">\n",
       "                        <strong>Total memory:</strong> 0 B\n",
       "                    </td>\n",
       "                </tr>\n",
       "            </table>\n",
       "        </div>\n",
       "    </div>\n",
       "\n",
       "    <details style=\"margin-left: 48px;\">\n",
       "        <summary style=\"margin-bottom: 20px;\">\n",
       "            <h3 style=\"display: inline;\">Workers</h3>\n",
       "        </summary>\n",
       "\n",
       "        \n",
       "\n",
       "    </details>\n",
       "</div>\n",
       "\n",
       "        </details>\n",
       "    </div>\n",
       "</div>"
      ],
      "text/plain": [
       "SLURMCluster(67944330, 'tcp://10.0.39.1:40769', workers=0, threads=0, memory=0 B)"
      ]
     },
     "metadata": {},
     "output_type": "display_data"
    }
   ],
   "source": [
    "cluster"
   ]
  },
  {
   "cell_type": "code",
   "execution_count": 12,
   "id": "cf5a8ed1",
   "metadata": {},
   "outputs": [],
   "source": [
    "pi_year0 = '1850'\n",
    "pi_year1 = '1879'\n",
    "ic_year0 = '2071'\n",
    "ic_year1 = '2100'\n",
    "pi_year  = 1865\n",
    "eoc_year = 2085\n",
    "doy      =  211# day_of_year #211 = Jul 30\n",
    "date     = 'Jul30'\n",
    "date0    = 'July 30'"
   ]
  },
  {
   "cell_type": "code",
   "execution_count": 14,
   "id": "7b6c9ae5",
   "metadata": {},
   "outputs": [
    {
     "name": "stdout",
     "output_type": "stream",
     "text": [
      "/global/scratch/users/harsha/LENS/cesm2/cvals/detrended/Chicago/tpi_detJul30_1850_1879_loc.zarr\n"
     ]
    }
   ],
   "source": [
    "# Set paths for detrended local tmax - warming, no warming and corrected.\n",
    "dpi_detpath1      = cvals_det+loc1+'tpi_det'+date+'_'+pi_year0+'_'+pi_year1+'_loc.zarr'\n",
    "deoc_detpath1     = cvals_det+loc1+'teoc_det'+date+'_'+ic_year0+'_'+ic_year1+'_loc.zarr'\n",
    "dmsc_detpath1     = cvals_det+loc1+'tmsc_det'+date+'_'+ic_year0+'_'+ic_year1+'_loc.zarr'\n",
    "dmc_detpath1      = cvals_det+loc1+'tmc_det'+date+'_'+ic_year0+'_'+ic_year1+'_loc.zarr'\n",
    "#\n",
    "dpi_detpath2      = cvals_det+loc2+'tpi_det'+date+'_'+pi_year0+'_'+pi_year1+'_loc.zarr'\n",
    "deoc_detpath2     = cvals_det+loc2+'teoc_det'+date+'_'+ic_year0+'_'+ic_year1+'_loc.zarr'\n",
    "dmsc_detpath2     = cvals_det+loc2+'tmsc_det'+date+'_'+ic_year0+'_'+ic_year1+'_loc.zarr'\n",
    "dmc_detpath2      = cvals_det+loc2+'tmc_det'+date+'_'+ic_year0+'_'+ic_year1+'_loc.zarr'\n",
    "print(dpi_detpath1)"
   ]
  },
  {
   "cell_type": "code",
   "execution_count": 15,
   "id": "5c1b4622",
   "metadata": {},
   "outputs": [
    {
     "name": "stdout",
     "output_type": "stream",
     "text": [
      "CPU times: user 439 ms, sys: 26.7 ms, total: 465 ms\n",
      "Wall time: 441 ms\n"
     ]
    }
   ],
   "source": [
    "%%time\n",
    "# tpi_loc1_det     = xr.open_zarr(dpi_detpath1).detrended_tmax\n",
    "# teoc_loc1_det    = xr.open_zarr(deoc_detpath1).detrended_tmax\n",
    "# tmc_loc1_det     = xr.open_zarr(dmc_detpath1).detrended_tmax\n",
    "# tmsc_loc1_det    = xr.open_zarr(dmsc_detpath1).detrended_tmax\n",
    "#\n",
    "tpi_loc2_det     = xr.open_zarr(dpi_detpath2).detrended_tmax\n",
    "teoc_loc2_det    = xr.open_zarr(deoc_detpath2).detrended_tmax\n",
    "tmc_loc2_det     = xr.open_zarr(dmc_detpath2).detrended_tmax\n",
    "tmsc_loc2_det    = xr.open_zarr(dmsc_detpath2).detrended_tmax"
   ]
  },
  {
   "cell_type": "code",
   "execution_count": 17,
   "id": "8a0900af",
   "metadata": {},
   "outputs": [
    {
     "name": "stdout",
     "output_type": "stream",
     "text": [
      "CPU times: user 699 ms, sys: 41.3 ms, total: 740 ms\n",
      "Wall time: 707 ms\n"
     ]
    }
   ],
   "source": [
    "%%time\n",
    "quants      = np.arange(0.0,1.01,0.01)\n",
    "#Compute quantile function - Jan 1 tmax\n",
    "# qpi_loc1_det   = tpi_loc1_det.chunk(dict(mtime=-1)).quantile(quants,dim='mtime')\n",
    "# qeoc_loc1_det  = teoc_loc1_det.chunk(dict(mtime=-1)).quantile(quants,dim='mtime')\n",
    "# qmc_loc1_det   = tmc_loc1_det.chunk(dict(mtime=-1)).quantile(quants,dim='mtime')\n",
    "# qmsc_loc1_det  = tmsc_loc1_det.chunk(dict(mtime=-1)).quantile(quants,dim='mtime')\n",
    "#\n",
    "qpi_loc2_det   = tpi_loc2_det.chunk(dict(mtime=-1)).quantile(quants,dim='mtime')\n",
    "qeoc_loc2_det  = teoc_loc2_det.chunk(dict(mtime=-1)).quantile(quants,dim='mtime')\n",
    "qmc_loc2_det   = tmc_loc2_det.chunk(dict(mtime=-1)).quantile(quants,dim='mtime')\n",
    "qmsc_loc2_det  = tmsc_loc2_det.chunk(dict(mtime=-1)).quantile(quants,dim='mtime')"
   ]
  },
  {
   "cell_type": "code",
   "execution_count": 19,
   "id": "c3078373",
   "metadata": {},
   "outputs": [
    {
     "data": {
      "image/png": "[encoded data removed]",
      "text/plain": [
       "<Figure size 640x480 with 1 Axes>"
      ]
     },
     "metadata": {},
     "output_type": "display_data"
    },
    {
     "name": "stdout",
     "output_type": "stream",
     "text": [
      "CPU times: user 9.87 s, sys: 534 ms, total: 10.4 s\n",
      "Wall time: 20.3 s\n"
     ]
    }
   ],
   "source": [
    "%%time\n",
    "plt.plot(quants,qpi_loc2_det,'.',color='k',label= 'pi',lw=2)\n",
    "plt.plot(quants,qmc_loc2_det,color='tab:orange',label= 'pi + s',lw=2)\n",
    "plt.plot(quants,qmsc_loc2_det,'tab:blue',label='pi + ss',lw=2)\n",
    "plt.plot(quants,qeoc_loc2_det,'k--',label='eoc',lw=2)\n",
    "#\n",
    "plt.legend(loc='upper left')\n",
    "plt.title(date +', Location = '+locn2, y=1.01)\n",
    "plt.ylabel('Quantile Function (K)', fontsize =10)\n",
    "plt.xlabel('Probability p', fontsize = 10)\n",
    "plt.show()"
   ]
  },
  {
   "cell_type": "code",
   "execution_count": null,
   "id": "b43bfcba",
   "metadata": {},
   "outputs": [],
   "source": []
  }
 ],
 "metadata": {
  "kernelspec": {
   "display_name": "pyenv",
   "language": "python",
   "name": "pyenv"
  },
  "language_info": {
   "codemirror_mode": {
    "name": "ipython",
    "version": 3
   },
   "file_extension": ".py",
   "mimetype": "text/x-python",
   "name": "python",
   "nbconvert_exporter": "python",
   "pygments_lexer": "ipython3",
   "version": "3.9.17"
  }
 },
 "nbformat": 4,
 "nbformat_minor": 5
}
