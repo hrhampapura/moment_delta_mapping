{
 "cells": [
  {
   "cell_type": "code",
   "execution_count": 2,
   "id": "8f86ac2e",
   "metadata": {},
   "outputs": [],
   "source": [
    "import numpy as np\n",
    "import xarray as xr\n",
    "from distributed import Client\n",
    "import dask_jobqueue\n",
    "#import daskdataframe as dd\n",
    "import matplotlib.pyplot as plt\n",
    "import glob\n",
    "import netCDF4 as nc\n",
    "import zarr\n",
    "import nc_time_axis\n",
    "import xskillscore as xs\n",
    "import cartopy as cart\n",
    "%run data_handler.ipynb\n",
    "#np.set_printoptions(threshold=np.inf)"
   ]
  },
  {
   "cell_type": "code",
   "execution_count": 3,
   "id": "346f3138",
   "metadata": {},
   "outputs": [],
   "source": [
    "#LAT        = 56.07 #LON        = 347.5\n",
    "#LAT        = 44.06 #LON        = 245.257\n",
    "#Chicago:\n",
    "#LAT        = 41.8781\n",
    "#LON        = 360-87.6298\n",
    "#Boston\n",
    "LAT        = 42.3601\n",
    "LON        = 360-71.0589\n",
    "savefigs   = '/global/scratch/users/harsha/savefigs/Nov15/'\n",
    "cesm2_path = '/global/scratch/users/harsha/LENS/cesm2/tasmax/'\n",
    "cvals      = '/global/scratch/users/harsha/LENS/cesm2/cvals/Chicago/'\n",
    "loc        = 'columbia'\n",
    "cvals1     = '/global/scratch/users/harsha/LENS/cesm2/tmax_mem'"
   ]
  },
  {
   "cell_type": "code",
   "execution_count": 1,
   "id": "97da15f1",
   "metadata": {},
   "outputs": [
    {
     "ename": "NameError",
     "evalue": "name 'dask_jobqueue' is not defined",
     "output_type": "error",
     "traceback": [
      "\u001b[0;31m---------------------------------------------------------------------------\u001b[0m",
      "\u001b[0;31mNameError\u001b[0m                                 Traceback (most recent call last)",
      "Input \u001b[0;32mIn [1]\u001b[0m, in \u001b[0;36m<cell line: 4>\u001b[0;34m()\u001b[0m\n\u001b[1;32m      1\u001b[0m job_extra \u001b[38;5;241m=\u001b[39m [\u001b[38;5;124m'\u001b[39m\u001b[38;5;124m--qos=cf_lowprio\u001b[39m\u001b[38;5;124m'\u001b[39m,\u001b[38;5;124m'\u001b[39m\u001b[38;5;124m--account=ac_cumulus\u001b[39m\u001b[38;5;124m'\u001b[39m] \n\u001b[1;32m      2\u001b[0m \u001b[38;5;66;03m#job_extra =['--qos=lr6_lowprio','--account=ac_cumulus','--constraint=lr6_m192']\u001b[39;00m\n\u001b[1;32m      3\u001b[0m \u001b[38;5;66;03m#job_extra =['--qos=lr_lowprio','--account=ac_cumulus']\u001b[39;00m\n\u001b[0;32m----> 4\u001b[0m cluster \u001b[38;5;241m=\u001b[39m \u001b[43mdask_jobqueue\u001b[49m\u001b[38;5;241m.\u001b[39mSLURMCluster(queue\u001b[38;5;241m=\u001b[39m\u001b[38;5;124m\"\u001b[39m\u001b[38;5;124mcf1\u001b[39m\u001b[38;5;124m\"\u001b[39m, cores\u001b[38;5;241m=\u001b[39m\u001b[38;5;241m20\u001b[39m, walltime\u001b[38;5;241m=\u001b[39m\u001b[38;5;124m'\u001b[39m\u001b[38;5;124m6:00:00\u001b[39m\u001b[38;5;124m'\u001b[39m, \n\u001b[1;32m      5\u001b[0m                 local_directory\u001b[38;5;241m=\u001b[39m\u001b[38;5;124m'\u001b[39m\u001b[38;5;124m/global/scratch/users/harsha/dask_space/\u001b[39m\u001b[38;5;124m'\u001b[39m, \n\u001b[1;32m      6\u001b[0m                 log_directory\u001b[38;5;241m=\u001b[39m\u001b[38;5;124m'\u001b[39m\u001b[38;5;124m/global/scratch/users/harsha/dask_space/\u001b[39m\u001b[38;5;124m'\u001b[39m, \n\u001b[1;32m      7\u001b[0m                 job_extra_directives\u001b[38;5;241m=\u001b[39mjob_extra, interface\u001b[38;5;241m=\u001b[39m\u001b[38;5;124m'\u001b[39m\u001b[38;5;124meth0\u001b[39m\u001b[38;5;124m'\u001b[39m, memory\u001b[38;5;241m=\u001b[39m\u001b[38;5;124m\"\u001b[39m\u001b[38;5;124m192GB\u001b[39m\u001b[38;5;124m\"\u001b[39m) \n\u001b[1;32m      8\u001b[0m client  \u001b[38;5;241m=\u001b[39m Client(cluster) \n\u001b[1;32m      9\u001b[0m cluster\u001b[38;5;241m.\u001b[39mscale_up(\u001b[38;5;241m5\u001b[39m)\n",
      "\u001b[0;31mNameError\u001b[0m: name 'dask_jobqueue' is not defined"
     ]
    }
   ],
   "source": [
    "job_extra = ['--qos=cf_lowprio','--account=ac_cumulus'] \n",
    "#job_extra =['--qos=lr6_lowprio','--account=ac_cumulus','--constraint=lr6_m192']\n",
    "#job_extra =['--qos=lr_lowprio','--account=ac_cumulus']\n",
    "cluster = dask_jobqueue.SLURMCluster(queue=\"cf1\", cores=20, walltime='6:00:00', \n",
    "                local_directory='/global/scratch/users/harsha/dask_space/', \n",
    "                log_directory='/global/scratch/users/harsha/dask_space/', \n",
    "                job_extra_directives=job_extra, interface='eth0', memory=\"192GB\") \n",
    "client  = Client(cluster) \n",
    "cluster.scale_up(5)"
   ]
  },
  {
   "cell_type": "code",
   "execution_count": 4,
   "id": "e2b5c115",
   "metadata": {},
   "outputs": [
    {
     "name": "stdout",
     "output_type": "stream",
     "text": [
      "CPU times: user 3.29 s, sys: 272 ms, total: 3.56 s\n",
      "Wall time: 3.69 s\n"
     ]
    }
   ],
   "source": [
    "%%time\n",
    "ds_ssp  = xr.open_mfdataset(cesm2_path+'ssp370_cesm2tmax.zarr',engine='zarr')\n",
    "ds_hist = xr.open_mfdataset(cesm2_path+'bhist_cesm2tmax.zarr',engine='zarr')"
   ]
  },
  {
   "cell_type": "code",
   "execution_count": null,
   "id": "c2d012e0",
   "metadata": {},
   "outputs": [],
   "source": []
  }
 ],
 "metadata": {
  "kernelspec": {
   "display_name": "pyenv",
   "language": "python",
   "name": "pyenv"
  },
  "language_info": {
   "codemirror_mode": {
    "name": "ipython",
    "version": 3
   },
   "file_extension": ".py",
   "mimetype": "text/x-python",
   "name": "python",
   "nbconvert_exporter": "python",
   "pygments_lexer": "ipython3",
   "version": "3.9.7"
  }
 },
 "nbformat": 4,
 "nbformat_minor": 5
}
