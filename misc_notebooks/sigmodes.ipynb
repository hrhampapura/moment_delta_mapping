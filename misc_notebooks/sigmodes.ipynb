{
 "cells": [
  {
   "cell_type": "code",
   "execution_count": null,
   "id": "be5564a5",
   "metadata": {},
   "outputs": [],
   "source": [
    "# Obtain significant fourier modes for pre-ind and historical means and stds"
   ]
  },
  {
   "cell_type": "code",
   "execution_count": 1,
   "id": "8b175c9f",
   "metadata": {},
   "outputs": [],
   "source": [
    "import numpy as np\n",
    "import xarray as xr\n",
    "from distributed import Client\n",
    "import dask_jobqueue\n",
    "#import daskdataframe as dd\n",
    "import matplotlib.pyplot as plt\n",
    "import glob\n",
    "import netCDF4 as nc\n",
    "import zarr\n",
    "import nc_time_axis\n",
    "import xskillscore as xs\n",
    "import cartopy as cart\n",
    "%run data_handler.ipynb\n",
    "import xrft \n",
    "#np.set_printoptions(threshold=np.inf)"
   ]
  },
  {
   "cell_type": "code",
   "execution_count": 4,
   "id": "f5582018-fa50-422c-aea0-9084172fa35c",
   "metadata": {},
   "outputs": [],
   "source": [
    "cesm2_path = '/global/scratch/users/harsha/LENS/cesm2/'"
   ]
  },
  {
   "cell_type": "code",
   "execution_count": 2,
   "id": "e4737b24",
   "metadata": {},
   "outputs": [],
   "source": [
    "job_extra = ['--qos=cf_lowprio','--account=ac_cumulus'] \n",
    "#job_extra =['--qos=lr6_lowprio','--account=ac_cumulus','--constraint=lr6_m192'] \n",
    "cluster = dask_jobqueue.SLURMCluster(queue=\"cf1\", cores=20, walltime='6:00:00', \n",
    "                local_directory='/global/scratch/users/harsha/dask_space/', \n",
    "                log_directory='/global/scratch/users/harsha/dask_space/', \n",
    "                job_extra_directives=job_extra, interface='eth0', memory=\"192GB\") \n",
    "client  = Client(cluster) \n",
    "cluster.scale_up(2)"
   ]
  },
  {
   "cell_type": "code",
   "execution_count": 3,
   "id": "8a0172c7",
   "metadata": {},
   "outputs": [
    {
     "data": {
      "application/vnd.jupyter.widget-view+json": {
       "model_id": "c2dab9f564d94ec3bd9936ce06f93a0b",
       "version_major": 2,
       "version_minor": 0
      },
      "text/plain": [
       "Tab(children=(HTML(value='<div class=\"jp-RenderedHTMLCommon jp-RenderedHTML jp-mod-trusted jp-OutputArea-outpu…"
      ]
     },
     "metadata": {},
     "output_type": "display_data"
    }
   ],
   "source": [
    "cluster"
   ]
  },
  {
   "cell_type": "code",
   "execution_count": 5,
   "id": "5d572190",
   "metadata": {},
   "outputs": [
    {
     "name": "stdout",
     "output_type": "stream",
     "text": [
      "CPU times: user 2.86 s, sys: 185 ms, total: 3.05 s\n",
      "Wall time: 21.6 s\n"
     ]
    }
   ],
   "source": [
    "%%time\n",
    "ds_temp = xr.open_mfdataset(cesm2_path+'lens_tmax.zarr',engine='zarr')"
   ]
  },
  {
   "cell_type": "code",
   "execution_count": 6,
   "id": "b01aaf45-3827-42c5-b925-076015eb27ba",
   "metadata": {},
   "outputs": [],
   "source": [
    "ds_temp_mean = ds_temp.mean('time')"
   ]
  },
  {
   "cell_type": "code",
   "execution_count": 7,
   "id": "6cb9645c-64c7-42b1-8eab-952e419c4b39",
   "metadata": {},
   "outputs": [
    {
     "data": {
      "text/plain": [
       "<xarray.backends.zarr.ZarrStore at 0x2b5cab3012e0>"
      ]
     },
     "execution_count": 7,
     "metadata": {},
     "output_type": "execute_result"
    }
   ],
   "source": [
    "ds_temp_mean.to_zarr(cesm2_path+'mean.zarr')"
   ]
  },
  {
   "cell_type": "code",
   "execution_count": null,
   "id": "580bc31a-e429-4ce4-88af-da2cf5d9026c",
   "metadata": {},
   "outputs": [],
   "source": []
  }
 ],
 "metadata": {
  "kernelspec": {
   "display_name": "pyenv",
   "language": "python",
   "name": "pyenv"
  },
  "language_info": {
   "codemirror_mode": {
    "name": "ipython",
    "version": 3
   },
   "file_extension": ".py",
   "mimetype": "text/x-python",
   "name": "python",
   "nbconvert_exporter": "python",
   "pygments_lexer": "ipython3",
   "version": "3.9.7"
  }
 },
 "nbformat": 4,
 "nbformat_minor": 5
}
