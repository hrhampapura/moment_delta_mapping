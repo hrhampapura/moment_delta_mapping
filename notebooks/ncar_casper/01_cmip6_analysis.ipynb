{
 "cells": [
  {
   "cell_type": "code",
   "execution_count": 1,
   "id": "21fbeaa0",
   "metadata": {},
   "outputs": [
    {
     "name": "stderr",
     "output_type": "stream",
     "text": [
      "/glade/derecho/scratch/harshah/tmp/ipykernel_72981/4085156963.py:8: TqdmWarning: IProgress not found. Please update jupyter and ipywidgets. See https://ipywidgets.readthedocs.io/en/stable/user_install.html\n",
      "  from tqdm.autonotebook import tqdm\n"
     ]
    },
    {
     "ename": "ModuleNotFoundError",
     "evalue": "No module named 'gcsfs'",
     "output_type": "error",
     "traceback": [
      "\u001b[0;31m---------------------------------------------------------------------------\u001b[0m",
      "\u001b[0;31mModuleNotFoundError\u001b[0m                       Traceback (most recent call last)",
      "Cell \u001b[0;32mIn[1], line 14\u001b[0m\n\u001b[1;32m     12\u001b[0m \u001b[38;5;28;01mimport\u001b[39;00m \u001b[38;5;21;01mfsspec\u001b[39;00m\n\u001b[1;32m     13\u001b[0m \u001b[38;5;66;03m#import seaborn as sns\u001b[39;00m\n\u001b[0;32m---> 14\u001b[0m \u001b[38;5;28;01mimport\u001b[39;00m \u001b[38;5;21;01mgcsfs\u001b[39;00m\n\u001b[1;32m     15\u001b[0m \u001b[38;5;28;01mimport\u001b[39;00m \u001b[38;5;21;01mcftime\u001b[39;00m\n\u001b[1;32m     16\u001b[0m \u001b[38;5;28;01mimport\u001b[39;00m \u001b[38;5;21;01mpandas\u001b[39;00m \u001b[38;5;28;01mas\u001b[39;00m \u001b[38;5;21;01mpd\u001b[39;00m\n",
      "\u001b[0;31mModuleNotFoundError\u001b[0m: No module named 'gcsfs'"
     ]
    }
   ],
   "source": [
    "from matplotlib import pyplot as plt\n",
    "import xarray as xr\n",
    "import numpy as np\n",
    "import dask_jobqueue\n",
    "import dask\n",
    "from distributed import Client\n",
    "from dask.diagnostics import progress\n",
    "from tqdm.autonotebook import tqdm\n",
    "import cartopy.io.shapereader as shpreader\n",
    "import cartopy.feature as cfeature\n",
    "import intake\n",
    "import fsspec\n",
    "#import seaborn as sns\n",
    "import gcsfs\n",
    "import cftime\n",
    "import pandas as pd\n",
    "import xesmf as xe"
   ]
  },
  {
   "cell_type": "code",
   "execution_count": null,
   "id": "efbaddb5",
   "metadata": {},
   "outputs": [],
   "source": [
    "################################\n",
    "savefigs   = '/global/scratch/users/harsha/savefigs/Feb21/'\n",
    "cesm2_path = '/global/scratch/users/harsha/LENS/cesm2/tasmax/'\n",
    "cvals      = '/global/scratch/users/harsha/LENS/cesm2/cvals/detrended/'\n",
    "############\n",
    "pi_year  = 1865\n",
    "eoc_year = 2085"
   ]
  },
  {
   "cell_type": "code",
   "execution_count": null,
   "id": "9f308318",
   "metadata": {},
   "outputs": [],
   "source": [
    "job_extra = ['--qos=cf_lowprio','--account=ac_cumulus'] \n",
    "#job_extra =['--qos=lr6_lowprio','--account=ac_cumulus','--constraint=lr6_m192']\n",
    "#job_extra =['--qos=condo_cumulus_lr6','--account=lr_cumulus','--constraint=lr6_m192']\n",
    "#job_extra =['--qos=lr_lowprio','--account=ac_cumulus']\n",
    "cluster = dask_jobqueue.SLURMCluster(queue=\"cf1\", cores=10, walltime='5:00:00', \n",
    "                local_directory='/global/scratch/users/harsha/dask_space/', \n",
    "                log_directory='/global/scratch/users/harsha/dask_space/', \n",
    "                job_extra_directives=job_extra, interface='eth0', memory=\"192GB\") \n",
    "client  = Client(cluster) \n",
    "cluster.scale_up(3)"
   ]
  },
  {
   "cell_type": "code",
   "execution_count": null,
   "id": "1c1a995d",
   "metadata": {},
   "outputs": [],
   "source": [
    "cluster"
   ]
  },
  {
   "cell_type": "code",
   "execution_count": null,
   "id": "968bb193",
   "metadata": {},
   "outputs": [],
   "source": [
    "chicago_lat=41.88\n",
    "chicago_lon=(360-87.6298)%360\n",
    "# #\n",
    "# cvals_ = '/Users/hrh/Desktop/TwoMoments21/cvals/cmip6/'"
   ]
  },
  {
   "cell_type": "code",
   "execution_count": null,
   "id": "c80d594f",
   "metadata": {},
   "outputs": [],
   "source": [
    "# calculate global means\n",
    "def get_lat_name(ds):\n",
    "    for lat_name in ['lat', 'latitude']:\n",
    "        if lat_name in ds.coords:\n",
    "            return lat_name\n",
    "    raise RuntimeError(\"Couldn't find a latitude coordinate\")\n",
    "\n",
    "def global_mean(ds):\n",
    "    lat = ds[get_lat_name(ds)]\n",
    "    weight = np.cos(np.deg2rad(lat))\n",
    "    weight /= weight.mean()\n",
    "    other_dims = set(ds.dims) - {'quantile'}\n",
    "    return (ds * weight).mean(other_dims)\n",
    "\n",
    "def detrend_data(ds, central_year):\n",
    "    # Assumes that the ds has coordinates day, year and member.\n",
    "    \n",
    "    #Fit a linear fuction and extract slope\n",
    "    pcoeffs = ds.polyfit(dim='year',deg=1)\n",
    "    slope   = pcoeffs.polyfit_coefficients.sel(degree=1)\n",
    "    \n",
    "    #Calculate trend\n",
    "    ds_trend   = slope*(ds['year']- central_year)\n",
    "    \n",
    "    #Detrend by subtracting the trend from the data\n",
    "    ds_detrended = ds  - ds_trend\n",
    "    \n",
    "    return ds_detrended"
   ]
  },
  {
   "cell_type": "code",
   "execution_count": null,
   "id": "104dbc67",
   "metadata": {},
   "outputs": [],
   "source": [
    "col = intake.open_esm_datastore(\"https://storage.googleapis.com/cmip6/pangeo-cmip6.json\")\n",
    "col"
   ]
  },
  {
   "cell_type": "code",
   "execution_count": null,
   "id": "6e83e867",
   "metadata": {},
   "outputs": [],
   "source": [
    "# 2. Search for maximum temperature for son 30\n",
    "expts = ['ssp370','historical']\n",
    "\n",
    "cat = col.search(\n",
    "    experiment_id=expts,\n",
    "    table_id='day',\n",
    "    variable_id='tasmax',\n",
    "    #grid_label='gn'\n",
    ")\n",
    "\n",
    "query = dict(\n",
    "    experiment_id=expts,\n",
    "    table_id='day',\n",
    "    variable_id=['tasmax'],\n",
    "    member_id = 'r1i1p1f1',\n",
    ")\n",
    "\n",
    "col_subset = col.search(require_all_on=[\"source_id\"], **query)\n",
    "col_subset.df.groupby(\"source_id\")[\n",
    "    [\"experiment_id\", \"variable_id\", \"table_id\",\"member_id\"]\n",
    "].nunique()"
   ]
  },
  {
   "cell_type": "code",
   "execution_count": null,
   "id": "87613d14",
   "metadata": {},
   "outputs": [],
   "source": [
    "df = col_subset.df\n",
    "model_counts = df.groupby('source_id').size()\n",
    "print(model_counts)"
   ]
  },
  {
   "cell_type": "code",
   "execution_count": null,
   "id": "10006a59-b140-44b1-aeaf-206f5c16ee7b",
   "metadata": {},
   "outputs": [],
   "source": []
  },
  {
   "cell_type": "code",
   "execution_count": null,
   "id": "c067a8ff-8a28-45fa-81d4-e0c7f912a2ca",
   "metadata": {},
   "outputs": [],
   "source": [
    "df['activity_id'].unique()"
   ]
  },
  {
   "cell_type": "code",
   "execution_count": null,
   "id": "5c493043",
   "metadata": {},
   "outputs": [],
   "source": [
    "# def drop_all_bounds(ds):\n",
    "#     drop_vars = [vname for vname in ds.coords\n",
    "#                  if (('_bounds') in vname ) or ('_bnds') in vname]\n",
    "#     return ds.drop(drop_vars)\n",
    "\n",
    "# def open_dset(df):\n",
    "#     assert len(df) == 1\n",
    "#     ds = xr.open_zarr(fsspec.get_mapper(df.zstore.values[0]), consolidated=True)\n",
    "#     return drop_all_bounds(ds)\n",
    "\n",
    "# def open_delayed(df):\n",
    "#     return dask.delayed(open_dset)(df)\n",
    "\n",
    "# from collections import defaultdict\n",
    "# dsets = defaultdict(dict)\n",
    "\n",
    "# for group, df in col_subset.df.groupby(by=['source_id', 'experiment_id']):\n",
    "#     dsets[group[0]][group[1]] = open_delayed(df)"
   ]
  },
  {
   "cell_type": "code",
   "execution_count": null,
   "id": "af3b9e8f",
   "metadata": {},
   "outputs": [],
   "source": [
    "# %%time\n",
    "# # Trigger computation\n",
    "# dsets_ = dask.compute(dict(dsets))[0]"
   ]
  },
  {
   "cell_type": "code",
   "execution_count": null,
   "id": "14a29629",
   "metadata": {},
   "outputs": [],
   "source": [
    "#Define coarse grid to regrid on\n",
    "ds_out = xr.Dataset({'lat': (['lat'], np.arange(-90, 91, 1.5)),\n",
    "                     'lon': (['lon'], np.arange(0, 361, 1.5))})"
   ]
  },
  {
   "cell_type": "code",
   "execution_count": null,
   "id": "d1b28e2a",
   "metadata": {},
   "outputs": [],
   "source": [
    "def drop_feb29(ds):\n",
    "    # Check if the dataset's calendar is not '360_day'\n",
    "    calendar = ds.time.encoding.get('calendar', None)\n",
    "    print(ds.attrs['source_id'],calendar)\n",
    "    if calendar != '360_day':\n",
    "        ds = ds.convert_calendar('365_day')\n",
    "    return ds\n",
    "\n",
    "\n",
    "def to_daily(ds):\n",
    "    # Check and deal with different datetime types\n",
    "    if isinstance(ds['time'].values[0], np.datetime64):\n",
    "        pass\n",
    "    elif isinstance(ds['time'].values[0], cftime.datetime):\n",
    "        pass\n",
    "    else:\n",
    "        # convert time coordinate to datetime64 objects\n",
    "        ds['time'] = ds['time'].astype('datetime64[ns]')\n",
    "    year      = ds.time.dt.year\n",
    "    dayofyear = ds.time.dt.dayofyear\n",
    "\n",
    "    # assign new coords\n",
    "    ds = ds.assign_coords(year=(\"time\", year.data), dayofyear=(\"time\", dayofyear.data))\n",
    "\n",
    "    # reshape the array to (..., \"day\", \"year\")\n",
    "    return ds.set_index(time=(\"year\", \"dayofyear\")).unstack(\"time\")  \n",
    "\n",
    "\n",
    "def extract_data(ds):\n",
    "    \"\"\"\n",
    "    Extract data for djf from the dataset 'ds' for specific time and spatial range.\n",
    "\n",
    "    Parameters:\n",
    "    - ds (xarray.Dataset): Input dataset\n",
    "\n",
    "    Returns:\n",
    "    - xarray.Dataset: Dataset subsetted for djf and the specified space and time range.\n",
    "    \"\"\"    \n",
    "\n",
    "    subset1 = ds.sel(year=slice(1850, 1879))\n",
    "    subset2 = ds.sel(year=slice(2071, 2100))\n",
    "    \n",
    "    subset = xr.concat([subset1, subset2], dim='year')  \n",
    "\n",
    "    return subset\n",
    "\n",
    "def is_leap(year):\n",
    "    \"\"\"Check if a year is a leap year.\"\"\"\n",
    "    return (year % 4 == 0) and ((year % 100 != 0) or (year % 400 == 0))\n"
   ]
  },
  {
   "cell_type": "code",
   "execution_count": null,
   "id": "4e064cfd",
   "metadata": {},
   "outputs": [],
   "source": [
    "quants = np.linspace(0,1.0,30)\n",
    "\n",
    "def compute_quantiles(ds, quantiles=quants):\n",
    "    return ds.chunk(dict(year=-1)).quantile(quantiles, dim='year',skipna=False)\n",
    "\n",
    "def regrid(ds, ds_out):\n",
    "    experiment_id = ds.attrs['experiment_id']\n",
    "    source_id     = ds.attrs['source_id']\n",
    "    #regrid\n",
    "    regridder = xe.Regridder(ds, ds_out, 'nearest_s2d', reuse_weights=False)\n",
    "    ds_new    = regridder(ds)\n",
    "    \n",
    "#     #Assign back attributes as regirdder would have deleted attributes \n",
    "    ds_new.attrs['experiment_id'] = experiment_id\n",
    "    ds_new.attrs['source_id'] = source_id\n",
    "    \n",
    "    #print(ds_new.attrs['experiment_id'],ds_new.attrs['source_id'])\n",
    "    #print(ds_new)\n",
    "    return ds_new\n",
    "\n",
    "def process_data(ds, quantiles=quants):\n",
    "    ds = ds.pipe(drop_feb29).pipe(to_daily).pipe(extract_data)\n",
    "    \n",
    "    if len(ds['year']) == 0:\n",
    "        print(\"The dataset is empty. Skipping...\")\n",
    "        return None\n",
    "    \n",
    "    if len(ds['dayofyear'])<365:\n",
    "        print('The dataset has less than 365 days. Skipping ..')\n",
    "        return None\n",
    "    \n",
    "    # # Remove 'time' coordinate\n",
    "    # ds = ds.set_index(time=(\"year\", \"dayofyear\")).unstack(\"time\")  \n",
    "   \n",
    "    \n",
    "    return (ds.pipe(regrid, ds_out=ds_out)\n",
    "           )\n"
   ]
  },
  {
   "cell_type": "code",
   "execution_count": null,
   "id": "deec4002",
   "metadata": {},
   "outputs": [],
   "source": [
    "# with progress.ProgressBar():\n",
    "\n",
    "#     expt_da = xr.DataArray(expts, dims='experiment_id', name='experiment_id',\n",
    "#                            coords={'experiment_id': expts})\n",
    "\n",
    "#     # Initialize an Empty Dictionary for Aligned Datasets:\n",
    "#     dsets_aligned = {}\n",
    "\n",
    "#     # Iterate Over dsets_ Dictionary:\n",
    "\n",
    "#     for k, v in tqdm(dsets_.items()):\n",
    "#         # Initialize a dictionary for this source_id\n",
    "#         dsets_aligned[k] = {}\n",
    "        \n",
    "#         skip_source_id = False\n",
    "\n",
    "#         for expt in expts:\n",
    "#             ds = v[expt].pipe(process_data)\n",
    "\n",
    "#             # Check if the dataset is empty and skip this source_id if so\n",
    "#             if ds is None:\n",
    "#                 print(f\"Skipping {expt} for {k} because the dataset is empty\")\n",
    "#                 skip_source_id = True\n",
    "#                 break\n",
    "            \n",
    "#             # Store the dataset in the dictionary\n",
    "#             # dsets_aligned[k][expt] = ds\n",
    "#             # Compute the dataset and store it in the dictionary\n",
    "#             dsets_aligned[k][expt] = ds.compute()\n",
    "#             print(dsets_aligned[k][expt])\n",
    "\n",
    "#         if skip_source_id:\n",
    "#             del dsets_aligned[k]\n",
    "#             continue"
   ]
  },
  {
   "cell_type": "code",
   "execution_count": null,
   "id": "4b2ee3b8",
   "metadata": {},
   "outputs": [],
   "source": [
    "# with progress.ProgressBar():\n",
    "#     dsets_aligned_ = dask.compute(dsets_aligned)[0]"
   ]
  },
  {
   "cell_type": "code",
   "execution_count": null,
   "id": "1ffb5e52",
   "metadata": {},
   "outputs": [],
   "source": [
    "# source_ids = list(dsets_aligned.keys())\n",
    "# source_da = xr.DataArray(source_ids, dims='source_id', name='source_id',\n",
    "#                          coords={'source_id': source_ids})\n",
    "\n",
    "# # final_ds = {expt: xr.concat([ds.get(expt, xr.Dataset()).reset_coords(drop=True)\n",
    "# #                              for ds in dsets_aligned.values()],\n",
    "# #                             dim=source_da)\n",
    "# #             for expt in expts}\n",
    "\n",
    "# final_ds = {expt: xr.concat([ds[expt].reset_coords(drop=True)\n",
    "#                              for ds in dsets_aligned.values() if expt in ds and ds[expt] is not None],\n",
    "#                             dim=source_da, coords='minimal')\n",
    "#             for expt in expts}\n",
    "\n",
    "# final_ds"
   ]
  },
  {
   "cell_type": "code",
   "execution_count": null,
   "id": "ae3290e2",
   "metadata": {},
   "outputs": [],
   "source": [
    "# final_ds_pi = xr.concat([ds['historical'].reset_coords(drop=True)\n",
    "#                                  for ds in dsets_aligned.values()],\n",
    "#                                 dim=source_da)\n",
    "\n",
    "# final_ds_eoc = xr.concat([ds['ssp370'].reset_coords(drop=True)\n",
    "#                              for ds in dsets_aligned.values()],\n",
    "#                             dim=source_da)\n",
    "# final_ds_eoc"
   ]
  },
  {
   "cell_type": "code",
   "execution_count": null,
   "id": "24b529cc",
   "metadata": {},
   "outputs": [],
   "source": [
    "%%time\n",
    "# final_ds_pi.to_dataset().to_zarr(cvals+'cmip6_pi_quantiles_annual.zarr',mode='w')\n",
    "# final_ds_eoc.to_dataset().to_zarr(cvals+'cmip6_eoc_quantiles_annual.zarr',mode='w')\n",
    "# final_ds_pi.to_zarr(cvals+'cmip6_pi_1.5grid_quantiles_annual.zarr',mode='w')\n",
    "# final_ds_eoc.to_zarr(cvals+'cmip6_eoc_1.5grid_quantiles_annual.zarr',mode='w')"
   ]
  },
  {
   "cell_type": "code",
   "execution_count": null,
   "id": "240dc06d",
   "metadata": {},
   "outputs": [],
   "source": [
    "final_ds_pi  = xr.open_zarr(cvals+'cmip6_pi_quantiles_annual.zarr').tasmax\n",
    "final_ds_eoc = xr.open_zarr(cvals+'cmip6_eoc_quantiles_annual.zarr').tasmax\n",
    "# final_ds_pi  = xr.open_zarr(cvals+'cmip6_pi_1.5grid_quantiles_annual.zarr').tasmax\n",
    "# final_ds_eoc = xr.open_zarr(cvals+'cmip6_eoc_1.5grid_quantiles_annual.zarr').tasmax\n",
    "final_ds_eoc"
   ]
  },
  {
   "cell_type": "markdown",
   "id": "a766998b-3d98-4010-b358-68231d4f0dae",
   "metadata": {},
   "source": [
    "### Detrend data and save"
   ]
  },
  {
   "cell_type": "code",
   "execution_count": null,
   "id": "57d2a34e-251b-486c-98eb-907772b6415d",
   "metadata": {},
   "outputs": [],
   "source": [
    "%%time\n",
    "ds_pi_det  = detrend_data(final_ds_pi,pi_year)\n",
    "ds_eoc_det = detrend_data(final_ds_eoc,eoc_year)\n",
    "ds_eoc_det"
   ]
  },
  {
   "cell_type": "code",
   "execution_count": null,
   "id": "60d7191f",
   "metadata": {},
   "outputs": [],
   "source": [
    "# %%time\n",
    "# pcoeffs_ds_pi  = final_ds_pi.polyfit(dim='year',deg=1,skipna=False)\n",
    "# pcoeffs_ds_eoc = final_ds_eoc.polyfit(dim='year',deg=1,skipna=False)\n",
    "# pcoeffs_ds_eoc"
   ]
  },
  {
   "cell_type": "code",
   "execution_count": null,
   "id": "17100c3f-e42b-4208-b872-ccbfb63f23ff",
   "metadata": {},
   "outputs": [],
   "source": [
    "# %%time\n",
    "# m_pi  = pcoeffs_ds_pi.polyfit_coefficients.sel(degree=1)\n",
    "# m_eoc = pcoeffs_ds_eoc.polyfit_coefficients.sel(degree=1)\n",
    "# m_pi"
   ]
  },
  {
   "cell_type": "code",
   "execution_count": null,
   "id": "a71763d0-7121-40c6-b14c-3a7baa9e0c45",
   "metadata": {},
   "outputs": [],
   "source": [
    "# %%time\n",
    "# #Save slopes\n",
    "# m_pi.to_dataset().to_zarr(cvals+'cmip6_pi_trend.zarr',mode='w')\n",
    "# m_eoc.to_dataset().to_zarr(cvals+'cmip6_eoc_trend.zarr',mode='w')"
   ]
  },
  {
   "cell_type": "code",
   "execution_count": null,
   "id": "4bc07d05-17be-4390-ade4-dd573683e726",
   "metadata": {},
   "outputs": [],
   "source": [
    "# m_pi  = xr.open_zarr(cvals+'cmip6_pi_trend.zarr').polyfit_coefficients\n",
    "# m_eoc = xr.open_zarr(cvals+'cmip6_eoc_trend.zarr').polyfit_coefficients"
   ]
  },
  {
   "cell_type": "code",
   "execution_count": null,
   "id": "a1a0cc26-7720-4fb1-bbeb-a879aa16aafc",
   "metadata": {},
   "outputs": [],
   "source": [
    "# #Slopes for Chicago:\n",
    "# print(m_eoc.sel(dayofyear=365).sel(lat=chicago_lat,lon=chicago_lon,method='nearest').values)"
   ]
  },
  {
   "cell_type": "code",
   "execution_count": null,
   "id": "a32e72a4-7df9-4571-9fe0-498c7a5ac9fc",
   "metadata": {},
   "outputs": [],
   "source": [
    "# print(m_pi.sel(dayofyear=365).sel(lat=chicago_lat,lon=chicago_lon,method='nearest').values)"
   ]
  },
  {
   "cell_type": "code",
   "execution_count": null,
   "id": "b61f207f",
   "metadata": {},
   "outputs": [],
   "source": [
    "# #Calculate trend\n",
    "# pi_trend   = m_pi*(final_ds_pi['year']  - pi_year)\n",
    "# eoc_trend  = m_eoc*(final_ds_eoc['year']- eoc_year)\n",
    "# #Subtract trend\n",
    "# ds_pi_det  = final_ds_pi  - pi_trend\n",
    "# ds_eoc_det = final_ds_eoc - eoc_trend"
   ]
  },
  {
   "cell_type": "code",
   "execution_count": null,
   "id": "a03a8eac-be3f-4995-984f-2d09788a2f3b",
   "metadata": {},
   "outputs": [],
   "source": [
    "# #\n",
    "# ds_pi_det  = ds_pi_det.rename('tasmax')\n",
    "# ds_eoc_det = ds_eoc_det.rename('tasmax')\n",
    "# ds_pi_det"
   ]
  },
  {
   "cell_type": "code",
   "execution_count": null,
   "id": "316a9093-c74e-4e0c-a84e-9ca33f275249",
   "metadata": {},
   "outputs": [],
   "source": [
    "# %%time\n",
    "# ds_eoc_det.sel(dayofyear=365).sel(lat=chicago_lat,lon=chicago_lon,method='nearest').sel(source_id='AWI-CM-1-1-MR').values"
   ]
  },
  {
   "cell_type": "code",
   "execution_count": null,
   "id": "161eecf1-180b-47e4-a6aa-905c4bc44645",
   "metadata": {},
   "outputs": [],
   "source": [
    "# ds_eoc_det.sel(dayofyear=365).sel(lat=chicago_lat,lon=chicago_lon,method='nearest').sel(source_id='AWI-CM-1-1-MR').values"
   ]
  },
  {
   "cell_type": "code",
   "execution_count": null,
   "id": "43eabaf6-6504-4a1b-8f2d-ef8888941115",
   "metadata": {},
   "outputs": [],
   "source": [
    "# final_ds_eoc.sel(dayofyear=365).sel(lat=chicago_lat,lon=chicago_lon,method='nearest').sel(source_id='AWI-CM-1-1-MR').values"
   ]
  },
  {
   "cell_type": "code",
   "execution_count": null,
   "id": "e433255d-86b7-41a3-b4b9-b6b1b2f827bd",
   "metadata": {},
   "outputs": [],
   "source": [
    "ds_pi_det['source_id']  = ds_pi_det['source_id'].astype(str)\n",
    "ds_eoc_det['source_id'] = ds_eoc_det['source_id'].astype(str)"
   ]
  },
  {
   "cell_type": "code",
   "execution_count": null,
   "id": "68e138b5-da7e-4b51-800b-678dad07347a",
   "metadata": {},
   "outputs": [],
   "source": [
    "# %%time\n",
    "# ds_pi_det.to_dataset().to_zarr(cvals+'cmip6_pi_ann_detrended.zarr',mode='w')\n",
    "# ds_eoc_det.to_dataset().to_zarr(cvals+'cmip6_eoc_ann_detrended.zarr',mode='w')\n",
    "# ds_pi_det.to_dataset().to_zarr(cvals+'cmip6_pi_ann_1.5grid_detrended.zarr',mode='w')\n",
    "# ds_eoc_det.to_dataset().to_zarr(cvals+'cmip6_eoc_ann_1.5grid_detrended.zarr',mode='w')"
   ]
  },
  {
   "cell_type": "markdown",
   "id": "2530cba8-2c1c-474a-94fe-5b9dbc1582bb",
   "metadata": {},
   "source": [
    "### Compute global and annual mean"
   ]
  },
  {
   "cell_type": "code",
   "execution_count": null,
   "id": "96c31b07",
   "metadata": {},
   "outputs": [],
   "source": [
    "ds_pi_det  = xr.open_zarr(cvals+'cmip6_pi_ann_detrended.zarr').tasmax\n",
    "ds_eoc_det = xr.open_zarr(cvals+'cmip6_eoc_ann_detrended.zarr').tasmax\n",
    "# ds_pi_det  = xr.open_zarr(cvals+'cmip6_pi_ann_1.5grid_detrended.zarr').tasmax\n",
    "# ds_eoc_det = xr.open_zarr(cvals+'cmip6_eoc_ann_1.5grid_detrended.zarr').tasmax\n",
    "#\n",
    "qpi  = compute_quantiles(ds_pi_det)\n",
    "qeoc = compute_quantiles(ds_eoc_det)\n",
    "qano = qeoc - qpi\n",
    "qano"
   ]
  },
  {
   "cell_type": "code",
   "execution_count": null,
   "id": "6bc0c913-674d-4459-b91c-caf4f673725e",
   "metadata": {},
   "outputs": [],
   "source": [
    "# %%time\n",
    "# test = qano.sel(dayofyear=365).sel(lat=chicago_lat,lon=chicago_lon,method='nearest').\\\n",
    "# sel(quantile=0.03448,method='nearest').values"
   ]
  },
  {
   "cell_type": "code",
   "execution_count": null,
   "id": "16c61718-2841-429c-8e72-b28651946bf8",
   "metadata": {},
   "outputs": [],
   "source": [
    "# test"
   ]
  },
  {
   "cell_type": "code",
   "execution_count": null,
   "id": "c2f852c8-7641-4190-8d9f-0ed1ce59882a",
   "metadata": {},
   "outputs": [],
   "source": [
    "# test.std()"
   ]
  },
  {
   "cell_type": "code",
   "execution_count": null,
   "id": "9e77a56f",
   "metadata": {},
   "outputs": [],
   "source": [
    "%%time\n",
    "qano_std            = qano.std(dim='source_id')\n",
    "qano_cmip_mean      = qano.mean(dim='source_id')\n",
    "qano_sq_deviation   = (qano - qano_cmip_mean)**2\n",
    "qano_sq_deviation"
   ]
  },
  {
   "cell_type": "code",
   "execution_count": null,
   "id": "2ebd385a-fdbb-4c80-a3c7-fa3ebe02e8f2",
   "metadata": {},
   "outputs": [],
   "source": [
    "%%time \n",
    "qano_mae = global_mean(np.abs(qano))\n",
    "qano_mae = qano_mae.rename('tmax')\n",
    "qano_mae"
   ]
  },
  {
   "cell_type": "code",
   "execution_count": null,
   "id": "5fdad5c4-d65b-4104-a87c-54983a83a36f",
   "metadata": {},
   "outputs": [],
   "source": [
    "qano_mae.to_dataset().to_zarr(cvals + 'cmip6_absano_agmean.zarr')"
   ]
  },
  {
   "cell_type": "code",
   "execution_count": null,
   "id": "824d82e9-9060-4a92-bcff-b66da925a188",
   "metadata": {},
   "outputs": [],
   "source": [
    "qano_std_agmean  = global_mean(qano_std)\n",
    "qano_msd         = global_mean(qano_sq_deviation)\n",
    "qano_rmsd        = np.sqrt(qano_msd)\n",
    "qano_rmsd"
   ]
  },
  {
   "cell_type": "code",
   "execution_count": null,
   "id": "2c328867-d684-4b85-9007-bc08ed2d0605",
   "metadata": {},
   "outputs": [],
   "source": [
    "# %%time\n",
    "# qano_std.sel(dayofyear=365).sel(lat=chicago_lat,lon=chicago_lon,method='nearest').values"
   ]
  },
  {
   "cell_type": "code",
   "execution_count": null,
   "id": "76ad4f69-e223-4778-bf7e-b96f46d17cbd",
   "metadata": {},
   "outputs": [],
   "source": [
    "# %%time\n",
    "# qano_std.sel(dayofyear=365).sel(lat=1,lon=5,method='nearest').values"
   ]
  },
  {
   "cell_type": "code",
   "execution_count": null,
   "id": "41d667cc",
   "metadata": {},
   "outputs": [],
   "source": [
    "%%time\n",
    "qano_std_agmean = qano_std_agmean.rename('tasmax_qanomaly')\n",
    "qano_rmsd       = qano_rmsd.rename('qanomaly_rmsd')\n",
    "# qano_std_agmean.to_dataset().to_zarr(cvals+'cmip6_quantiles_ano_agmean.zarr',mode='w')\n",
    "# qano_rmsd.to_dataset().to_zarr(cvals+'cmip6_qano_ag_rmsd.zarr',mode='w')\n",
    "# qano_std_agmean.to_dataset().to_zarr(cvals+'cmip6_quantiles_ano_1.5grid_agmean.zarr',mode='w')\n",
    "# qano_rmsd.to_dataset().to_zarr(cvals+'cmip6_qano_ag_1.5grid_rmsd.zarr',mode='w')"
   ]
  },
  {
   "cell_type": "code",
   "execution_count": null,
   "id": "7a0fe962-1dd3-4d6e-82fd-2bd3e7510bb7",
   "metadata": {},
   "outputs": [],
   "source": [
    "# qano_std_agmean = xr.open_zarr(cvals+'cmip6_quantiles_ano_1.5grid_agmean.zarr').tasmax_qanomaly\n",
    "# qano_std_agmean.values"
   ]
  },
  {
   "cell_type": "code",
   "execution_count": null,
   "id": "80e225a5",
   "metadata": {},
   "outputs": [],
   "source": [
    "qano_std_agmean = xr.open_zarr(cvals+'cmip6_quantiles_ano_agmean.zarr').tasmax_qanomaly\n",
    "qano_std_agmean.values"
   ]
  },
  {
   "cell_type": "code",
   "execution_count": null,
   "id": "3c063be9-8c36-43bc-8fa3-bd7a1caf507a",
   "metadata": {},
   "outputs": [],
   "source": [
    "qano_rmsd = xr.open_zarr(cvals+'cmip6_qano_ag_rmsd.zarr').qanomaly_rmsd\n",
    "qano_rmsd.values"
   ]
  },
  {
   "cell_type": "code",
   "execution_count": null,
   "id": "76d9e12f-8831-4634-9296-99428a80500c",
   "metadata": {},
   "outputs": [],
   "source": [
    "qano_std_agmean.plot()\n",
    "plt.xlabel('Probability p')\n",
    "plt.ylabel('Global, annual mean of standard deviation (K) ')\n",
    "plt.title(r'Global, annual mean of stdev in $Q_f(p) -Q_i(p)$ among 18 CMIP6 models')\n",
    "props = dict(boxstyle='round', facecolor='wheat', alpha=0.5)\n",
    "plt.text(0.05, 0.95, r'18 models, $1.5^{\\circ} \\times 1.5^{\\circ}$ grid', transform=plt.gca().transAxes, fontsize=14,\n",
    "        verticalalignment='top', bbox=props)\n",
    "plt.ylim(0,1.8)\n",
    "plt.xlim(0,1.0)"
   ]
  },
  {
   "cell_type": "code",
   "execution_count": null,
   "id": "e54aa200",
   "metadata": {},
   "outputs": [],
   "source": [
    "qano_std_agmean.plot()\n",
    "plt.xlabel('Probability p')\n",
    "plt.ylabel('Global, annual mean of standard deviation (K) ')\n",
    "plt.title(r'Global, annual mean of stdev in $Q_f(p) -Q_i(p)$ among 18 CMIP6 models')\n",
    "props = dict(boxstyle='round', facecolor='wheat', alpha=0.5)\n",
    "plt.text(0.05, 0.95, r'18 models, $3^{\\circ} \\times 3^{\\circ}$ grid', transform=plt.gca().transAxes, fontsize=14,\n",
    "        verticalalignment='top', bbox=props)\n",
    "plt.ylim(0,1.8)\n",
    "plt.xlim(0,1.0)"
   ]
  },
  {
   "cell_type": "code",
   "execution_count": null,
   "id": "442534d9-5fa5-4bd1-b22b-36f72a00dcd4",
   "metadata": {},
   "outputs": [],
   "source": [
    "qano_rmsd.plot()\n",
    "plt.xlabel('Probability p')\n",
    "plt.ylabel('RMSD (K) ')\n",
    "plt.title(r'RMSD of $Q_f(p) -Q_i(p)$')\n",
    "props = dict(boxstyle='round', facecolor='wheat', alpha=0.5)\n",
    "plt.text(0.05, 0.95, r'18 models, $3^{\\circ} \\times 3^{\\circ}$ grid', transform=plt.gca().transAxes, fontsize=14,\n",
    "        verticalalignment='top', bbox=props)\n",
    "plt.ylim(0,2.5)\n",
    "plt.xlim(0,1.0)"
   ]
  }
 ],
 "metadata": {
  "kernelspec": {
   "display_name": "python:osdf",
   "language": "python",
   "name": "osdf"
  },
  "language_info": {
   "codemirror_mode": {
    "name": "ipython",
    "version": 3
   },
   "file_extension": ".py",
   "mimetype": "text/x-python",
   "name": "python",
   "nbconvert_exporter": "python",
   "pygments_lexer": "ipython3",
   "version": "3.10.13"
  }
 },
 "nbformat": 4,
 "nbformat_minor": 5
}
