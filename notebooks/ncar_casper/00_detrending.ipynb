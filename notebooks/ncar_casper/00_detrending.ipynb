{
 "cells": [
  {
   "cell_type": "markdown",
   "id": "359a540e-e494-44da-9fb3-4c6ee3e4e36d",
   "metadata": {},
   "source": [
    "# Detrend model data\n",
    "- This is a data pre-processing notebook\n",
    "- We will read CESM2 LENS daily temperature data (max,min and mean) and detrend it"
   ]
  },
  {
   "cell_type": "code",
   "execution_count": 1,
   "id": "18538c8f-e1cd-409d-93aa-57680852503e",
   "metadata": {},
   "outputs": [],
   "source": [
    "import numpy as np\n",
    "import xarray as xr\n",
    "import matplotlib.pyplot as plt\n",
    "import matplotlib as mtplt\n",
    "import glob\n",
    "import intake\n",
    "import zarr\n",
    "import nc_time_axis\n",
    "#import xskillscore as xs\n",
    "import cartopy as cart\n",
    "import matplotlib.colors as mcolors\n",
    "import matplotlib.cm as cm\n",
    "from datetime import datetime, timedelta\n",
    "import pandas as pd"
   ]
  },
  {
   "cell_type": "code",
   "execution_count": 2,
   "id": "d840a8b8-89cb-4c18-83c9-80b0f85dae8b",
   "metadata": {},
   "outputs": [],
   "source": [
    "import dask \n",
    "from dask_jobqueue import PBSCluster\n",
    "from dask.distributed import Client\n",
    "from dask.distributed import performance_report"
   ]
  },
  {
   "cell_type": "code",
   "execution_count": 3,
   "id": "7c2caf42-9357-4138-b03c-d857080b44e6",
   "metadata": {},
   "outputs": [],
   "source": [
    "chic_lat  = 41.8781\n",
    "chic_lon  = (360-87.6298)%360\n",
    "ben_lat   = 12.9716\n",
    "ben_lon   = 77.5946\n",
    "########## CONUS ############\n",
    "#CONUS lat-lon\n",
    "top       = 50.0 # north lat\n",
    "left      = -124.7844079+360 # west long\n",
    "right     = -66.9513812+360 # east long\n",
    "bottom    =  24.7433195 # south lat\n",
    "################################\n",
    "rda_scratch = '/gpfs/csfs1/collections/rda/scratch/harshah'\n",
    "catalog_url = 'https://data.rda.ucar.edu/harshah/intake_catalogs/posix/cesm2-lens/rda-cesm2-lens-posix.json'\n",
    "rda_data    = '/gpfs/csfs1/collections/rda/data/harshah/'\n",
    "###\n",
    "tmean_path  = rda_data + 'mdm_data/tmean/'\n",
    "tmax_path   = rda_data + 'mdm_data/tmax/'\n",
    "tmin_path   = rda_data + 'mdm_data/tmin/'\n",
    "############\n",
    "pi_year  = 1865\n",
    "eoc_year = 2085\n",
    "#\n",
    "pi_year0  = '1850'\n",
    "pi_year1  = '1879'\n",
    "ic_year0  = '2071'\n",
    "ic_year1  = '2100'\n",
    "doy       = 211 # day_of_year"
   ]
  },
  {
   "cell_type": "code",
   "execution_count": 4,
   "id": "675e832b-f93f-4475-8ed0-c4e49c7b2dd7",
   "metadata": {},
   "outputs": [],
   "source": [
    "def no_leap_date(day_of_year):\n",
    "    # Start from the first day of a non-leap year\n",
    "    start_date = datetime(2021, 1, 1)\n",
    "\n",
    "    # Calculate the actual date (subtract 1 because January 1st is day 1)\n",
    "    actual_date = start_date + timedelta(days=day_of_year - 1)\n",
    "\n",
    "    # Format the date to get 'Month Day'\n",
    "    return actual_date.strftime('%B %d')\n",
    "###############################\n",
    "date = no_leap_date(doy)"
   ]
  },
  {
   "cell_type": "code",
   "execution_count": 5,
   "id": "aacc2e89-2fb8-4476-b285-80b1943a37f2",
   "metadata": {},
   "outputs": [],
   "source": [
    "def to_daily(ds):\n",
    "    year       = ds.time.dt.year\n",
    "    dayofyear  = ds.time.dt.dayofyear\n",
    "\n",
    "    # assign new coords\n",
    "    ds = ds.assign_coords(year=(\"time\", year.data), dayofyear=(\"time\", dayofyear.data))\n",
    "\n",
    "    # reshape the array to (..., \"day\", \"year\")\n",
    "    return ds.set_index(time=(\"year\", \"dayofyear\")).unstack(\"time\") "
   ]
  },
  {
   "cell_type": "code",
   "execution_count": 6,
   "id": "719bbdd4-c453-4091-a66d-22276d964f46",
   "metadata": {},
   "outputs": [],
   "source": [
    "def detrend_all(ds, central_year):\n",
    "    # Assumes that the ds has coordinates day, year and member.\n",
    "    \n",
    "    #Fit a linear fuction and extract slope\n",
    "    pcoeffs = ds.mean('member_id').polyfit(dim='year',deg=1)\n",
    "    #print(pcoeffs)\n",
    "    slope   = pcoeffs.polyfit_coefficients.sel(degree=1)\n",
    "    \n",
    "    #Calculate trend\n",
    "    ds_trend   = slope*(ds['year']- central_year)\n",
    "    \n",
    "    #Detrend by subtracting the trend from the data\n",
    "    ds_detrended = ds  - ds_trend\n",
    "    \n",
    "    return ds_detrended"
   ]
  },
  {
   "cell_type": "code",
   "execution_count": 7,
   "id": "89f8386c-f907-4d7b-8c88-a4fb78eae66b",
   "metadata": {},
   "outputs": [],
   "source": [
    "def implement_mdm(ds_obs,init_mean,final_mean,init_std,final_std):\n",
    "    # Assuming coordinates year and day for ds_obs\n",
    "    obs_mean = ds_obs.mean('year')\n",
    "    sratio   = final_std/init_std\n",
    "    ds_mdm   = obs_mean + (final_mean - init_mean) + sratio*(ds_obs - obs_mean)        \n",
    "    return ds_mdm\n",
    "\n",
    "def implement_qdm(qobs, qinit, qfinal):\n",
    "    # Implement quantile delta mapping. Assumes model data has corrd called 'mtime'\n",
    "    #qinit    = init_data.quantile(quants,dim='mtime')\n",
    "    #qfinal   = final_data.quantile(quants,dim='mtime')\n",
    "    ds_qdm   = qobs + (qfinal - qinit)\n",
    "    return ds_qdm\n",
    "\n",
    "def is_sorted(arr):\n",
    "    return np.all(arr[:-1] <= arr[1:]) or np.all(arr[:-1] >= arr[1:])\n",
    "\n",
    "#\n",
    "quants = np.linspace(0,1.0,30)\n",
    "def compute_quantiles(ds, quantiles=quants):\n",
    "    return ds.chunk(dict(year=-1)).quantile(quantiles, dim='year',skipna=False)"
   ]
  },
  {
   "cell_type": "code",
   "execution_count": 8,
   "id": "14fc0221-0937-42da-bc75-15698af2d326",
   "metadata": {},
   "outputs": [],
   "source": [
    "# Create a PBS cluster object\n",
    "cluster = PBSCluster(\n",
    "    job_name = 'dask-wk24-hpc',\n",
    "    cores = 1,\n",
    "    memory = '8GiB',\n",
    "    processes = 1,\n",
    "    local_directory = rda_scratch+'/dask/spill',\n",
    "    log_directory = rda_scratch + '/dask/logs/',\n",
    "    resource_spec = 'select=1:ncpus=1:mem=8GB',\n",
    "    queue = 'casper',\n",
    "    walltime = '5:00:00',\n",
    "    #interface = 'ib0'\n",
    "    interface = 'ext'\n",
    ")"
   ]
  },
  {
   "cell_type": "code",
   "execution_count": 9,
   "id": "b3a12b4e-9e45-4fdd-9b4c-4a23f435d8a5",
   "metadata": {},
   "outputs": [
    {
     "data": {
      "text/html": [
       "<div class=\"jp-RenderedHTMLCommon jp-RenderedHTML jp-mod-trusted jp-OutputArea-output\">\n",
       "    <div style=\"width: 24px; height: 24px; background-color: #e1e1e1; border: 3px solid #9D9D9D; border-radius: 5px; position: absolute;\">\n",
       "    </div>\n",
       "    <div style=\"margin-left: 48px;\">\n",
       "        <h3 style=\"margin-bottom: 0px; margin-top: 0px;\">PBSCluster</h3>\n",
       "        <p style=\"color: #9D9D9D; margin-bottom: 0px;\">6fdfb01a</p>\n",
       "        <table style=\"width: 100%; text-align: left;\">\n",
       "            <tr>\n",
       "                <td style=\"text-align: left;\">\n",
       "                    <strong>Dashboard:</strong> <a href=\"https://jupyterhub.hpc.ucar.edu/stable/user/harshah/proxy/8787/status\" target=\"_blank\">https://jupyterhub.hpc.ucar.edu/stable/user/harshah/proxy/8787/status</a>\n",
       "                </td>\n",
       "                <td style=\"text-align: left;\">\n",
       "                    <strong>Workers:</strong> 0\n",
       "                </td>\n",
       "            </tr>\n",
       "            <tr>\n",
       "                <td style=\"text-align: left;\">\n",
       "                    <strong>Total threads:</strong> 0\n",
       "                </td>\n",
       "                <td style=\"text-align: left;\">\n",
       "                    <strong>Total memory:</strong> 0 B\n",
       "                </td>\n",
       "            </tr>\n",
       "            \n",
       "        </table>\n",
       "\n",
       "        <details>\n",
       "            <summary style=\"margin-bottom: 20px;\">\n",
       "                <h3 style=\"display: inline;\">Scheduler Info</h3>\n",
       "            </summary>\n",
       "\n",
       "            <div style=\"\">\n",
       "    <div>\n",
       "        <div style=\"width: 24px; height: 24px; background-color: #FFF7E5; border: 3px solid #FF6132; border-radius: 5px; position: absolute;\"> </div>\n",
       "        <div style=\"margin-left: 48px;\">\n",
       "            <h3 style=\"margin-bottom: 0px;\">Scheduler</h3>\n",
       "            <p style=\"color: #9D9D9D; margin-bottom: 0px;\">Scheduler-c8c072f1-9b6c-410a-ac30-95de2d229706</p>\n",
       "            <table style=\"width: 100%; text-align: left;\">\n",
       "                <tr>\n",
       "                    <td style=\"text-align: left;\">\n",
       "                        <strong>Comm:</strong> tcp://128.117.208.97:38931\n",
       "                    </td>\n",
       "                    <td style=\"text-align: left;\">\n",
       "                        <strong>Workers:</strong> 0\n",
       "                    </td>\n",
       "                </tr>\n",
       "                <tr>\n",
       "                    <td style=\"text-align: left;\">\n",
       "                        <strong>Dashboard:</strong> <a href=\"https://jupyterhub.hpc.ucar.edu/stable/user/harshah/proxy/8787/status\" target=\"_blank\">https://jupyterhub.hpc.ucar.edu/stable/user/harshah/proxy/8787/status</a>\n",
       "                    </td>\n",
       "                    <td style=\"text-align: left;\">\n",
       "                        <strong>Total threads:</strong> 0\n",
       "                    </td>\n",
       "                </tr>\n",
       "                <tr>\n",
       "                    <td style=\"text-align: left;\">\n",
       "                        <strong>Started:</strong> Just now\n",
       "                    </td>\n",
       "                    <td style=\"text-align: left;\">\n",
       "                        <strong>Total memory:</strong> 0 B\n",
       "                    </td>\n",
       "                </tr>\n",
       "            </table>\n",
       "        </div>\n",
       "    </div>\n",
       "\n",
       "    <details style=\"margin-left: 48px;\">\n",
       "        <summary style=\"margin-bottom: 20px;\">\n",
       "            <h3 style=\"display: inline;\">Workers</h3>\n",
       "        </summary>\n",
       "\n",
       "        \n",
       "\n",
       "    </details>\n",
       "</div>\n",
       "\n",
       "        </details>\n",
       "    </div>\n",
       "</div>"
      ],
      "text/plain": [
       "PBSCluster(6fdfb01a, 'tcp://128.117.208.97:38931', workers=0, threads=0, memory=0 B)"
      ]
     },
     "metadata": {},
     "output_type": "display_data"
    }
   ],
   "source": [
    "cluster"
   ]
  },
  {
   "cell_type": "code",
   "execution_count": 10,
   "id": "b44ba3dd-6266-4485-9914-324b44b36a1c",
   "metadata": {},
   "outputs": [],
   "source": [
    "cluster.scale(12)"
   ]
  },
  {
   "cell_type": "code",
   "execution_count": 11,
   "id": "42ae48dd-c8e0-4fa7-85c9-6b40fd0059ce",
   "metadata": {},
   "outputs": [],
   "source": [
    "# cluster"
   ]
  },
  {
   "cell_type": "markdown",
   "id": "7d769aab-2095-401e-b421-2798bd200d2d",
   "metadata": {},
   "source": [
    "## Load CESM2 LENS zarr data"
   ]
  },
  {
   "cell_type": "code",
   "execution_count": 12,
   "id": "ed90b829-2c50-4f78-a88f-b7f293229c89",
   "metadata": {},
   "outputs": [
    {
     "data": {
      "text/html": [
       "<p><strong>aws-cesm2-le catalog with 40 dataset(s) from 322 asset(s)</strong>:</p> <div>\n",
       "<style scoped>\n",
       "    .dataframe tbody tr th:only-of-type {\n",
       "        vertical-align: middle;\n",
       "    }\n",
       "\n",
       "    .dataframe tbody tr th {\n",
       "        vertical-align: top;\n",
       "    }\n",
       "\n",
       "    .dataframe thead th {\n",
       "        text-align: right;\n",
       "    }\n",
       "</style>\n",
       "<table border=\"1\" class=\"dataframe\">\n",
       "  <thead>\n",
       "    <tr style=\"text-align: right;\">\n",
       "      <th></th>\n",
       "      <th>unique</th>\n",
       "    </tr>\n",
       "  </thead>\n",
       "  <tbody>\n",
       "    <tr>\n",
       "      <th>Unnamed: 0</th>\n",
       "      <td>322</td>\n",
       "    </tr>\n",
       "    <tr>\n",
       "      <th>variable</th>\n",
       "      <td>53</td>\n",
       "    </tr>\n",
       "    <tr>\n",
       "      <th>long_name</th>\n",
       "      <td>51</td>\n",
       "    </tr>\n",
       "    <tr>\n",
       "      <th>component</th>\n",
       "      <td>4</td>\n",
       "    </tr>\n",
       "    <tr>\n",
       "      <th>experiment</th>\n",
       "      <td>2</td>\n",
       "    </tr>\n",
       "    <tr>\n",
       "      <th>forcing_variant</th>\n",
       "      <td>2</td>\n",
       "    </tr>\n",
       "    <tr>\n",
       "      <th>frequency</th>\n",
       "      <td>3</td>\n",
       "    </tr>\n",
       "    <tr>\n",
       "      <th>vertical_levels</th>\n",
       "      <td>3</td>\n",
       "    </tr>\n",
       "    <tr>\n",
       "      <th>spatial_domain</th>\n",
       "      <td>3</td>\n",
       "    </tr>\n",
       "    <tr>\n",
       "      <th>units</th>\n",
       "      <td>20</td>\n",
       "    </tr>\n",
       "    <tr>\n",
       "      <th>start_time</th>\n",
       "      <td>4</td>\n",
       "    </tr>\n",
       "    <tr>\n",
       "      <th>end_time</th>\n",
       "      <td>7</td>\n",
       "    </tr>\n",
       "    <tr>\n",
       "      <th>path</th>\n",
       "      <td>313</td>\n",
       "    </tr>\n",
       "    <tr>\n",
       "      <th>derived_variable</th>\n",
       "      <td>0</td>\n",
       "    </tr>\n",
       "  </tbody>\n",
       "</table>\n",
       "</div>"
      ],
      "text/plain": [
       "<IPython.core.display.HTML object>"
      ]
     },
     "metadata": {},
     "output_type": "display_data"
    }
   ],
   "source": [
    "# Open collection description file using intake\n",
    "col         = intake.open_esm_datastore(catalog_url)\n",
    "col"
   ]
  },
  {
   "cell_type": "code",
   "execution_count": 13,
   "id": "f4614c12-65b5-405f-aea4-fc6fe3b1530a",
   "metadata": {},
   "outputs": [
    {
     "data": {
      "text/html": [
       "<p><strong>aws-cesm2-le catalog with 4 dataset(s) from 4 asset(s)</strong>:</p> <div>\n",
       "<style scoped>\n",
       "    .dataframe tbody tr th:only-of-type {\n",
       "        vertical-align: middle;\n",
       "    }\n",
       "\n",
       "    .dataframe tbody tr th {\n",
       "        vertical-align: top;\n",
       "    }\n",
       "\n",
       "    .dataframe thead th {\n",
       "        text-align: right;\n",
       "    }\n",
       "</style>\n",
       "<table border=\"1\" class=\"dataframe\">\n",
       "  <thead>\n",
       "    <tr style=\"text-align: right;\">\n",
       "      <th></th>\n",
       "      <th>unique</th>\n",
       "    </tr>\n",
       "  </thead>\n",
       "  <tbody>\n",
       "    <tr>\n",
       "      <th>Unnamed: 0</th>\n",
       "      <td>4</td>\n",
       "    </tr>\n",
       "    <tr>\n",
       "      <th>variable</th>\n",
       "      <td>1</td>\n",
       "    </tr>\n",
       "    <tr>\n",
       "      <th>long_name</th>\n",
       "      <td>1</td>\n",
       "    </tr>\n",
       "    <tr>\n",
       "      <th>component</th>\n",
       "      <td>1</td>\n",
       "    </tr>\n",
       "    <tr>\n",
       "      <th>experiment</th>\n",
       "      <td>2</td>\n",
       "    </tr>\n",
       "    <tr>\n",
       "      <th>forcing_variant</th>\n",
       "      <td>2</td>\n",
       "    </tr>\n",
       "    <tr>\n",
       "      <th>frequency</th>\n",
       "      <td>1</td>\n",
       "    </tr>\n",
       "    <tr>\n",
       "      <th>vertical_levels</th>\n",
       "      <td>1</td>\n",
       "    </tr>\n",
       "    <tr>\n",
       "      <th>spatial_domain</th>\n",
       "      <td>1</td>\n",
       "    </tr>\n",
       "    <tr>\n",
       "      <th>units</th>\n",
       "      <td>1</td>\n",
       "    </tr>\n",
       "    <tr>\n",
       "      <th>start_time</th>\n",
       "      <td>2</td>\n",
       "    </tr>\n",
       "    <tr>\n",
       "      <th>end_time</th>\n",
       "      <td>2</td>\n",
       "    </tr>\n",
       "    <tr>\n",
       "      <th>path</th>\n",
       "      <td>4</td>\n",
       "    </tr>\n",
       "    <tr>\n",
       "      <th>derived_variable</th>\n",
       "      <td>0</td>\n",
       "    </tr>\n",
       "  </tbody>\n",
       "</table>\n",
       "</div>"
      ],
      "text/plain": [
       "<IPython.core.display.HTML object>"
      ]
     },
     "metadata": {},
     "output_type": "display_data"
    }
   ],
   "source": [
    "mean_temps = col.search(variable ='TREFHT', frequency ='daily')\n",
    "mean_temps"
   ]
  },
  {
   "cell_type": "markdown",
   "id": "7c1cce16-ba56-41e9-b65e-72d3bd0552ee",
   "metadata": {},
   "source": [
    "### Detrend daily mean temperatures"
   ]
  },
  {
   "cell_type": "code",
   "execution_count": 14,
   "id": "5fde0615-0848-483b-953d-17787e3caaa7",
   "metadata": {},
   "outputs": [
    {
     "name": "stdout",
     "output_type": "stream",
     "text": [
      "\n",
      "--> The keys in the returned dictionary of datasets are constructed as follows:\n",
      "\t'component.experiment.frequency.forcing_variant'\n"
     ]
    },
    {
     "data": {
      "text/html": [
       "\n",
       "<style>\n",
       "    /* Turns off some styling */\n",
       "    progress {\n",
       "        /* gets rid of default border in Firefox and Opera. */\n",
       "        border: none;\n",
       "        /* Needs to be in here for Safari polyfill so background images work as expected. */\n",
       "        background-size: auto;\n",
       "    }\n",
       "    progress:not([value]), progress:not([value])::-webkit-progress-bar {\n",
       "        background: repeating-linear-gradient(45deg, #7e7e7e, #7e7e7e 10px, #5c5c5c 10px, #5c5c5c 20px);\n",
       "    }\n",
       "    .progress-bar-interrupted, .progress-bar-interrupted::-webkit-progress-bar {\n",
       "        background: #F44336;\n",
       "    }\n",
       "</style>\n"
      ],
      "text/plain": [
       "<IPython.core.display.HTML object>"
      ]
     },
     "metadata": {},
     "output_type": "display_data"
    },
    {
     "data": {
      "text/html": [
       "\n",
       "    <div>\n",
       "      <progress value='4' class='' max='4' style='width:300px; height:20px; vertical-align: middle;'></progress>\n",
       "      100.00% [4/4 00:02&lt;00:00]\n",
       "    </div>\n",
       "    "
      ],
      "text/plain": [
       "<IPython.core.display.HTML object>"
      ]
     },
     "metadata": {},
     "output_type": "display_data"
    }
   ],
   "source": [
    "ds_tmean = mean_temps.to_dataset_dict()"
   ]
  },
  {
   "cell_type": "code",
   "execution_count": 15,
   "id": "ab773830-c171-4667-b447-642702af8433",
   "metadata": {},
   "outputs": [
    {
     "data": {
      "text/plain": [
       "dict_keys(['atm.ssp370.daily.cmip6', 'atm.historical.daily.cmip6', 'atm.ssp370.daily.smbb', 'atm.historical.daily.smbb'])"
      ]
     },
     "execution_count": 15,
     "metadata": {},
     "output_type": "execute_result"
    }
   ],
   "source": [
    "ds_tmean.keys()"
   ]
  },
  {
   "cell_type": "code",
   "execution_count": 16,
   "id": "a3adce61-3911-438c-813f-0b17b9871ac3",
   "metadata": {},
   "outputs": [],
   "source": [
    "dsmean_pi_cmip6 = ds_tmean['atm.historical.daily.cmip6'].TREFHT.sel(time=slice(pi_year0,pi_year1))\n",
    "dsmean_pi_smbb  = ds_tmean['atm.historical.daily.smbb'].TREFHT.sel(time=slice(pi_year0,pi_year1))\n",
    "# dsmean_pi_smbb\n",
    "dsmean_eoc_cmip6 = ds_tmean['atm.ssp370.daily.cmip6'].TREFHT.sel(time=slice(ic_year0,ic_year1))\n",
    "dsmean_eoc_smbb  = ds_tmean['atm.ssp370.daily.smbb'].TREFHT.sel(time=slice(ic_year0,ic_year1))"
   ]
  },
  {
   "cell_type": "code",
   "execution_count": 17,
   "id": "248f0fb7-14c2-45fd-b2ea-f19379effb91",
   "metadata": {},
   "outputs": [
    {
     "name": "stdout",
     "output_type": "stream",
     "text": [
      "CPU times: user 13.9 ms, sys: 4.36 ms, total: 18.2 ms\n",
      "Wall time: 18.5 ms\n"
     ]
    }
   ],
   "source": [
    "%%time\n",
    "# Merge datasets to obtain pre-industrial and EOC daily mean temperatures\n",
    "pi_tmeans  = xr.concat([dsmean_pi_cmip6,dsmean_pi_smbb],dim='member_id')\n",
    "eoc_tmeans = xr.concat([dsmean_eoc_cmip6,dsmean_eoc_smbb],dim='member_id')"
   ]
  },
  {
   "cell_type": "code",
   "execution_count": 18,
   "id": "20474807-61d6-4b90-9434-f606465c2c13",
   "metadata": {},
   "outputs": [],
   "source": [
    "pi_tmean_daily  = to_daily(pi_tmeans)\n",
    "eoc_tmean_daily = to_daily(eoc_tmeans)\n",
    "pi_tmean_daily  = pi_tmean_daily.chunk({'lat':48,'year':30,'dayofyear':30})\n",
    "eoc_tmean_daily = eoc_tmean_daily.chunk({'lat':48,'year':30,'dayofyear':30})"
   ]
  },
  {
   "cell_type": "code",
   "execution_count": 19,
   "id": "27a481a9-a609-4624-aad0-a387723d339f",
   "metadata": {},
   "outputs": [
    {
     "name": "stdout",
     "output_type": "stream",
     "text": [
      "CPU times: user 1 μs, sys: 0 ns, total: 1 μs\n",
      "Wall time: 4.29 μs\n"
     ]
    }
   ],
   "source": [
    "%%time\n",
    "# pi_tmean_daily.to_dataset().to_zarr(tmean_path +'pre_ind_daily_mean.zarr',mode='w')\n",
    "# eoc_tmean_daily.to_dataset().to_zarr(tmean_path +'eoc_daily_mean.zarr',mode='w')"
   ]
  },
  {
   "cell_type": "code",
   "execution_count": 20,
   "id": "38a04eea-f337-42a7-b9b7-f0ac87e4702b",
   "metadata": {},
   "outputs": [
    {
     "name": "stdout",
     "output_type": "stream",
     "text": [
      "CPU times: user 20.6 ms, sys: 8.49 ms, total: 29.1 ms\n",
      "Wall time: 29.4 ms\n"
     ]
    }
   ],
   "source": [
    "%%time\n",
    "pi_tmean_daily  = xr.open_zarr(tmean_path +'pre_ind_daily_mean.zarr').TREFHT\n",
    "eoc_tmean_daily = xr.open_zarr(tmean_path +'eoc_daily_mean.zarr').TREFHT"
   ]
  },
  {
   "cell_type": "code",
   "execution_count": 21,
   "id": "077702eb-3b82-4692-ac49-9fc626fb8929",
   "metadata": {},
   "outputs": [],
   "source": [
    "pi_tmean_detrended  = detrend_all(pi_tmean_daily,pi_year)\n",
    "eoc_tmean_detrended = detrend_all(eoc_tmean_daily,eoc_year)\n",
    "#\n",
    "pi_tmean_detrended  = pi_tmean_detrended.rename('detrended_tmean')\n",
    "eoc_tmean_detrended = eoc_tmean_detrended.rename('detrended_tmean')"
   ]
  },
  {
   "cell_type": "code",
   "execution_count": 22,
   "id": "574da9e6-f92c-4078-9340-f4350984f0da",
   "metadata": {},
   "outputs": [],
   "source": [
    "# %%time\n",
    "# pi_tmean_detrended.to_dataset().to_zarr(tmean_path +'pre_ind_detrended.zarr',mode='w')\n",
    "# eoc_tmean_detrended.to_dataset().to_zarr(tmean_path +'eoc_detrended.zarr',mode='w')"
   ]
  },
  {
   "cell_type": "markdown",
   "id": "97729c47-aafd-4119-94a3-3d8390cab923",
   "metadata": {},
   "source": [
    "#### Check if detrending worked"
   ]
  },
  {
   "cell_type": "code",
   "execution_count": 23,
   "id": "c9529fcb-8cad-4feb-ac58-554947591004",
   "metadata": {},
   "outputs": [],
   "source": [
    "pi_tmean_detrended  = xr.open_zarr(tmean_path +'pre_ind_detrended.zarr').detrended_tmean\n",
    "eoc_tmean_detrended = xr.open_zarr(tmean_path +'eoc_detrended.zarr').detrended_tmean"
   ]
  },
  {
   "cell_type": "code",
   "execution_count": 24,
   "id": "3e0440a6-8a70-4a4e-a1e0-9f274add3d2a",
   "metadata": {},
   "outputs": [
    {
     "name": "stdout",
     "output_type": "stream",
     "text": [
      "CPU times: user 4.72 s, sys: 7.89 s, total: 12.6 s\n",
      "Wall time: 32.7 s\n"
     ]
    },
    {
     "data": {
      "text/plain": [
       "[<matplotlib.lines.Line2D at 0x14dcbedb3f70>]"
      ]
     },
     "execution_count": 24,
     "metadata": {},
     "output_type": "execute_result"
    },
    {
     "data": {
      "image/png": "[encoded data removed]",
      "text/plain": [
       "<Figure size 640x480 with 1 Axes>"
      ]
     },
     "metadata": {},
     "output_type": "display_data"
    }
   ],
   "source": [
    "%%time\n",
    "eoc_tmean_detrended.sel(lat=chic_lat,lon=chic_lon,method='nearest').sel(dayofyear=2).mean('member_id').plot()\n",
    "eoc_tmean_daily.sel(lat=chic_lat,lon=chic_lon,method='nearest').sel(dayofyear=2).mean('member_id').plot()"
   ]
  },
  {
   "cell_type": "code",
   "execution_count": 25,
   "id": "17108e10-db8a-4dc0-a5fd-21e0b4929f6b",
   "metadata": {},
   "outputs": [
    {
     "name": "stdout",
     "output_type": "stream",
     "text": [
      "CPU times: user 4.96 s, sys: 8.72 s, total: 13.7 s\n",
      "Wall time: 30.8 s\n"
     ]
    },
    {
     "data": {
      "text/plain": [
       "[<matplotlib.lines.Line2D at 0x14dcbf9e6a10>]"
      ]
     },
     "execution_count": 25,
     "metadata": {},
     "output_type": "execute_result"
    },
    {
     "data": {
      "image/png": "[encoded data removed]",
      "text/plain": [
       "<Figure size 640x480 with 1 Axes>"
      ]
     },
     "metadata": {},
     "output_type": "display_data"
    }
   ],
   "source": [
    "%%time\n",
    "pi_tmean_detrended.sel(lat=chic_lat,lon=chic_lon,method='nearest').sel(dayofyear=2).mean('member_id').plot()\n",
    "pi_tmean_daily.sel(lat=chic_lat,lon=chic_lon,method='nearest').sel(dayofyear=2).mean('member_id').plot()"
   ]
  },
  {
   "cell_type": "markdown",
   "id": "555b41db-d543-4930-a4d4-dd0cf905467a",
   "metadata": {},
   "source": [
    "### Detrend daily max temperatures"
   ]
  },
  {
   "cell_type": "code",
   "execution_count": 26,
   "id": "d71e2a5a-ca02-45f3-b8e7-0ce042ac00e8",
   "metadata": {},
   "outputs": [],
   "source": [
    "max_temps = col.search(variable ='TREFHTMX', frequency ='daily')\n",
    "# max_temps"
   ]
  },
  {
   "cell_type": "code",
   "execution_count": 27,
   "id": "b65daf20-d77c-40c0-beec-0ae5d792be58",
   "metadata": {},
   "outputs": [
    {
     "name": "stdout",
     "output_type": "stream",
     "text": [
      "\n",
      "--> The keys in the returned dictionary of datasets are constructed as follows:\n",
      "\t'component.experiment.frequency.forcing_variant'\n"
     ]
    },
    {
     "data": {
      "text/html": [
       "\n",
       "<style>\n",
       "    /* Turns off some styling */\n",
       "    progress {\n",
       "        /* gets rid of default border in Firefox and Opera. */\n",
       "        border: none;\n",
       "        /* Needs to be in here for Safari polyfill so background images work as expected. */\n",
       "        background-size: auto;\n",
       "    }\n",
       "    progress:not([value]), progress:not([value])::-webkit-progress-bar {\n",
       "        background: repeating-linear-gradient(45deg, #7e7e7e, #7e7e7e 10px, #5c5c5c 10px, #5c5c5c 20px);\n",
       "    }\n",
       "    .progress-bar-interrupted, .progress-bar-interrupted::-webkit-progress-bar {\n",
       "        background: #F44336;\n",
       "    }\n",
       "</style>\n"
      ],
      "text/plain": [
       "<IPython.core.display.HTML object>"
      ]
     },
     "metadata": {},
     "output_type": "display_data"
    },
    {
     "data": {
      "text/html": [
       "\n",
       "    <div>\n",
       "      <progress value='4' class='' max='4' style='width:300px; height:20px; vertical-align: middle;'></progress>\n",
       "      100.00% [4/4 00:00&lt;00:00]\n",
       "    </div>\n",
       "    "
      ],
      "text/plain": [
       "<IPython.core.display.HTML object>"
      ]
     },
     "metadata": {},
     "output_type": "display_data"
    }
   ],
   "source": [
    "ds_tmax = max_temps.to_dataset_dict()"
   ]
  },
  {
   "cell_type": "code",
   "execution_count": 28,
   "id": "64f9400d-2391-4ed3-9d54-e675d7a9ec6e",
   "metadata": {},
   "outputs": [
    {
     "data": {
      "text/plain": [
       "dict_keys(['atm.ssp370.daily.cmip6', 'atm.historical.daily.cmip6', 'atm.ssp370.daily.smbb', 'atm.historical.daily.smbb'])"
      ]
     },
     "execution_count": 28,
     "metadata": {},
     "output_type": "execute_result"
    }
   ],
   "source": [
    "ds_tmax.keys()"
   ]
  },
  {
   "cell_type": "code",
   "execution_count": 29,
   "id": "7b0eafb6-6615-4cb4-a0e6-1bb6091902ee",
   "metadata": {},
   "outputs": [],
   "source": [
    "dsmax_pi_cmip6 = ds_tmax['atm.historical.daily.cmip6'].TREFHTMX.sel(time=slice(pi_year0,pi_year1))\n",
    "dsmax_pi_smbb  = ds_tmax['atm.historical.daily.smbb'].TREFHTMX.sel(time=slice(pi_year0,pi_year1))\n",
    "# dsmax_pi_smbb\n",
    "dsmax_eoc_cmip6 = ds_tmax['atm.ssp370.daily.cmip6'].TREFHTMX.sel(time=slice(ic_year0,ic_year1))\n",
    "dsmax_eoc_smbb  = ds_tmax['atm.ssp370.daily.smbb'].TREFHTMX.sel(time=slice(ic_year0,ic_year1))"
   ]
  },
  {
   "cell_type": "code",
   "execution_count": 30,
   "id": "054c711b-6da9-4cec-9114-e92220bb9187",
   "metadata": {},
   "outputs": [
    {
     "name": "stdout",
     "output_type": "stream",
     "text": [
      "CPU times: user 19.7 ms, sys: 0 ns, total: 19.7 ms\n",
      "Wall time: 19.7 ms\n"
     ]
    }
   ],
   "source": [
    "%%time\n",
    "# Merge datasets to obtain pre-industrial and EOC daily mean temperatures\n",
    "pi_tmax  = xr.concat([dsmax_pi_cmip6,dsmax_pi_smbb],dim='member_id')\n",
    "eoc_tmax = xr.concat([dsmax_eoc_cmip6,dsmax_eoc_smbb],dim='member_id')"
   ]
  },
  {
   "cell_type": "code",
   "execution_count": 31,
   "id": "979a8dc3-9410-4e7a-b75b-a29ddded705c",
   "metadata": {},
   "outputs": [],
   "source": [
    "pi_tmax_daily  = to_daily(pi_tmax)\n",
    "eoc_tmax_daily = to_daily(eoc_tmax)\n",
    "pi_tmax_daily  = pi_tmax_daily.chunk({'lat':48,'year':30,'dayofyear':30})\n",
    "eoc_tmax_daily = eoc_tmax_daily.chunk({'lat':48,'year':30,'dayofyear':30})"
   ]
  },
  {
   "cell_type": "code",
   "execution_count": 32,
   "id": "65ddd366-3c82-4f80-8001-d3cc76937906",
   "metadata": {},
   "outputs": [],
   "source": [
    "# %%time\n",
    "# pi_tmax_daily.to_dataset().to_zarr(tmax_path +'pre_ind_daily_max.zarr',mode='w')\n",
    "# eoc_tmax_daily.to_dataset().to_zarr(tmax_path +'eoc_daily_max.zarr',mode='w')"
   ]
  },
  {
   "cell_type": "code",
   "execution_count": 33,
   "id": "b422a38d-fa7c-40ca-ac5d-a7a2e69d6d1f",
   "metadata": {},
   "outputs": [
    {
     "name": "stdout",
     "output_type": "stream",
     "text": [
      "CPU times: user 21.1 ms, sys: 6.77 ms, total: 27.9 ms\n",
      "Wall time: 27.9 ms\n"
     ]
    }
   ],
   "source": [
    "%%time\n",
    "pi_tmax_daily  = xr.open_zarr(tmax_path +'pre_ind_daily_max.zarr').TREFHTMX\n",
    "eoc_tmax_daily = xr.open_zarr(tmax_path +'eoc_daily_max.zarr').TREFHTMX"
   ]
  },
  {
   "cell_type": "code",
   "execution_count": 34,
   "id": "11ae0b3d-ce15-4b20-a8a7-af20606be702",
   "metadata": {},
   "outputs": [],
   "source": [
    "pi_tmax_detrended  = detrend_all(pi_tmax_daily,pi_year)\n",
    "eoc_tmax_detrended = detrend_all(eoc_tmax_daily,eoc_year)\n",
    "#\n",
    "pi_tmax_detrended  = pi_tmax_detrended.rename('detrended_tmax')\n",
    "eoc_tmax_detrended = eoc_tmax_detrended.rename('detrended_tmax')"
   ]
  },
  {
   "cell_type": "code",
   "execution_count": 35,
   "id": "ee302ed0-554b-49dc-9e0d-8ff3e1bf47ba",
   "metadata": {},
   "outputs": [
    {
     "name": "stdout",
     "output_type": "stream",
     "text": [
      "CPU times: user 32min 9s, sys: 13min 39s, total: 45min 48s\n",
      "Wall time: 1h 2min 57s\n"
     ]
    },
    {
     "data": {
      "text/plain": [
       "<xarray.backends.zarr.ZarrStore at 0x14dcc08a78c0>"
      ]
     },
     "execution_count": 35,
     "metadata": {},
     "output_type": "execute_result"
    }
   ],
   "source": [
    "# %%time\n",
    "# pi_tmax_detrended.to_dataset().to_zarr(tmax_path +'pre_ind_detrended_tmax.zarr',mode='w')"
   ]
  },
  {
   "cell_type": "code",
   "execution_count": null,
   "id": "f956aa8d-0feb-43f6-a35e-83514670ffab",
   "metadata": {},
   "outputs": [],
   "source": [
    "%%time\n",
    "eoc_tmax_detrended.to_dataset().to_zarr(tmax_path +'eoc_detrended_tmax.zarr',mode='w')"
   ]
  },
  {
   "cell_type": "markdown",
   "id": "d1231c6f-a4fd-4570-bb49-d26c9bbd42aa",
   "metadata": {},
   "source": [
    "#### Check if detrending worked"
   ]
  },
  {
   "cell_type": "code",
   "execution_count": null,
   "id": "ac105ae5-f741-49a4-a4b9-b0a9200597b2",
   "metadata": {},
   "outputs": [],
   "source": [
    "pi_tmax_detrended  = xr.open_zarr(tmax_path +'pre_ind_detrended_tmax.zarr').detrended_tmax\n",
    "eoc_tmax_detrended = xr.open_zarr(tmax_path +'eoc_detrended_tmax.zarr').detrended_tmax"
   ]
  },
  {
   "cell_type": "code",
   "execution_count": null,
   "id": "f732fd45-1d7a-438d-9645-a1f4823d9286",
   "metadata": {},
   "outputs": [],
   "source": [
    "%%time\n",
    "eoc_tmax_detrended.sel(lat=chic_lat,lon=chic_lon,method='nearest').sel(dayofyear=2).mean('member_id').plot()\n",
    "eoc_tmax_daily.sel(lat=chic_lat,lon=chic_lon,method='nearest').sel(dayofyear=2).mean('member_id').plot()"
   ]
  },
  {
   "cell_type": "code",
   "execution_count": null,
   "id": "ac37d7fa-c1ef-49ed-b4d9-084c40a7e429",
   "metadata": {},
   "outputs": [],
   "source": [
    "%%time\n",
    "pi_tmax_detrended.sel(lat=chic_lat,lon=chic_lon,method='nearest').sel(dayofyear=2).mean('member_id').plot()\n",
    "pi_tmax_daily.sel(lat=chic_lat,lon=chic_lon,method='nearest').sel(dayofyear=2).mean('member_id').plot()"
   ]
  },
  {
   "cell_type": "markdown",
   "id": "7719e36b-e5e5-4e20-ba2c-a80a65273cf8",
   "metadata": {},
   "source": [
    "### Detrend daily min temperatures"
   ]
  },
  {
   "cell_type": "code",
   "execution_count": null,
   "id": "eb0e3faf-c177-44de-90ce-dc9ced0ad310",
   "metadata": {},
   "outputs": [],
   "source": [
    "min_temps = col.search(variable ='TREFHTMN', frequency ='daily')\n",
    "min_temps"
   ]
  },
  {
   "cell_type": "code",
   "execution_count": null,
   "id": "2a2df40d-659f-440c-8d00-c58253c817d5",
   "metadata": {},
   "outputs": [],
   "source": [
    "ds_tmin = min_temps.to_dataset_dict()"
   ]
  },
  {
   "cell_type": "code",
   "execution_count": null,
   "id": "88385b9c-9b61-4cc3-8aff-b087b8e8e95c",
   "metadata": {},
   "outputs": [],
   "source": [
    "ds_tmin.keys()"
   ]
  },
  {
   "cell_type": "code",
   "execution_count": null,
   "id": "77ad7e8a-b059-485c-b8a5-c41551cf6e1f",
   "metadata": {},
   "outputs": [],
   "source": [
    "dsmin_pi_cmip6 = ds_tmin['atm.historical.daily.cmip6'].TREFHTMN.sel(time=slice(pi_year0,pi_year1))\n",
    "dsmin_pi_smbb  = ds_tmin['atm.historical.daily.smbb'].TREFHTMN.sel(time=slice(pi_year0,pi_year1))\n",
    "# dsmax_pi_smbb\n",
    "dsmin_eoc_cmip6 = ds_tmin['atm.ssp370.daily.cmip6'].TREFHTMN.sel(time=slice(ic_year0,ic_year1))\n",
    "dsmin_eoc_smbb  = ds_tmin['atm.ssp370.daily.smbb'].TREFHTMN.sel(time=slice(ic_year0,ic_year1))"
   ]
  },
  {
   "cell_type": "code",
   "execution_count": null,
   "id": "4caaeab1-7047-4229-a41a-488b23124399",
   "metadata": {},
   "outputs": [],
   "source": [
    "%%time\n",
    "# Merge datasets to obtain pre-industrial and EOC daily mean temperatures\n",
    "pi_tmin  = xr.concat([dsmin_pi_cmip6,dsmin_pi_smbb],dim='member_id')\n",
    "eoc_tmin = xr.concat([dsmin_eoc_cmip6,dsmin_eoc_smbb],dim='member_id')"
   ]
  },
  {
   "cell_type": "code",
   "execution_count": null,
   "id": "fc12f26e-1305-426f-a492-c6d8cbb8227c",
   "metadata": {},
   "outputs": [],
   "source": [
    "pi_tmin_daily  = to_daily(pi_tmin)\n",
    "eoc_tmin_daily = to_daily(eoc_tmin)\n",
    "pi_tmin_daily  = pi_tmin_daily.chunk({'lat':48,'year':30,'dayofyear':30})\n",
    "eoc_tmin_daily = eoc_tmin_daily.chunk({'lat':48,'year':30,'dayofyear':30})"
   ]
  },
  {
   "cell_type": "code",
   "execution_count": null,
   "id": "8f517790-06f4-4fd2-93a3-a4abb5898102",
   "metadata": {},
   "outputs": [],
   "source": [
    "%%time\n",
    "pi_tmin_daily.to_dataset().to_zarr(tmin_path +'pre_ind_daily_min.zarr',mode='w')\n",
    "eoc_tmin_daily.to_dataset().to_zarr(tmin_path +'eoc_daily_min.zarr',mode='w')"
   ]
  },
  {
   "cell_type": "code",
   "execution_count": null,
   "id": "17be7468-cb18-416f-994a-08a43538dfe7",
   "metadata": {},
   "outputs": [],
   "source": [
    "%%time\n",
    "pi_tmin_daily  = xr.open_zarr(tmin_path +'pre_ind_daily_min.zarr').TREFHTMN\n",
    "eoc_tmin_daily = xr.open_zarr(tmin_path +'eoc_daily_min.zarr').TREFHTMN"
   ]
  },
  {
   "cell_type": "code",
   "execution_count": null,
   "id": "4eb865aa-7402-48b9-a39e-820ec6cc46a6",
   "metadata": {},
   "outputs": [],
   "source": [
    "pi_tmin_detrended  = detrend_all(pi_tmin_daily,pi_year)\n",
    "eoc_tmin_detrended = detrend_all(eoc_tmin_daily,eoc_year)\n",
    "#\n",
    "pi_tmin_detrended  = pi_tmin_detrended.rename('detrended_tmin')\n",
    "eoc_tmin_detrended = eoc_tmin_detrended.rename('detrended_tmin')"
   ]
  },
  {
   "cell_type": "code",
   "execution_count": null,
   "id": "da63b422-4a12-4d5e-b8eb-b0c65db481b5",
   "metadata": {},
   "outputs": [],
   "source": [
    "%%time\n",
    "pi_tmin_detrended.to_dataset().to_zarr(tmin_path +'pre_ind_detrended_tmin.zarr',mode='w')"
   ]
  },
  {
   "cell_type": "code",
   "execution_count": null,
   "id": "5801f19c-fa75-4006-ac89-22401390d365",
   "metadata": {},
   "outputs": [],
   "source": [
    "%%time\n",
    "eoc_tmin_detrended.to_dataset().to_zarr(tmin_path +'eoc_detrended_tmin.zarr',mode='w')"
   ]
  },
  {
   "cell_type": "markdown",
   "id": "2036f22b-9e2e-4c39-a408-b89feaa8ea8d",
   "metadata": {},
   "source": [
    "#### Check if detrending worked"
   ]
  },
  {
   "cell_type": "code",
   "execution_count": null,
   "id": "41d49035-cb61-49a9-adaa-2f9531a5b1f6",
   "metadata": {},
   "outputs": [],
   "source": [
    "pi_tmin_detrended  = xr.open_zarr(tmin_path +'pre_ind_detrended_tmin.zarr').detrended_tmin\n",
    "eoc_tmin_detrended = xr.open_zarr(tmin_path +'eoc_detrended_tmin.zarr').detrended_tmin"
   ]
  },
  {
   "cell_type": "code",
   "execution_count": null,
   "id": "5aa5f122-ad0f-406a-bae2-324241dde74d",
   "metadata": {},
   "outputs": [],
   "source": [
    "%%time\n",
    "eoc_tmin_detrended.sel(lat=chic_lat,lon=chic_lon,method='nearest').sel(dayofyear=2).mean('member_id').plot()\n",
    "eoc_tmin_daily.sel(lat=chic_lat,lon=chic_lon,method='nearest').sel(dayofyear=2).mean('member_id').plot()"
   ]
  },
  {
   "cell_type": "code",
   "execution_count": null,
   "id": "405cf920-9d65-42af-8ff3-dccf9de88bc1",
   "metadata": {},
   "outputs": [],
   "source": [
    "%%time\n",
    "pi_tmin_detrended.sel(lat=chic_lat,lon=chic_lon,method='nearest').sel(dayofyear=2).mean('member_id').plot()\n",
    "pi_tmin_daily.sel(lat=chic_lat,lon=chic_lon,method='nearest').sel(dayofyear=2).mean('member_id').plot()"
   ]
  },
  {
   "cell_type": "code",
   "execution_count": null,
   "id": "08be6a9e-d99d-468b-b0f6-1a2d72e2fae5",
   "metadata": {},
   "outputs": [],
   "source": [
    "###########################################################################################"
   ]
  },
  {
   "cell_type": "code",
   "execution_count": null,
   "id": "5add768d-af2d-43ef-95ec-e823094b8307",
   "metadata": {},
   "outputs": [],
   "source": [
    "cluster.close()"
   ]
  },
  {
   "cell_type": "code",
   "execution_count": null,
   "id": "d4b1624a-f49c-465c-8928-9d8417313732",
   "metadata": {},
   "outputs": [],
   "source": []
  }
 ],
 "metadata": {
  "kernelspec": {
   "display_name": "python:osdf",
   "language": "python",
   "name": "osdf"
  },
  "language_info": {
   "codemirror_mode": {
    "name": "ipython",
    "version": 3
   },
   "file_extension": ".py",
   "mimetype": "text/x-python",
   "name": "python",
   "nbconvert_exporter": "python",
   "pygments_lexer": "ipython3",
   "version": "3.10.13"
  }
 },
 "nbformat": 4,
 "nbformat_minor": 5
}
