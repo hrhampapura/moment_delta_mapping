{
 "cells": [
  {
   "cell_type": "markdown",
   "id": "e4ee821d-3dbb-44d2-b07a-202b58fc2af0",
   "metadata": {},
   "source": [
    "# Calculate the seasonal means of errors in MDM and QDM+ sort predictions\n",
    "- MDM: Moment Delta Mapping\n",
    "- Consider the MDM operators L_1 and L_2 which map the mean and mean and stdev of a distribution respectively\n",
    "- MDM error for operator L_i  = [L_i (Q_historical) ] - Q_future\n",
    "- In this notebook, Q_historical is the pre-industrial quantile function and Q_future is the End of 21st century quantile function\n",
    "- These quantile functions are constructed from detrended CESM2 LENS data\n",
    "- We can similarly caluclate errors for the Gaussian operators G1 and G2 (see paper for more details)\n",
    "- In this notebook, we compute the seasonal mean of the MDM error for various operators"
   ]
  },
  {
   "cell_type": "code",
   "execution_count": 1,
   "id": "2777665d",
   "metadata": {},
   "outputs": [
    {
     "name": "stderr",
     "output_type": "stream",
     "text": [
      "/global/home/users/harsha/miniconda3/envs/pyenv/lib/python3.9/site-packages/scipy/__init__.py:146: UserWarning: A NumPy version >=1.16.5 and <1.23.0 is required for this version of SciPy (detected version 1.23.5\n",
      "  warnings.warn(f\"A NumPy version >={np_minversion} and <{np_maxversion}\"\n"
     ]
    }
   ],
   "source": [
    "import numpy as np\n",
    "import xarray as xr\n",
    "from distributed import Client\n",
    "import dask_jobqueue\n",
    "import matplotlib.pyplot as plt\n",
    "import matplotlib as mtplt\n",
    "import glob\n",
    "import netCDF4 as nc\n",
    "import zarr\n",
    "import nc_time_axis\n",
    "#import xskillscore as xs\n",
    "import cartopy as cart\n",
    "import matplotlib.colors as mcolors\n",
    "import matplotlib.cm as cm\n",
    "from scipy.special import erfinv, erf\n",
    "import shapely\n",
    "import warnings\n",
    "from shapely.errors import ShapelyDeprecationWarning\n",
    "warnings.filterwarnings(\"ignore\", category=ShapelyDeprecationWarning) "
   ]
  },
  {
   "cell_type": "code",
   "execution_count": 2,
   "id": "d4cc2fc4",
   "metadata": {},
   "outputs": [],
   "source": [
    "def to_daily(ds):\n",
    "    year = ds.time.dt.year\n",
    "    day = ds.time.dt.dayofyear\n",
    "\n",
    "    # assign new coords\n",
    "    ds = ds.assign_coords(year=(\"time\", year.data), day=(\"time\", day.data))\n",
    "\n",
    "    # reshape the array to (..., \"day\", \"year\")\n",
    "    return ds.set_index(time=(\"year\", \"day\")).unstack(\"time\")  "
   ]
  },
  {
   "cell_type": "code",
   "execution_count": 3,
   "id": "2623f3af-bd43-4778-8547-a0c3a8e19f85",
   "metadata": {},
   "outputs": [],
   "source": [
    "quants = np.linspace(0,1.0,30)\n",
    "def compute_quantiles(ds, quantiles=quants):\n",
    "    return ds.chunk(dict(year=-1)).quantile(quantiles, dim='year',skipna=False)\n",
    "\n",
    "def implement_mdm(ds_obs,init_mean,final_mean,init_std,final_std):\n",
    "    # Assuming coordinates year and day for ds_obs\n",
    "    obs_mean = ds_obs.mean('year')\n",
    "    sratio   = final_std/init_std\n",
    "    ds_mdm   = obs_mean + (final_mean - init_mean) + sratio*(ds_obs - obs_mean)        \n",
    "    return ds_mdm\n",
    "\n",
    "def implement_shift(ds_obs,init_mean,final_mean):\n",
    "    # Assuming coordinates year and day for ds_obs\n",
    "    obs_mean   = ds_obs.mean('year')\n",
    "    ds_shift   = obs_mean + (final_mean - init_mean) + ds_obs - obs_mean        \n",
    "    return ds_shift\n",
    "\n",
    "def implement_qdm(qobs, qinit, qfinal):\n",
    "    # Implement quantile delta mapping. Assumes model data has corrd called 'mtime'\n",
    "    #qinit    = init_data.quantile(quants,dim='mtime')\n",
    "    #qfinal   = final_data.quantile(quants,dim='mtime')\n",
    "    ds_qdm   = qobs + (qfinal - qinit)\n",
    "    return ds_qdm\n",
    "\n",
    "def is_sorted(arr):\n",
    "    return np.all(arr[:-1] <= arr[1:]) or np.all(arr[:-1] >= arr[1:])"
   ]
  },
  {
   "cell_type": "code",
   "execution_count": 4,
   "id": "af29cebe",
   "metadata": {},
   "outputs": [],
   "source": [
    "def gauss_quantile(mean,std,quantile):\n",
    "    qvalue = mean + std * np.sqrt(2) * erfinv(2*quantile-1)\n",
    "    return qvalue"
   ]
  },
  {
   "cell_type": "code",
   "execution_count": 5,
   "id": "04cf1f3b-d8d7-4f47-850d-b264278605fa",
   "metadata": {},
   "outputs": [],
   "source": [
    "def select_months(data, months):\n",
    "    \"\"\"\n",
    "    Selects data for specific months from an xarray DataArray based on dayofyear and year coordinates.\n",
    "\n",
    "    Parameters:\n",
    "    data (xarray.DataArray): The input DataArray with 'dayofyear' and 'year' coordinates.\n",
    "    months (list of int): List of three months to select (e.g., [12, 1, 2] for DJF).\n",
    "\n",
    "    Returns:\n",
    "    xarray.DataArray: Filtered DataArray for the specified months.\n",
    "    \"\"\"\n",
    "    # Define the day ranges for each month assuming a 365-day calendar\n",
    "    month_ranges = {\n",
    "        1: (1, 31),   # January\n",
    "        2: (32, 59),  # February\n",
    "        3: (60, 90),  # March\n",
    "        4: (91, 120), # April\n",
    "        5: (121, 151),# May\n",
    "        6: (152, 181),# June\n",
    "        7: (182, 212),# July\n",
    "        8: (213, 243),# August\n",
    "        9: (244, 273),# September\n",
    "        10: (274, 304),# October\n",
    "        11: (305, 334),# November\n",
    "        12: (335, 365)# December\n",
    "    }\n",
    "\n",
    "    # Get the start and end day of the year for each selected month\n",
    "    days_to_select = []\n",
    "    for month in months:\n",
    "        start_day, end_day = month_ranges[month]\n",
    "        days_to_select.extend(range(start_day, end_day + 1))\n",
    "\n",
    "    # Filter the data for the specified days of the year\n",
    "    filtered_data = data.where(data['dayofyear'].isin(days_to_select), drop=True)\n",
    "\n",
    "    return filtered_data"
   ]
  },
  {
   "cell_type": "code",
   "execution_count": 6,
   "id": "364507c0",
   "metadata": {},
   "outputs": [],
   "source": [
    "def altspace(start, step, count, endpoint=False, **kwargs):\n",
    "   stop = start+(step*count)\n",
    "   return np.linspace(start, stop, count, endpoint=endpoint, **kwargs)"
   ]
  },
  {
   "cell_type": "code",
   "execution_count": 7,
   "id": "ce6058f4",
   "metadata": {},
   "outputs": [
    {
     "name": "stdout",
     "output_type": "stream",
     "text": [
      "(lat,lon)= 41.8781 272.3702\n"
     ]
    }
   ],
   "source": [
    "# #Chicago\n",
    "LAT        = 41.8781\n",
    "LON        = (360-87.6298)%360\n",
    "# # #Bengaluru:\n",
    "# LAT        = 12.9716\n",
    "# LON        = 77.5946\n",
    "######################\n",
    "chic_lat  = 41.8781\n",
    "chic_lon  = (360-87.6298)%360\n",
    "ben_lat   = 12.9716\n",
    "ben_lon   = 77.5946\n",
    "########## CONUS ############\n",
    "#CONUS lat-lon\n",
    "top       = 50.0 # north lat\n",
    "left      = -124.7844079+360 # west long\n",
    "right     = -66.9513812+360 # east long\n",
    "bottom    =  24.7433195 # south lat\n",
    "################################\n",
    "savefigs   = '/global/scratch/users/harsha/savefigs/Feb21/'\n",
    "cesm2_path = '/global/scratch/users/harsha/LENS/cesm2/tasmax/'\n",
    "cvals      = '/global/scratch/users/harsha/LENS/cesm2/cvals/'\n",
    "cvals_det  = '/global/scratch/users/harsha/LENS/cesm2/cvals/detrended/'\n",
    "loc        = 'Chicago/'\n",
    "locn       = 'Chicago'\n",
    "cvals1     = '/global/scratch/users/harsha/LENS/cesm2/tmax_mem'\n",
    "###########\n",
    "print('(lat,lon)=',LAT,LON)"
   ]
  },
  {
   "cell_type": "code",
   "execution_count": 8,
   "id": "98b68879",
   "metadata": {},
   "outputs": [
    {
     "name": "stderr",
     "output_type": "stream",
     "text": [
      "/global/home/users/harsha/miniconda3/envs/pyenv/lib/python3.9/site-packages/distributed/node.py:182: UserWarning: Port 8787 is already in use.\n",
      "Perhaps you already have a cluster running?\n",
      "Hosting the HTTP server on port 46787 instead\n",
      "  warnings.warn(\n"
     ]
    }
   ],
   "source": [
    "job_extra = ['--qos=cf_lowprio','--account=ac_cumulus'] \n",
    "#job_extra =['--qos=lr6_lowprio','--account=ac_cumulus','--constraint=lr6_m192']\n",
    "#job_extra =['--qos=condo_cumulus_lr6','--account=lr_cumulus','--constraint=lr6_m192']\n",
    "#job_extra =['--qos=lr_lowprio','--account=ac_cumulus']\n",
    "cluster = dask_jobqueue.SLURMCluster(queue=\"cf1\", cores=20, walltime='6:00:00', \n",
    "                local_directory='/global/scratch/users/harsha/dask_space/', \n",
    "                log_directory='/global/scratch/users/harsha/dask_space/', \n",
    "                job_extra_directives=job_extra, interface='eth0', memory=\"192GB\") \n",
    "client  = Client(cluster) \n",
    "cluster.scale_up(3)"
   ]
  },
  {
   "cell_type": "code",
   "execution_count": 9,
   "id": "d5ad80a2",
   "metadata": {},
   "outputs": [
    {
     "data": {
      "application/vnd.jupyter.widget-view+json": {
       "model_id": "2d174dfcee6548598309b02add842543",
       "version_major": 2,
       "version_minor": 0
      },
      "text/html": [
       "<div class=\"jp-RenderedHTMLCommon jp-RenderedHTML jp-mod-trusted jp-OutputArea-output\">\n",
       "    <div style=\"width: 24px; height: 24px; background-color: #e1e1e1; border: 3px solid #9D9D9D; border-radius: 5px; position: absolute;\">\n",
       "    </div>\n",
       "    <div style=\"margin-left: 48px;\">\n",
       "        <h3 style=\"margin-bottom: 0px; margin-top: 0px;\">SLURMCluster</h3>\n",
       "        <p style=\"color: #9D9D9D; margin-bottom: 0px;\">85fc9ae6</p>\n",
       "        <table style=\"width: 100%; text-align: left;\">\n",
       "            <tr>\n",
       "                <td style=\"text-align: left;\">\n",
       "                    <strong>Dashboard:</strong> <a href=\"http://10.0.39.4:46787/status\" target=\"_blank\">http://10.0.39.4:46787/status</a>\n",
       "                </td>\n",
       "                <td style=\"text-align: left;\">\n",
       "                    <strong>Workers:</strong> 0\n",
       "                </td>\n",
       "            </tr>\n",
       "            <tr>\n",
       "                <td style=\"text-align: left;\">\n",
       "                    <strong>Total threads:</strong> 0\n",
       "                </td>\n",
       "                <td style=\"text-align: left;\">\n",
       "                    <strong>Total memory:</strong> 0 B\n",
       "                </td>\n",
       "            </tr>\n",
       "            \n",
       "        </table>\n",
       "\n",
       "        <details>\n",
       "            <summary style=\"margin-bottom: 20px;\">\n",
       "                <h3 style=\"display: inline;\">Scheduler Info</h3>\n",
       "            </summary>\n",
       "\n",
       "            <div style=\"\">\n",
       "    <div>\n",
       "        <div style=\"width: 24px; height: 24px; background-color: #FFF7E5; border: 3px solid #FF6132; border-radius: 5px; position: absolute;\"> </div>\n",
       "        <div style=\"margin-left: 48px;\">\n",
       "            <h3 style=\"margin-bottom: 0px;\">Scheduler</h3>\n",
       "            <p style=\"color: #9D9D9D; margin-bottom: 0px;\">Scheduler-8c71e641-a6d1-43f3-ad7e-f4a711087f5f</p>\n",
       "            <table style=\"width: 100%; text-align: left;\">\n",
       "                <tr>\n",
       "                    <td style=\"text-align: left;\">\n",
       "                        <strong>Comm:</strong> tcp://10.0.39.4:45905\n",
       "                    </td>\n",
       "                    <td style=\"text-align: left;\">\n",
       "                        <strong>Workers:</strong> 0\n",
       "                    </td>\n",
       "                </tr>\n",
       "                <tr>\n",
       "                    <td style=\"text-align: left;\">\n",
       "                        <strong>Dashboard:</strong> <a href=\"http://10.0.39.4:46787/status\" target=\"_blank\">http://10.0.39.4:46787/status</a>\n",
       "                    </td>\n",
       "                    <td style=\"text-align: left;\">\n",
       "                        <strong>Total threads:</strong> 0\n",
       "                    </td>\n",
       "                </tr>\n",
       "                <tr>\n",
       "                    <td style=\"text-align: left;\">\n",
       "                        <strong>Started:</strong> Just now\n",
       "                    </td>\n",
       "                    <td style=\"text-align: left;\">\n",
       "                        <strong>Total memory:</strong> 0 B\n",
       "                    </td>\n",
       "                </tr>\n",
       "            </table>\n",
       "        </div>\n",
       "    </div>\n",
       "\n",
       "    <details style=\"margin-left: 48px;\">\n",
       "        <summary style=\"margin-bottom: 20px;\">\n",
       "            <h3 style=\"display: inline;\">Workers</h3>\n",
       "        </summary>\n",
       "\n",
       "        \n",
       "\n",
       "    </details>\n",
       "</div>\n",
       "\n",
       "        </details>\n",
       "    </div>\n",
       "</div>"
      ],
      "text/plain": [
       "SLURMCluster(85fc9ae6, 'tcp://10.0.39.4:45905', workers=0, threads=0, memory=0 B)"
      ]
     },
     "metadata": {},
     "output_type": "display_data"
    }
   ],
   "source": [
    "cluster"
   ]
  },
  {
   "cell_type": "code",
   "execution_count": 10,
   "id": "46c4462e",
   "metadata": {},
   "outputs": [],
   "source": [
    "pi_year0 = '1850'\n",
    "pi_year1 = '1879'\n",
    "ic_year0 = '2071'\n",
    "ic_year1 = '2100'\n",
    "pi_year  = 1865\n",
    "# eoc_year = 2085 #Central year used for detrending\n",
    "ic_year  = 2086 #This is the correct year for the rolling window operation to work\n",
    "doy      = 211 # day_of_year\n",
    "## Change/Check these parameters before running"
   ]
  },
  {
   "cell_type": "markdown",
   "id": "0f705bb5-9dd4-49ba-8976-9ec8479de699",
   "metadata": {},
   "source": [
    "### Load detrended data"
   ]
  },
  {
   "cell_type": "code",
   "execution_count": 11,
   "id": "1955d0d6-a408-4018-bef6-d4b0a9b1fb05",
   "metadata": {},
   "outputs": [
    {
     "ename": "BrokenPipeError",
     "evalue": "[Errno 108] Cannot send after transport endpoint shutdown",
     "output_type": "error",
     "traceback": [
      "\u001b[0;31m---------------------------------------------------------------------------\u001b[0m",
      "\u001b[0;31mBrokenPipeError\u001b[0m                           Traceback (most recent call last)",
      "File \u001b[0;32m<timed exec>:2\u001b[0m, in \u001b[0;36m<module>\u001b[0;34m\u001b[0m\n",
      "File \u001b[0;32m~/miniconda3/envs/pyenv/lib/python3.9/site-packages/xarray/backends/zarr.py:787\u001b[0m, in \u001b[0;36mopen_zarr\u001b[0;34m(store, group, synchronizer, chunks, decode_cf, mask_and_scale, decode_times, concat_characters, decode_coords, drop_variables, consolidated, overwrite_encoded_chunks, chunk_store, storage_options, decode_timedelta, use_cftime, **kwargs)\u001b[0m\n\u001b[1;32m    774\u001b[0m     \u001b[38;5;28;01mraise\u001b[39;00m \u001b[38;5;167;01mTypeError\u001b[39;00m(\n\u001b[1;32m    775\u001b[0m         \u001b[38;5;124m\"\u001b[39m\u001b[38;5;124mopen_zarr() got unexpected keyword arguments \u001b[39m\u001b[38;5;124m\"\u001b[39m \u001b[38;5;241m+\u001b[39m \u001b[38;5;124m\"\u001b[39m\u001b[38;5;124m,\u001b[39m\u001b[38;5;124m\"\u001b[39m\u001b[38;5;241m.\u001b[39mjoin(kwargs\u001b[38;5;241m.\u001b[39mkeys())\n\u001b[1;32m    776\u001b[0m     )\n\u001b[1;32m    778\u001b[0m backend_kwargs \u001b[38;5;241m=\u001b[39m {\n\u001b[1;32m    779\u001b[0m     \u001b[38;5;124m\"\u001b[39m\u001b[38;5;124msynchronizer\u001b[39m\u001b[38;5;124m\"\u001b[39m: synchronizer,\n\u001b[1;32m    780\u001b[0m     \u001b[38;5;124m\"\u001b[39m\u001b[38;5;124mconsolidated\u001b[39m\u001b[38;5;124m\"\u001b[39m: consolidated,\n\u001b[0;32m   (...)\u001b[0m\n\u001b[1;32m    784\u001b[0m     \u001b[38;5;124m\"\u001b[39m\u001b[38;5;124mstacklevel\u001b[39m\u001b[38;5;124m\"\u001b[39m: \u001b[38;5;241m4\u001b[39m,\n\u001b[1;32m    785\u001b[0m }\n\u001b[0;32m--> 787\u001b[0m ds \u001b[38;5;241m=\u001b[39m \u001b[43mopen_dataset\u001b[49m\u001b[43m(\u001b[49m\n\u001b[1;32m    788\u001b[0m \u001b[43m    \u001b[49m\u001b[43mfilename_or_obj\u001b[49m\u001b[38;5;241;43m=\u001b[39;49m\u001b[43mstore\u001b[49m\u001b[43m,\u001b[49m\n\u001b[1;32m    789\u001b[0m \u001b[43m    \u001b[49m\u001b[43mgroup\u001b[49m\u001b[38;5;241;43m=\u001b[39;49m\u001b[43mgroup\u001b[49m\u001b[43m,\u001b[49m\n\u001b[1;32m    790\u001b[0m \u001b[43m    \u001b[49m\u001b[43mdecode_cf\u001b[49m\u001b[38;5;241;43m=\u001b[39;49m\u001b[43mdecode_cf\u001b[49m\u001b[43m,\u001b[49m\n\u001b[1;32m    791\u001b[0m \u001b[43m    \u001b[49m\u001b[43mmask_and_scale\u001b[49m\u001b[38;5;241;43m=\u001b[39;49m\u001b[43mmask_and_scale\u001b[49m\u001b[43m,\u001b[49m\n\u001b[1;32m    792\u001b[0m \u001b[43m    \u001b[49m\u001b[43mdecode_times\u001b[49m\u001b[38;5;241;43m=\u001b[39;49m\u001b[43mdecode_times\u001b[49m\u001b[43m,\u001b[49m\n\u001b[1;32m    793\u001b[0m \u001b[43m    \u001b[49m\u001b[43mconcat_characters\u001b[49m\u001b[38;5;241;43m=\u001b[39;49m\u001b[43mconcat_characters\u001b[49m\u001b[43m,\u001b[49m\n\u001b[1;32m    794\u001b[0m \u001b[43m    \u001b[49m\u001b[43mdecode_coords\u001b[49m\u001b[38;5;241;43m=\u001b[39;49m\u001b[43mdecode_coords\u001b[49m\u001b[43m,\u001b[49m\n\u001b[1;32m    795\u001b[0m \u001b[43m    \u001b[49m\u001b[43mengine\u001b[49m\u001b[38;5;241;43m=\u001b[39;49m\u001b[38;5;124;43m\"\u001b[39;49m\u001b[38;5;124;43mzarr\u001b[39;49m\u001b[38;5;124;43m\"\u001b[39;49m\u001b[43m,\u001b[49m\n\u001b[1;32m    796\u001b[0m \u001b[43m    \u001b[49m\u001b[43mchunks\u001b[49m\u001b[38;5;241;43m=\u001b[39;49m\u001b[43mchunks\u001b[49m\u001b[43m,\u001b[49m\n\u001b[1;32m    797\u001b[0m \u001b[43m    \u001b[49m\u001b[43mdrop_variables\u001b[49m\u001b[38;5;241;43m=\u001b[39;49m\u001b[43mdrop_variables\u001b[49m\u001b[43m,\u001b[49m\n\u001b[1;32m    798\u001b[0m \u001b[43m    \u001b[49m\u001b[43mbackend_kwargs\u001b[49m\u001b[38;5;241;43m=\u001b[39;49m\u001b[43mbackend_kwargs\u001b[49m\u001b[43m,\u001b[49m\n\u001b[1;32m    799\u001b[0m \u001b[43m    \u001b[49m\u001b[43mdecode_timedelta\u001b[49m\u001b[38;5;241;43m=\u001b[39;49m\u001b[43mdecode_timedelta\u001b[49m\u001b[43m,\u001b[49m\n\u001b[1;32m    800\u001b[0m \u001b[43m    \u001b[49m\u001b[43muse_cftime\u001b[49m\u001b[38;5;241;43m=\u001b[39;49m\u001b[43muse_cftime\u001b[49m\u001b[43m,\u001b[49m\n\u001b[1;32m    801\u001b[0m \u001b[43m\u001b[49m\u001b[43m)\u001b[49m\n\u001b[1;32m    802\u001b[0m \u001b[38;5;28;01mreturn\u001b[39;00m ds\n",
      "File \u001b[0;32m~/miniconda3/envs/pyenv/lib/python3.9/site-packages/xarray/backends/api.py:539\u001b[0m, in \u001b[0;36mopen_dataset\u001b[0;34m(filename_or_obj, engine, chunks, cache, decode_cf, mask_and_scale, decode_times, decode_timedelta, use_cftime, concat_characters, decode_coords, drop_variables, inline_array, backend_kwargs, **kwargs)\u001b[0m\n\u001b[1;32m    527\u001b[0m decoders \u001b[38;5;241m=\u001b[39m _resolve_decoders_kwargs(\n\u001b[1;32m    528\u001b[0m     decode_cf,\n\u001b[1;32m    529\u001b[0m     open_backend_dataset_parameters\u001b[38;5;241m=\u001b[39mbackend\u001b[38;5;241m.\u001b[39mopen_dataset_parameters,\n\u001b[0;32m   (...)\u001b[0m\n\u001b[1;32m    535\u001b[0m     decode_coords\u001b[38;5;241m=\u001b[39mdecode_coords,\n\u001b[1;32m    536\u001b[0m )\n\u001b[1;32m    538\u001b[0m overwrite_encoded_chunks \u001b[38;5;241m=\u001b[39m kwargs\u001b[38;5;241m.\u001b[39mpop(\u001b[38;5;124m\"\u001b[39m\u001b[38;5;124moverwrite_encoded_chunks\u001b[39m\u001b[38;5;124m\"\u001b[39m, \u001b[38;5;28;01mNone\u001b[39;00m)\n\u001b[0;32m--> 539\u001b[0m backend_ds \u001b[38;5;241m=\u001b[39m \u001b[43mbackend\u001b[49m\u001b[38;5;241;43m.\u001b[39;49m\u001b[43mopen_dataset\u001b[49m\u001b[43m(\u001b[49m\n\u001b[1;32m    540\u001b[0m \u001b[43m    \u001b[49m\u001b[43mfilename_or_obj\u001b[49m\u001b[43m,\u001b[49m\n\u001b[1;32m    541\u001b[0m \u001b[43m    \u001b[49m\u001b[43mdrop_variables\u001b[49m\u001b[38;5;241;43m=\u001b[39;49m\u001b[43mdrop_variables\u001b[49m\u001b[43m,\u001b[49m\n\u001b[1;32m    542\u001b[0m \u001b[43m    \u001b[49m\u001b[38;5;241;43m*\u001b[39;49m\u001b[38;5;241;43m*\u001b[39;49m\u001b[43mdecoders\u001b[49m\u001b[43m,\u001b[49m\n\u001b[1;32m    543\u001b[0m \u001b[43m    \u001b[49m\u001b[38;5;241;43m*\u001b[39;49m\u001b[38;5;241;43m*\u001b[39;49m\u001b[43mkwargs\u001b[49m\u001b[43m,\u001b[49m\n\u001b[1;32m    544\u001b[0m \u001b[43m\u001b[49m\u001b[43m)\u001b[49m\n\u001b[1;32m    545\u001b[0m ds \u001b[38;5;241m=\u001b[39m _dataset_from_backend_dataset(\n\u001b[1;32m    546\u001b[0m     backend_ds,\n\u001b[1;32m    547\u001b[0m     filename_or_obj,\n\u001b[0;32m   (...)\u001b[0m\n\u001b[1;32m    555\u001b[0m     \u001b[38;5;241m*\u001b[39m\u001b[38;5;241m*\u001b[39mkwargs,\n\u001b[1;32m    556\u001b[0m )\n\u001b[1;32m    557\u001b[0m \u001b[38;5;28;01mreturn\u001b[39;00m ds\n",
      "File \u001b[0;32m~/miniconda3/envs/pyenv/lib/python3.9/site-packages/xarray/backends/zarr.py:862\u001b[0m, in \u001b[0;36mZarrBackendEntrypoint.open_dataset\u001b[0;34m(self, filename_or_obj, mask_and_scale, decode_times, concat_characters, decode_coords, drop_variables, use_cftime, decode_timedelta, group, mode, synchronizer, consolidated, chunk_store, storage_options, stacklevel)\u001b[0m\n\u001b[1;32m    860\u001b[0m store_entrypoint \u001b[38;5;241m=\u001b[39m StoreBackendEntrypoint()\n\u001b[1;32m    861\u001b[0m \u001b[38;5;28;01mwith\u001b[39;00m close_on_error(store):\n\u001b[0;32m--> 862\u001b[0m     ds \u001b[38;5;241m=\u001b[39m \u001b[43mstore_entrypoint\u001b[49m\u001b[38;5;241;43m.\u001b[39;49m\u001b[43mopen_dataset\u001b[49m\u001b[43m(\u001b[49m\n\u001b[1;32m    863\u001b[0m \u001b[43m        \u001b[49m\u001b[43mstore\u001b[49m\u001b[43m,\u001b[49m\n\u001b[1;32m    864\u001b[0m \u001b[43m        \u001b[49m\u001b[43mmask_and_scale\u001b[49m\u001b[38;5;241;43m=\u001b[39;49m\u001b[43mmask_and_scale\u001b[49m\u001b[43m,\u001b[49m\n\u001b[1;32m    865\u001b[0m \u001b[43m        \u001b[49m\u001b[43mdecode_times\u001b[49m\u001b[38;5;241;43m=\u001b[39;49m\u001b[43mdecode_times\u001b[49m\u001b[43m,\u001b[49m\n\u001b[1;32m    866\u001b[0m \u001b[43m        \u001b[49m\u001b[43mconcat_characters\u001b[49m\u001b[38;5;241;43m=\u001b[39;49m\u001b[43mconcat_characters\u001b[49m\u001b[43m,\u001b[49m\n\u001b[1;32m    867\u001b[0m \u001b[43m        \u001b[49m\u001b[43mdecode_coords\u001b[49m\u001b[38;5;241;43m=\u001b[39;49m\u001b[43mdecode_coords\u001b[49m\u001b[43m,\u001b[49m\n\u001b[1;32m    868\u001b[0m \u001b[43m        \u001b[49m\u001b[43mdrop_variables\u001b[49m\u001b[38;5;241;43m=\u001b[39;49m\u001b[43mdrop_variables\u001b[49m\u001b[43m,\u001b[49m\n\u001b[1;32m    869\u001b[0m \u001b[43m        \u001b[49m\u001b[43muse_cftime\u001b[49m\u001b[38;5;241;43m=\u001b[39;49m\u001b[43muse_cftime\u001b[49m\u001b[43m,\u001b[49m\n\u001b[1;32m    870\u001b[0m \u001b[43m        \u001b[49m\u001b[43mdecode_timedelta\u001b[49m\u001b[38;5;241;43m=\u001b[39;49m\u001b[43mdecode_timedelta\u001b[49m\u001b[43m,\u001b[49m\n\u001b[1;32m    871\u001b[0m \u001b[43m    \u001b[49m\u001b[43m)\u001b[49m\n\u001b[1;32m    872\u001b[0m \u001b[38;5;28;01mreturn\u001b[39;00m ds\n",
      "File \u001b[0;32m~/miniconda3/envs/pyenv/lib/python3.9/site-packages/xarray/backends/store.py:43\u001b[0m, in \u001b[0;36mStoreBackendEntrypoint.open_dataset\u001b[0;34m(self, store, mask_and_scale, decode_times, concat_characters, decode_coords, drop_variables, use_cftime, decode_timedelta)\u001b[0m\n\u001b[1;32m     29\u001b[0m encoding \u001b[38;5;241m=\u001b[39m store\u001b[38;5;241m.\u001b[39mget_encoding()\n\u001b[1;32m     31\u001b[0m \u001b[38;5;28mvars\u001b[39m, attrs, coord_names \u001b[38;5;241m=\u001b[39m conventions\u001b[38;5;241m.\u001b[39mdecode_cf_variables(\n\u001b[1;32m     32\u001b[0m     \u001b[38;5;28mvars\u001b[39m,\n\u001b[1;32m     33\u001b[0m     attrs,\n\u001b[0;32m   (...)\u001b[0m\n\u001b[1;32m     40\u001b[0m     decode_timedelta\u001b[38;5;241m=\u001b[39mdecode_timedelta,\n\u001b[1;32m     41\u001b[0m )\n\u001b[0;32m---> 43\u001b[0m ds \u001b[38;5;241m=\u001b[39m \u001b[43mDataset\u001b[49m\u001b[43m(\u001b[49m\u001b[38;5;28;43mvars\u001b[39;49m\u001b[43m,\u001b[49m\u001b[43m \u001b[49m\u001b[43mattrs\u001b[49m\u001b[38;5;241;43m=\u001b[39;49m\u001b[43mattrs\u001b[49m\u001b[43m)\u001b[49m\n\u001b[1;32m     44\u001b[0m ds \u001b[38;5;241m=\u001b[39m ds\u001b[38;5;241m.\u001b[39mset_coords(coord_names\u001b[38;5;241m.\u001b[39mintersection(\u001b[38;5;28mvars\u001b[39m))\n\u001b[1;32m     45\u001b[0m ds\u001b[38;5;241m.\u001b[39mset_close(store\u001b[38;5;241m.\u001b[39mclose)\n",
      "File \u001b[0;32m~/miniconda3/envs/pyenv/lib/python3.9/site-packages/xarray/core/dataset.py:604\u001b[0m, in \u001b[0;36mDataset.__init__\u001b[0;34m(self, data_vars, coords, attrs)\u001b[0m\n\u001b[1;32m    601\u001b[0m \u001b[38;5;28;01mif\u001b[39;00m \u001b[38;5;28misinstance\u001b[39m(coords, Dataset):\n\u001b[1;32m    602\u001b[0m     coords \u001b[38;5;241m=\u001b[39m coords\u001b[38;5;241m.\u001b[39mvariables\n\u001b[0;32m--> 604\u001b[0m variables, coord_names, dims, indexes, _ \u001b[38;5;241m=\u001b[39m \u001b[43mmerge_data_and_coords\u001b[49m\u001b[43m(\u001b[49m\n\u001b[1;32m    605\u001b[0m \u001b[43m    \u001b[49m\u001b[43mdata_vars\u001b[49m\u001b[43m,\u001b[49m\u001b[43m \u001b[49m\u001b[43mcoords\u001b[49m\u001b[43m,\u001b[49m\u001b[43m \u001b[49m\u001b[43mcompat\u001b[49m\u001b[38;5;241;43m=\u001b[39;49m\u001b[38;5;124;43m\"\u001b[39;49m\u001b[38;5;124;43mbroadcast_equals\u001b[39;49m\u001b[38;5;124;43m\"\u001b[39;49m\n\u001b[1;32m    606\u001b[0m \u001b[43m\u001b[49m\u001b[43m)\u001b[49m\n\u001b[1;32m    608\u001b[0m \u001b[38;5;28mself\u001b[39m\u001b[38;5;241m.\u001b[39m_attrs \u001b[38;5;241m=\u001b[39m \u001b[38;5;28mdict\u001b[39m(attrs) \u001b[38;5;28;01mif\u001b[39;00m attrs \u001b[38;5;129;01mis\u001b[39;00m \u001b[38;5;129;01mnot\u001b[39;00m \u001b[38;5;28;01mNone\u001b[39;00m \u001b[38;5;28;01melse\u001b[39;00m \u001b[38;5;28;01mNone\u001b[39;00m\n\u001b[1;32m    609\u001b[0m \u001b[38;5;28mself\u001b[39m\u001b[38;5;241m.\u001b[39m_close \u001b[38;5;241m=\u001b[39m \u001b[38;5;28;01mNone\u001b[39;00m\n",
      "File \u001b[0;32m~/miniconda3/envs/pyenv/lib/python3.9/site-packages/xarray/core/merge.py:575\u001b[0m, in \u001b[0;36mmerge_data_and_coords\u001b[0;34m(data_vars, coords, compat, join)\u001b[0m\n\u001b[1;32m    573\u001b[0m objects \u001b[38;5;241m=\u001b[39m [data_vars, coords]\n\u001b[1;32m    574\u001b[0m explicit_coords \u001b[38;5;241m=\u001b[39m coords\u001b[38;5;241m.\u001b[39mkeys()\n\u001b[0;32m--> 575\u001b[0m \u001b[38;5;28;01mreturn\u001b[39;00m \u001b[43mmerge_core\u001b[49m\u001b[43m(\u001b[49m\n\u001b[1;32m    576\u001b[0m \u001b[43m    \u001b[49m\u001b[43mobjects\u001b[49m\u001b[43m,\u001b[49m\n\u001b[1;32m    577\u001b[0m \u001b[43m    \u001b[49m\u001b[43mcompat\u001b[49m\u001b[43m,\u001b[49m\n\u001b[1;32m    578\u001b[0m \u001b[43m    \u001b[49m\u001b[43mjoin\u001b[49m\u001b[43m,\u001b[49m\n\u001b[1;32m    579\u001b[0m \u001b[43m    \u001b[49m\u001b[43mexplicit_coords\u001b[49m\u001b[38;5;241;43m=\u001b[39;49m\u001b[43mexplicit_coords\u001b[49m\u001b[43m,\u001b[49m\n\u001b[1;32m    580\u001b[0m \u001b[43m    \u001b[49m\u001b[43mindexes\u001b[49m\u001b[38;5;241;43m=\u001b[39;49m\u001b[43mIndexes\u001b[49m\u001b[43m(\u001b[49m\u001b[43mindexes\u001b[49m\u001b[43m,\u001b[49m\u001b[43m \u001b[49m\u001b[43mcoords\u001b[49m\u001b[43m)\u001b[49m\u001b[43m,\u001b[49m\n\u001b[1;32m    581\u001b[0m \u001b[43m\u001b[49m\u001b[43m)\u001b[49m\n",
      "File \u001b[0;32m~/miniconda3/envs/pyenv/lib/python3.9/site-packages/xarray/core/merge.py:755\u001b[0m, in \u001b[0;36mmerge_core\u001b[0;34m(objects, compat, join, combine_attrs, priority_arg, explicit_coords, indexes, fill_value)\u001b[0m\n\u001b[1;32m    751\u001b[0m coerced \u001b[38;5;241m=\u001b[39m coerce_pandas_values(objects)\n\u001b[1;32m    752\u001b[0m aligned \u001b[38;5;241m=\u001b[39m deep_align(\n\u001b[1;32m    753\u001b[0m     coerced, join\u001b[38;5;241m=\u001b[39mjoin, copy\u001b[38;5;241m=\u001b[39m\u001b[38;5;28;01mFalse\u001b[39;00m, indexes\u001b[38;5;241m=\u001b[39mindexes, fill_value\u001b[38;5;241m=\u001b[39mfill_value\n\u001b[1;32m    754\u001b[0m )\n\u001b[0;32m--> 755\u001b[0m collected \u001b[38;5;241m=\u001b[39m \u001b[43mcollect_variables_and_indexes\u001b[49m\u001b[43m(\u001b[49m\u001b[43maligned\u001b[49m\u001b[43m,\u001b[49m\u001b[43m \u001b[49m\u001b[43mindexes\u001b[49m\u001b[38;5;241;43m=\u001b[39;49m\u001b[43mindexes\u001b[49m\u001b[43m)\u001b[49m\n\u001b[1;32m    756\u001b[0m prioritized \u001b[38;5;241m=\u001b[39m _get_priority_vars_and_indexes(aligned, priority_arg, compat\u001b[38;5;241m=\u001b[39mcompat)\n\u001b[1;32m    757\u001b[0m variables, out_indexes \u001b[38;5;241m=\u001b[39m merge_collected(\n\u001b[1;32m    758\u001b[0m     collected, prioritized, compat\u001b[38;5;241m=\u001b[39mcompat, combine_attrs\u001b[38;5;241m=\u001b[39mcombine_attrs\n\u001b[1;32m    759\u001b[0m )\n",
      "File \u001b[0;32m~/miniconda3/envs/pyenv/lib/python3.9/site-packages/xarray/core/merge.py:365\u001b[0m, in \u001b[0;36mcollect_variables_and_indexes\u001b[0;34m(list_of_mappings, indexes)\u001b[0m\n\u001b[1;32m    362\u001b[0m     indexes\u001b[38;5;241m.\u001b[39mpop(name, \u001b[38;5;28;01mNone\u001b[39;00m)\n\u001b[1;32m    363\u001b[0m     append_all(coords, indexes)\n\u001b[0;32m--> 365\u001b[0m variable \u001b[38;5;241m=\u001b[39m \u001b[43mas_variable\u001b[49m\u001b[43m(\u001b[49m\u001b[43mvariable\u001b[49m\u001b[43m,\u001b[49m\u001b[43m \u001b[49m\u001b[43mname\u001b[49m\u001b[38;5;241;43m=\u001b[39;49m\u001b[43mname\u001b[49m\u001b[43m)\u001b[49m\n\u001b[1;32m    366\u001b[0m \u001b[38;5;28;01mif\u001b[39;00m name \u001b[38;5;129;01min\u001b[39;00m indexes:\n\u001b[1;32m    367\u001b[0m     append(name, variable, indexes[name])\n",
      "File \u001b[0;32m~/miniconda3/envs/pyenv/lib/python3.9/site-packages/xarray/core/variable.py:168\u001b[0m, in \u001b[0;36mas_variable\u001b[0;34m(obj, name)\u001b[0m\n\u001b[1;32m    162\u001b[0m     \u001b[38;5;28;01mif\u001b[39;00m obj\u001b[38;5;241m.\u001b[39mndim \u001b[38;5;241m!=\u001b[39m \u001b[38;5;241m1\u001b[39m:\n\u001b[1;32m    163\u001b[0m         \u001b[38;5;28;01mraise\u001b[39;00m MissingDimensionsError(\n\u001b[1;32m    164\u001b[0m             \u001b[38;5;124mf\u001b[39m\u001b[38;5;124m\"\u001b[39m\u001b[38;5;132;01m{\u001b[39;00mname\u001b[38;5;132;01m!r}\u001b[39;00m\u001b[38;5;124m has more than 1-dimension and the same name as one of its \u001b[39m\u001b[38;5;124m\"\u001b[39m\n\u001b[1;32m    165\u001b[0m             \u001b[38;5;124mf\u001b[39m\u001b[38;5;124m\"\u001b[39m\u001b[38;5;124mdimensions \u001b[39m\u001b[38;5;132;01m{\u001b[39;00mobj\u001b[38;5;241m.\u001b[39mdims\u001b[38;5;132;01m!r}\u001b[39;00m\u001b[38;5;124m. xarray disallows such variables because they \u001b[39m\u001b[38;5;124m\"\u001b[39m\n\u001b[1;32m    166\u001b[0m             \u001b[38;5;124m\"\u001b[39m\u001b[38;5;124mconflict with the coordinates used to label dimensions.\u001b[39m\u001b[38;5;124m\"\u001b[39m\n\u001b[1;32m    167\u001b[0m         )\n\u001b[0;32m--> 168\u001b[0m     obj \u001b[38;5;241m=\u001b[39m \u001b[43mobj\u001b[49m\u001b[38;5;241;43m.\u001b[39;49m\u001b[43mto_index_variable\u001b[49m\u001b[43m(\u001b[49m\u001b[43m)\u001b[49m\n\u001b[1;32m    170\u001b[0m \u001b[38;5;28;01mreturn\u001b[39;00m obj\n",
      "File \u001b[0;32m~/miniconda3/envs/pyenv/lib/python3.9/site-packages/xarray/core/variable.py:624\u001b[0m, in \u001b[0;36mVariable.to_index_variable\u001b[0;34m(self)\u001b[0m\n\u001b[1;32m    622\u001b[0m \u001b[38;5;28;01mdef\u001b[39;00m \u001b[38;5;21mto_index_variable\u001b[39m(\u001b[38;5;28mself\u001b[39m) \u001b[38;5;241m-\u001b[39m\u001b[38;5;241m>\u001b[39m IndexVariable:\n\u001b[1;32m    623\u001b[0m \u001b[38;5;250m    \u001b[39m\u001b[38;5;124;03m\"\"\"Return this variable as an xarray.IndexVariable\"\"\"\u001b[39;00m\n\u001b[0;32m--> 624\u001b[0m     \u001b[38;5;28;01mreturn\u001b[39;00m \u001b[43mIndexVariable\u001b[49m\u001b[43m(\u001b[49m\n\u001b[1;32m    625\u001b[0m \u001b[43m        \u001b[49m\u001b[38;5;28;43mself\u001b[39;49m\u001b[38;5;241;43m.\u001b[39;49m\u001b[43m_dims\u001b[49m\u001b[43m,\u001b[49m\u001b[43m \u001b[49m\u001b[38;5;28;43mself\u001b[39;49m\u001b[38;5;241;43m.\u001b[39;49m\u001b[43m_data\u001b[49m\u001b[43m,\u001b[49m\u001b[43m \u001b[49m\u001b[38;5;28;43mself\u001b[39;49m\u001b[38;5;241;43m.\u001b[39;49m\u001b[43m_attrs\u001b[49m\u001b[43m,\u001b[49m\u001b[43m \u001b[49m\u001b[43mencoding\u001b[49m\u001b[38;5;241;43m=\u001b[39;49m\u001b[38;5;28;43mself\u001b[39;49m\u001b[38;5;241;43m.\u001b[39;49m\u001b[43m_encoding\u001b[49m\u001b[43m,\u001b[49m\u001b[43m \u001b[49m\u001b[43mfastpath\u001b[49m\u001b[38;5;241;43m=\u001b[39;49m\u001b[38;5;28;43;01mTrue\u001b[39;49;00m\n\u001b[1;32m    626\u001b[0m \u001b[43m    \u001b[49m\u001b[43m)\u001b[49m\n",
      "File \u001b[0;32m~/miniconda3/envs/pyenv/lib/python3.9/site-packages/xarray/core/variable.py:2844\u001b[0m, in \u001b[0;36mIndexVariable.__init__\u001b[0;34m(self, dims, data, attrs, encoding, fastpath)\u001b[0m\n\u001b[1;32m   2842\u001b[0m \u001b[38;5;66;03m# Unlike in Variable, always eagerly load values into memory\u001b[39;00m\n\u001b[1;32m   2843\u001b[0m \u001b[38;5;28;01mif\u001b[39;00m \u001b[38;5;129;01mnot\u001b[39;00m \u001b[38;5;28misinstance\u001b[39m(\u001b[38;5;28mself\u001b[39m\u001b[38;5;241m.\u001b[39m_data, PandasIndexingAdapter):\n\u001b[0;32m-> 2844\u001b[0m     \u001b[38;5;28mself\u001b[39m\u001b[38;5;241m.\u001b[39m_data \u001b[38;5;241m=\u001b[39m \u001b[43mPandasIndexingAdapter\u001b[49m\u001b[43m(\u001b[49m\u001b[38;5;28;43mself\u001b[39;49m\u001b[38;5;241;43m.\u001b[39;49m\u001b[43m_data\u001b[49m\u001b[43m)\u001b[49m\n",
      "File \u001b[0;32m~/miniconda3/envs/pyenv/lib/python3.9/site-packages/xarray/core/indexing.py:1420\u001b[0m, in \u001b[0;36mPandasIndexingAdapter.__init__\u001b[0;34m(self, array, dtype)\u001b[0m\n\u001b[1;32m   1417\u001b[0m \u001b[38;5;28;01mdef\u001b[39;00m \u001b[38;5;21m__init__\u001b[39m(\u001b[38;5;28mself\u001b[39m, array: pd\u001b[38;5;241m.\u001b[39mIndex, dtype: DTypeLike \u001b[38;5;241m=\u001b[39m \u001b[38;5;28;01mNone\u001b[39;00m):\n\u001b[1;32m   1418\u001b[0m     \u001b[38;5;28;01mfrom\u001b[39;00m \u001b[38;5;21;01m.\u001b[39;00m\u001b[38;5;21;01mindexes\u001b[39;00m \u001b[38;5;28;01mimport\u001b[39;00m safe_cast_to_index\n\u001b[0;32m-> 1420\u001b[0m     \u001b[38;5;28mself\u001b[39m\u001b[38;5;241m.\u001b[39marray \u001b[38;5;241m=\u001b[39m \u001b[43msafe_cast_to_index\u001b[49m\u001b[43m(\u001b[49m\u001b[43marray\u001b[49m\u001b[43m)\u001b[49m\n\u001b[1;32m   1422\u001b[0m     \u001b[38;5;28;01mif\u001b[39;00m dtype \u001b[38;5;129;01mis\u001b[39;00m \u001b[38;5;28;01mNone\u001b[39;00m:\n\u001b[1;32m   1423\u001b[0m         \u001b[38;5;28mself\u001b[39m\u001b[38;5;241m.\u001b[39m_dtype \u001b[38;5;241m=\u001b[39m get_valid_numpy_dtype(array)\n",
      "File \u001b[0;32m~/miniconda3/envs/pyenv/lib/python3.9/site-packages/xarray/core/indexes.py:177\u001b[0m, in \u001b[0;36msafe_cast_to_index\u001b[0;34m(array)\u001b[0m\n\u001b[1;32m    175\u001b[0m     \u001b[38;5;28;01mif\u001b[39;00m \u001b[38;5;28mhasattr\u001b[39m(array, \u001b[38;5;124m\"\u001b[39m\u001b[38;5;124mdtype\u001b[39m\u001b[38;5;124m\"\u001b[39m) \u001b[38;5;129;01mand\u001b[39;00m array\u001b[38;5;241m.\u001b[39mdtype\u001b[38;5;241m.\u001b[39mkind \u001b[38;5;241m==\u001b[39m \u001b[38;5;124m\"\u001b[39m\u001b[38;5;124mO\u001b[39m\u001b[38;5;124m\"\u001b[39m:\n\u001b[1;32m    176\u001b[0m         kwargs[\u001b[38;5;124m\"\u001b[39m\u001b[38;5;124mdtype\u001b[39m\u001b[38;5;124m\"\u001b[39m] \u001b[38;5;241m=\u001b[39m \u001b[38;5;28mobject\u001b[39m\n\u001b[0;32m--> 177\u001b[0m     index \u001b[38;5;241m=\u001b[39m pd\u001b[38;5;241m.\u001b[39mIndex(\u001b[43mnp\u001b[49m\u001b[38;5;241;43m.\u001b[39;49m\u001b[43masarray\u001b[49m\u001b[43m(\u001b[49m\u001b[43marray\u001b[49m\u001b[43m)\u001b[49m, \u001b[38;5;241m*\u001b[39m\u001b[38;5;241m*\u001b[39mkwargs)\n\u001b[1;32m    179\u001b[0m \u001b[38;5;28;01mreturn\u001b[39;00m _maybe_cast_to_cftimeindex(index)\n",
      "File \u001b[0;32m~/miniconda3/envs/pyenv/lib/python3.9/site-packages/xarray/core/indexing.py:524\u001b[0m, in \u001b[0;36mLazilyIndexedArray.__array__\u001b[0;34m(self, dtype)\u001b[0m\n\u001b[1;32m    522\u001b[0m \u001b[38;5;28;01mdef\u001b[39;00m \u001b[38;5;21m__array__\u001b[39m(\u001b[38;5;28mself\u001b[39m, dtype\u001b[38;5;241m=\u001b[39m\u001b[38;5;28;01mNone\u001b[39;00m):\n\u001b[1;32m    523\u001b[0m     array \u001b[38;5;241m=\u001b[39m as_indexable(\u001b[38;5;28mself\u001b[39m\u001b[38;5;241m.\u001b[39marray)\n\u001b[0;32m--> 524\u001b[0m     \u001b[38;5;28;01mreturn\u001b[39;00m np\u001b[38;5;241m.\u001b[39masarray(\u001b[43marray\u001b[49m\u001b[43m[\u001b[49m\u001b[38;5;28;43mself\u001b[39;49m\u001b[38;5;241;43m.\u001b[39;49m\u001b[43mkey\u001b[49m\u001b[43m]\u001b[49m, dtype\u001b[38;5;241m=\u001b[39m\u001b[38;5;28;01mNone\u001b[39;00m)\n",
      "File \u001b[0;32m~/miniconda3/envs/pyenv/lib/python3.9/site-packages/xarray/backends/zarr.py:68\u001b[0m, in \u001b[0;36mZarrArrayWrapper.__getitem__\u001b[0;34m(self, key)\u001b[0m\n\u001b[1;32m     66\u001b[0m array \u001b[38;5;241m=\u001b[39m \u001b[38;5;28mself\u001b[39m\u001b[38;5;241m.\u001b[39mget_array()\n\u001b[1;32m     67\u001b[0m \u001b[38;5;28;01mif\u001b[39;00m \u001b[38;5;28misinstance\u001b[39m(key, indexing\u001b[38;5;241m.\u001b[39mBasicIndexer):\n\u001b[0;32m---> 68\u001b[0m     \u001b[38;5;28;01mreturn\u001b[39;00m \u001b[43marray\u001b[49m\u001b[43m[\u001b[49m\u001b[43mkey\u001b[49m\u001b[38;5;241;43m.\u001b[39;49m\u001b[43mtuple\u001b[49m\u001b[43m]\u001b[49m\n\u001b[1;32m     69\u001b[0m \u001b[38;5;28;01melif\u001b[39;00m \u001b[38;5;28misinstance\u001b[39m(key, indexing\u001b[38;5;241m.\u001b[39mVectorizedIndexer):\n\u001b[1;32m     70\u001b[0m     \u001b[38;5;28;01mreturn\u001b[39;00m array\u001b[38;5;241m.\u001b[39mvindex[\n\u001b[1;32m     71\u001b[0m         indexing\u001b[38;5;241m.\u001b[39m_arrayize_vectorized_indexer(key, \u001b[38;5;28mself\u001b[39m\u001b[38;5;241m.\u001b[39mshape)\u001b[38;5;241m.\u001b[39mtuple\n\u001b[1;32m     72\u001b[0m     ]\n",
      "File \u001b[0;32m~/miniconda3/envs/pyenv/lib/python3.9/site-packages/zarr/core.py:821\u001b[0m, in \u001b[0;36mArray.__getitem__\u001b[0;34m(self, selection)\u001b[0m\n\u001b[1;32m    819\u001b[0m     result \u001b[38;5;241m=\u001b[39m \u001b[38;5;28mself\u001b[39m\u001b[38;5;241m.\u001b[39mvindex[selection]\n\u001b[1;32m    820\u001b[0m \u001b[38;5;28;01melse\u001b[39;00m:\n\u001b[0;32m--> 821\u001b[0m     result \u001b[38;5;241m=\u001b[39m \u001b[38;5;28;43mself\u001b[39;49m\u001b[38;5;241;43m.\u001b[39;49m\u001b[43mget_basic_selection\u001b[49m\u001b[43m(\u001b[49m\u001b[43mpure_selection\u001b[49m\u001b[43m,\u001b[49m\u001b[43m \u001b[49m\u001b[43mfields\u001b[49m\u001b[38;5;241;43m=\u001b[39;49m\u001b[43mfields\u001b[49m\u001b[43m)\u001b[49m\n\u001b[1;32m    822\u001b[0m \u001b[38;5;28;01mreturn\u001b[39;00m result\n",
      "File \u001b[0;32m~/miniconda3/envs/pyenv/lib/python3.9/site-packages/zarr/core.py:947\u001b[0m, in \u001b[0;36mArray.get_basic_selection\u001b[0;34m(self, selection, out, fields)\u001b[0m\n\u001b[1;32m    944\u001b[0m     \u001b[38;5;28;01mreturn\u001b[39;00m \u001b[38;5;28mself\u001b[39m\u001b[38;5;241m.\u001b[39m_get_basic_selection_zd(selection\u001b[38;5;241m=\u001b[39mselection, out\u001b[38;5;241m=\u001b[39mout,\n\u001b[1;32m    945\u001b[0m                                         fields\u001b[38;5;241m=\u001b[39mfields)\n\u001b[1;32m    946\u001b[0m \u001b[38;5;28;01melse\u001b[39;00m:\n\u001b[0;32m--> 947\u001b[0m     \u001b[38;5;28;01mreturn\u001b[39;00m \u001b[38;5;28;43mself\u001b[39;49m\u001b[38;5;241;43m.\u001b[39;49m\u001b[43m_get_basic_selection_nd\u001b[49m\u001b[43m(\u001b[49m\u001b[43mselection\u001b[49m\u001b[38;5;241;43m=\u001b[39;49m\u001b[43mselection\u001b[49m\u001b[43m,\u001b[49m\u001b[43m \u001b[49m\u001b[43mout\u001b[49m\u001b[38;5;241;43m=\u001b[39;49m\u001b[43mout\u001b[49m\u001b[43m,\u001b[49m\n\u001b[1;32m    948\u001b[0m \u001b[43m                                        \u001b[49m\u001b[43mfields\u001b[49m\u001b[38;5;241;43m=\u001b[39;49m\u001b[43mfields\u001b[49m\u001b[43m)\u001b[49m\n",
      "File \u001b[0;32m~/miniconda3/envs/pyenv/lib/python3.9/site-packages/zarr/core.py:990\u001b[0m, in \u001b[0;36mArray._get_basic_selection_nd\u001b[0;34m(self, selection, out, fields)\u001b[0m\n\u001b[1;32m    984\u001b[0m \u001b[38;5;28;01mdef\u001b[39;00m \u001b[38;5;21m_get_basic_selection_nd\u001b[39m(\u001b[38;5;28mself\u001b[39m, selection, out\u001b[38;5;241m=\u001b[39m\u001b[38;5;28;01mNone\u001b[39;00m, fields\u001b[38;5;241m=\u001b[39m\u001b[38;5;28;01mNone\u001b[39;00m):\n\u001b[1;32m    985\u001b[0m     \u001b[38;5;66;03m# implementation of basic selection for array with at least one dimension\u001b[39;00m\n\u001b[1;32m    986\u001b[0m \n\u001b[1;32m    987\u001b[0m     \u001b[38;5;66;03m# setup indexer\u001b[39;00m\n\u001b[1;32m    988\u001b[0m     indexer \u001b[38;5;241m=\u001b[39m BasicIndexer(selection, \u001b[38;5;28mself\u001b[39m)\n\u001b[0;32m--> 990\u001b[0m     \u001b[38;5;28;01mreturn\u001b[39;00m \u001b[38;5;28;43mself\u001b[39;49m\u001b[38;5;241;43m.\u001b[39;49m\u001b[43m_get_selection\u001b[49m\u001b[43m(\u001b[49m\u001b[43mindexer\u001b[49m\u001b[38;5;241;43m=\u001b[39;49m\u001b[43mindexer\u001b[49m\u001b[43m,\u001b[49m\u001b[43m \u001b[49m\u001b[43mout\u001b[49m\u001b[38;5;241;43m=\u001b[39;49m\u001b[43mout\u001b[49m\u001b[43m,\u001b[49m\u001b[43m \u001b[49m\u001b[43mfields\u001b[49m\u001b[38;5;241;43m=\u001b[39;49m\u001b[43mfields\u001b[49m\u001b[43m)\u001b[49m\n",
      "File \u001b[0;32m~/miniconda3/envs/pyenv/lib/python3.9/site-packages/zarr/core.py:1285\u001b[0m, in \u001b[0;36mArray._get_selection\u001b[0;34m(self, indexer, out, fields)\u001b[0m\n\u001b[1;32m   1275\u001b[0m \u001b[38;5;28;01mif\u001b[39;00m (\n\u001b[1;32m   1276\u001b[0m     \u001b[38;5;129;01mnot\u001b[39;00m \u001b[38;5;28mhasattr\u001b[39m(\u001b[38;5;28mself\u001b[39m\u001b[38;5;241m.\u001b[39mchunk_store, \u001b[38;5;124m\"\u001b[39m\u001b[38;5;124mgetitems\u001b[39m\u001b[38;5;124m\"\u001b[39m) \u001b[38;5;129;01mand\u001b[39;00m \u001b[38;5;129;01mnot\u001b[39;00m (\n\u001b[1;32m   1277\u001b[0m         \u001b[38;5;28mhasattr\u001b[39m(\u001b[38;5;28mself\u001b[39m\u001b[38;5;241m.\u001b[39mchunk_store, \u001b[38;5;124m\"\u001b[39m\u001b[38;5;124mget_partial_values\u001b[39m\u001b[38;5;124m\"\u001b[39m) \u001b[38;5;129;01mand\u001b[39;00m\n\u001b[0;32m   (...)\u001b[0m\n\u001b[1;32m   1280\u001b[0m ) \u001b[38;5;129;01mor\u001b[39;00m \u001b[38;5;28many\u001b[39m(\u001b[38;5;28mmap\u001b[39m(\u001b[38;5;28;01mlambda\u001b[39;00m x: x \u001b[38;5;241m==\u001b[39m \u001b[38;5;241m0\u001b[39m, \u001b[38;5;28mself\u001b[39m\u001b[38;5;241m.\u001b[39mshape)):\n\u001b[1;32m   1281\u001b[0m     \u001b[38;5;66;03m# sequentially get one key at a time from storage\u001b[39;00m\n\u001b[1;32m   1282\u001b[0m     \u001b[38;5;28;01mfor\u001b[39;00m chunk_coords, chunk_selection, out_selection \u001b[38;5;129;01min\u001b[39;00m indexer:\n\u001b[1;32m   1283\u001b[0m \n\u001b[1;32m   1284\u001b[0m         \u001b[38;5;66;03m# load chunk selection into output array\u001b[39;00m\n\u001b[0;32m-> 1285\u001b[0m         \u001b[38;5;28;43mself\u001b[39;49m\u001b[38;5;241;43m.\u001b[39;49m\u001b[43m_chunk_getitem\u001b[49m\u001b[43m(\u001b[49m\u001b[43mchunk_coords\u001b[49m\u001b[43m,\u001b[49m\u001b[43m \u001b[49m\u001b[43mchunk_selection\u001b[49m\u001b[43m,\u001b[49m\u001b[43m \u001b[49m\u001b[43mout\u001b[49m\u001b[43m,\u001b[49m\u001b[43m \u001b[49m\u001b[43mout_selection\u001b[49m\u001b[43m,\u001b[49m\n\u001b[1;32m   1286\u001b[0m \u001b[43m                            \u001b[49m\u001b[43mdrop_axes\u001b[49m\u001b[38;5;241;43m=\u001b[39;49m\u001b[43mindexer\u001b[49m\u001b[38;5;241;43m.\u001b[39;49m\u001b[43mdrop_axes\u001b[49m\u001b[43m,\u001b[49m\u001b[43m \u001b[49m\u001b[43mfields\u001b[49m\u001b[38;5;241;43m=\u001b[39;49m\u001b[43mfields\u001b[49m\u001b[43m)\u001b[49m\n\u001b[1;32m   1287\u001b[0m \u001b[38;5;28;01melse\u001b[39;00m:\n\u001b[1;32m   1288\u001b[0m     \u001b[38;5;66;03m# allow storage to get multiple items at once\u001b[39;00m\n\u001b[1;32m   1289\u001b[0m     lchunk_coords, lchunk_selection, lout_selection \u001b[38;5;241m=\u001b[39m \u001b[38;5;28mzip\u001b[39m(\u001b[38;5;241m*\u001b[39mindexer)\n",
      "File \u001b[0;32m~/miniconda3/envs/pyenv/lib/python3.9/site-packages/zarr/core.py:1994\u001b[0m, in \u001b[0;36mArray._chunk_getitem\u001b[0;34m(self, chunk_coords, chunk_selection, out, out_selection, drop_axes, fields)\u001b[0m\n\u001b[1;32m   1990\u001b[0m ckey \u001b[38;5;241m=\u001b[39m \u001b[38;5;28mself\u001b[39m\u001b[38;5;241m.\u001b[39m_chunk_key(chunk_coords)\n\u001b[1;32m   1992\u001b[0m \u001b[38;5;28;01mtry\u001b[39;00m:\n\u001b[1;32m   1993\u001b[0m     \u001b[38;5;66;03m# obtain compressed data for chunk\u001b[39;00m\n\u001b[0;32m-> 1994\u001b[0m     cdata \u001b[38;5;241m=\u001b[39m \u001b[38;5;28;43mself\u001b[39;49m\u001b[38;5;241;43m.\u001b[39;49m\u001b[43mchunk_store\u001b[49m\u001b[43m[\u001b[49m\u001b[43mckey\u001b[49m\u001b[43m]\u001b[49m\n\u001b[1;32m   1996\u001b[0m \u001b[38;5;28;01mexcept\u001b[39;00m \u001b[38;5;167;01mKeyError\u001b[39;00m:\n\u001b[1;32m   1997\u001b[0m     \u001b[38;5;66;03m# chunk not initialized\u001b[39;00m\n\u001b[1;32m   1998\u001b[0m     \u001b[38;5;28;01mif\u001b[39;00m \u001b[38;5;28mself\u001b[39m\u001b[38;5;241m.\u001b[39m_fill_value \u001b[38;5;129;01mis\u001b[39;00m \u001b[38;5;129;01mnot\u001b[39;00m \u001b[38;5;28;01mNone\u001b[39;00m:\n",
      "File \u001b[0;32m~/miniconda3/envs/pyenv/lib/python3.9/site-packages/zarr/storage.py:1085\u001b[0m, in \u001b[0;36mDirectoryStore.__getitem__\u001b[0;34m(self, key)\u001b[0m\n\u001b[1;32m   1083\u001b[0m filepath \u001b[38;5;241m=\u001b[39m os\u001b[38;5;241m.\u001b[39mpath\u001b[38;5;241m.\u001b[39mjoin(\u001b[38;5;28mself\u001b[39m\u001b[38;5;241m.\u001b[39mpath, key)\n\u001b[1;32m   1084\u001b[0m \u001b[38;5;28;01mif\u001b[39;00m os\u001b[38;5;241m.\u001b[39mpath\u001b[38;5;241m.\u001b[39misfile(filepath):\n\u001b[0;32m-> 1085\u001b[0m     \u001b[38;5;28;01mreturn\u001b[39;00m \u001b[38;5;28;43mself\u001b[39;49m\u001b[38;5;241;43m.\u001b[39;49m\u001b[43m_fromfile\u001b[49m\u001b[43m(\u001b[49m\u001b[43mfilepath\u001b[49m\u001b[43m)\u001b[49m\n\u001b[1;32m   1086\u001b[0m \u001b[38;5;28;01melse\u001b[39;00m:\n\u001b[1;32m   1087\u001b[0m     \u001b[38;5;28;01mraise\u001b[39;00m \u001b[38;5;167;01mKeyError\u001b[39;00m(key)\n",
      "File \u001b[0;32m~/miniconda3/envs/pyenv/lib/python3.9/site-packages/zarr/storage.py:1060\u001b[0m, in \u001b[0;36mDirectoryStore._fromfile\u001b[0;34m(fn)\u001b[0m\n\u001b[1;32m   1047\u001b[0m \u001b[38;5;250m\u001b[39m\u001b[38;5;124;03m\"\"\" Read data from a file\u001b[39;00m\n\u001b[1;32m   1048\u001b[0m \n\u001b[1;32m   1049\u001b[0m \u001b[38;5;124;03mParameters\u001b[39;00m\n\u001b[0;32m   (...)\u001b[0m\n\u001b[1;32m   1057\u001b[0m \u001b[38;5;124;03mfile reading logic.\u001b[39;00m\n\u001b[1;32m   1058\u001b[0m \u001b[38;5;124;03m\"\"\"\u001b[39;00m\n\u001b[1;32m   1059\u001b[0m \u001b[38;5;28;01mwith\u001b[39;00m \u001b[38;5;28mopen\u001b[39m(fn, \u001b[38;5;124m'\u001b[39m\u001b[38;5;124mrb\u001b[39m\u001b[38;5;124m'\u001b[39m) \u001b[38;5;28;01mas\u001b[39;00m f:\n\u001b[0;32m-> 1060\u001b[0m     \u001b[38;5;28;01mreturn\u001b[39;00m \u001b[43mf\u001b[49m\u001b[38;5;241;43m.\u001b[39;49m\u001b[43mread\u001b[49m\u001b[43m(\u001b[49m\u001b[43m)\u001b[49m\n",
      "\u001b[0;31mBrokenPipeError\u001b[0m: [Errno 108] Cannot send after transport endpoint shutdown"
     ]
    }
   ],
   "source": [
    "%%time\n",
    "pi_det   = xr.open_zarr(cvals_det+'pi_detrended.zarr').detrended_tmax\n",
    "eoc_det  = xr.open_zarr(cvals_det+'eoc_detrended.zarr').detrended_tmax\n",
    "#\n",
    "# pi_det   = pi_det.chunk({'member':100,'lat':8,'lon':10,'year':30,'dayofyear':35})\n",
    "# eoc_det  = eoc_det.chunk({'member':100,'lat':8,'lon':10,'year':30,'dayofyear':35})"
   ]
  },
  {
   "cell_type": "markdown",
   "id": "dace8880-371c-49d9-a726-8244852183e1",
   "metadata": {},
   "source": [
    "### Apply MDM, compute quantile funtions and save data"
   ]
  },
  {
   "cell_type": "code",
   "execution_count": null,
   "id": "e69c0433-cae6-4f1a-a272-10784529de2a",
   "metadata": {},
   "outputs": [],
   "source": [
    "# Compute mean and std over year i.e, annual mean and stds \n",
    "pi_amean  = pi_det.mean('year')\n",
    "eoc_amean = eoc_det.mean('year')\n",
    "pi_astd   = pi_det.std('year')\n",
    "eoc_astd  = eoc_det.std('year')"
   ]
  },
  {
   "cell_type": "code",
   "execution_count": null,
   "id": "ae404d04-da5d-4636-adfc-ce7ea5c1aac1",
   "metadata": {},
   "outputs": [],
   "source": [
    "pi_mdm = implement_mdm(pi_det,pi_amean,eoc_amean,pi_astd,eoc_astd)"
   ]
  },
  {
   "cell_type": "code",
   "execution_count": null,
   "id": "28ed3915-0579-426b-8c34-88c7d8a7d461",
   "metadata": {},
   "outputs": [],
   "source": [
    "pi_shift = implement_shift(pi_det,pi_amean,eoc_amean)"
   ]
  },
  {
   "cell_type": "code",
   "execution_count": 15,
   "id": "a8ad29c2-5ff8-4e93-99d9-54d7faa7c84d",
   "metadata": {},
   "outputs": [
    {
     "name": "stdout",
     "output_type": "stream",
     "text": [
      "CPU times: user 0 ns, sys: 15 µs, total: 15 µs\n",
      "Wall time: 26.5 µs\n"
     ]
    }
   ],
   "source": [
    "%%time\n",
    "# pi_mdm.to_dataset().to_zarr(cvals_det+'pi_mdm_intra_simu'+'_'+ic_year0+'_'+ic_year1+'.zarr',mode='w')"
   ]
  },
  {
   "cell_type": "code",
   "execution_count": null,
   "id": "855dd151-5b7a-455c-81f6-f424626d8e70",
   "metadata": {},
   "outputs": [],
   "source": [
    "%%time\n",
    "pi_mdm = xr.open_zarr(cvals_det+'pi_mdm_intra_simu'+'_'+ic_year0+'_'+ic_year1+'.zarr').detrended_tmax\n",
    "pi_mdm"
   ]
  },
  {
   "cell_type": "code",
   "execution_count": 17,
   "id": "7abfcf51-51cd-4497-9d1b-21bc6450ffff",
   "metadata": {},
   "outputs": [],
   "source": [
    "# %%time\n",
    "# pi_mdm.sel(lat=LAT,lon=LON,method='nearest').sel(member=0,dayofyear=1).values"
   ]
  },
  {
   "cell_type": "markdown",
   "id": "21a8dbab-7a88-4aef-b24c-374501bc5a82",
   "metadata": {},
   "source": [
    "### Compute quantiles and errors for each season"
   ]
  },
  {
   "cell_type": "markdown",
   "id": "0ef1f73a-e617-4394-9de7-36215d7be3f0",
   "metadata": {},
   "source": [
    "#### Pick season and months #######"
   ]
  },
  {
   "cell_type": "code",
   "execution_count": null,
   "id": "df02614f-2ac6-4020-90f7-75d8c0780ee1",
   "metadata": {},
   "outputs": [],
   "source": [
    "#DJF \n",
    "# months         = [12,1,2]\n",
    "# season         = 'djf'\n",
    "#\n",
    "# #MAM\n",
    "months         = [3,4,5]\n",
    "season         =  'mam'\n",
    "#\n",
    "# #JJA\n",
    "# months         = [6,7,8]\n",
    "# season         =  'jja'\n",
    "#\n",
    "# #SON\n",
    "# months         = [9,10,11]\n",
    "# season         =  'son'"
   ]
  },
  {
   "cell_type": "code",
   "execution_count": null,
   "id": "26c2a023-e9f1-406a-bf99-7387ac39d278",
   "metadata": {},
   "outputs": [],
   "source": [
    "pi_mdm_season   = select_months(pi_mdm,months)\n",
    "pi_season       = select_months(pi_det,months)\n",
    "eoc_season      = select_months(eoc_det,months)\n",
    "#\n",
    "# Compute mean and std over year i.e, annual mean and stds \n",
    "pi_amean_season  = select_months(pi_amean,months)\n",
    "eoc_amean_season = select_months(eoc_amean,months)\n",
    "pi_astd_season   = select_months(pi_astd,months)\n",
    "eoc_astd_season  = select_months(eoc_astd,months)\n",
    "#\n",
    "pi_shift_season = implement_shift(pi_season,pi_amean_season,eoc_amean_season)"
   ]
  },
  {
   "cell_type": "code",
   "execution_count": null,
   "id": "921e504e-b23e-4810-92eb-7049a4858211",
   "metadata": {
    "editable": true,
    "slideshow": {
     "slide_type": ""
    },
    "tags": []
   },
   "outputs": [],
   "source": [
    "%%time\n",
    "qpi_mdm_season   = compute_quantiles(pi_mdm_season)\n",
    "qpi_shift_season = compute_quantiles(pi_shift_season)\n",
    "qeoc_season      = compute_quantiles(eoc_season)\n",
    "qpi_season       = compute_quantiles(pi_season)"
   ]
  },
  {
   "cell_type": "code",
   "execution_count": null,
   "id": "7b3b5154-fde8-4335-8c43-c77723c2e690",
   "metadata": {},
   "outputs": [],
   "source": [
    "%%time\n",
    "qmdm_err_season   = qpi_mdm_season   - qeoc_season\n",
    "qshift_err_season = qpi_shift_season - qeoc_season\n",
    "#\n",
    "qmdm_err_season   = qmdm_err_season.chunk({'dayofyear':14})\n",
    "qshift_err_season = qshift_err_season.chunk({'dayofyear':14})\n",
    "qshift_err_season"
   ]
  },
  {
   "cell_type": "code",
   "execution_count": null,
   "id": "be6bf10d-87b7-4a01-a94e-f200bb276ac0",
   "metadata": {},
   "outputs": [
    {
     "name": "stderr",
     "output_type": "stream",
     "text": [
      "Task exception was never retrieved\n",
      "future: <Task finished name='Task-339424' coro=<Scheduler.handle_request_refresh_who_has() done, defined at /global/home/users/harsha/miniconda3/envs/pyenv/lib/python3.9/site-packages/distributed/scheduler.py:5622> exception=KeyError('tcp://10.0.39.13:41875')>\n",
      "Traceback (most recent call last):\n",
      "  File \"/global/home/users/harsha/miniconda3/envs/pyenv/lib/python3.9/site-packages/distributed/scheduler.py\", line 5638, in handle_request_refresh_who_has\n",
      "    self.stream_comms[worker].send(\n",
      "KeyError: 'tcp://10.0.39.13:41875'\n",
      "Task exception was never retrieved\n",
      "future: <Task finished name='Task-340556' coro=<Scheduler.handle_request_refresh_who_has() done, defined at /global/home/users/harsha/miniconda3/envs/pyenv/lib/python3.9/site-packages/distributed/scheduler.py:5622> exception=KeyError('tcp://10.0.39.13:41875')>\n",
      "Traceback (most recent call last):\n",
      "  File \"/global/home/users/harsha/miniconda3/envs/pyenv/lib/python3.9/site-packages/distributed/scheduler.py\", line 5638, in handle_request_refresh_who_has\n",
      "    self.stream_comms[worker].send(\n",
      "KeyError: 'tcp://10.0.39.13:41875'\n",
      "Task exception was never retrieved\n",
      "future: <Task finished name='Task-371905' coro=<Scheduler.handle_request_refresh_who_has() done, defined at /global/home/users/harsha/miniconda3/envs/pyenv/lib/python3.9/site-packages/distributed/scheduler.py:5622> exception=KeyError('tcp://10.0.39.13:41969')>\n",
      "Traceback (most recent call last):\n",
      "  File \"/global/home/users/harsha/miniconda3/envs/pyenv/lib/python3.9/site-packages/distributed/scheduler.py\", line 5638, in handle_request_refresh_who_has\n",
      "    self.stream_comms[worker].send(\n",
      "KeyError: 'tcp://10.0.39.13:41969'\n",
      "Task exception was never retrieved\n",
      "future: <Task finished name='Task-431036' coro=<Scheduler.handle_request_refresh_who_has() done, defined at /global/home/users/harsha/miniconda3/envs/pyenv/lib/python3.9/site-packages/distributed/scheduler.py:5622> exception=KeyError('tcp://10.0.39.13:44727')>\n",
      "Traceback (most recent call last):\n",
      "  File \"/global/home/users/harsha/miniconda3/envs/pyenv/lib/python3.9/site-packages/distributed/scheduler.py\", line 5638, in handle_request_refresh_who_has\n",
      "    self.stream_comms[worker].send(\n",
      "KeyError: 'tcp://10.0.39.13:44727'\n",
      "Task exception was never retrieved\n",
      "future: <Task finished name='Task-517445' coro=<Scheduler.handle_request_refresh_who_has() done, defined at /global/home/users/harsha/miniconda3/envs/pyenv/lib/python3.9/site-packages/distributed/scheduler.py:5622> exception=KeyError('tcp://10.0.39.8:41077')>\n",
      "Traceback (most recent call last):\n",
      "  File \"/global/home/users/harsha/miniconda3/envs/pyenv/lib/python3.9/site-packages/distributed/scheduler.py\", line 5638, in handle_request_refresh_who_has\n",
      "    self.stream_comms[worker].send(\n",
      "KeyError: 'tcp://10.0.39.8:41077'\n",
      "Task exception was never retrieved\n",
      "future: <Task finished name='Task-564311' coro=<Scheduler.handle_request_refresh_who_has() done, defined at /global/home/users/harsha/miniconda3/envs/pyenv/lib/python3.9/site-packages/distributed/scheduler.py:5622> exception=KeyError('tcp://10.0.39.8:40961')>\n",
      "Traceback (most recent call last):\n",
      "  File \"/global/home/users/harsha/miniconda3/envs/pyenv/lib/python3.9/site-packages/distributed/scheduler.py\", line 5638, in handle_request_refresh_who_has\n",
      "    self.stream_comms[worker].send(\n",
      "KeyError: 'tcp://10.0.39.8:40961'\n",
      "Task exception was never retrieved\n",
      "future: <Task finished name='Task-565009' coro=<Scheduler.handle_request_refresh_who_has() done, defined at /global/home/users/harsha/miniconda3/envs/pyenv/lib/python3.9/site-packages/distributed/scheduler.py:5622> exception=KeyError('tcp://10.0.39.8:40961')>\n",
      "Traceback (most recent call last):\n",
      "  File \"/global/home/users/harsha/miniconda3/envs/pyenv/lib/python3.9/site-packages/distributed/scheduler.py\", line 5638, in handle_request_refresh_who_has\n",
      "    self.stream_comms[worker].send(\n",
      "KeyError: 'tcp://10.0.39.8:40961'\n",
      "Task exception was never retrieved\n",
      "future: <Task finished name='Task-565010' coro=<Scheduler.handle_request_refresh_who_has() done, defined at /global/home/users/harsha/miniconda3/envs/pyenv/lib/python3.9/site-packages/distributed/scheduler.py:5622> exception=KeyError('tcp://10.0.39.8:40961')>\n",
      "Traceback (most recent call last):\n",
      "  File \"/global/home/users/harsha/miniconda3/envs/pyenv/lib/python3.9/site-packages/distributed/scheduler.py\", line 5638, in handle_request_refresh_who_has\n",
      "    self.stream_comms[worker].send(\n",
      "KeyError: 'tcp://10.0.39.8:40961'\n",
      "Task exception was never retrieved\n",
      "future: <Task finished name='Task-776900' coro=<Scheduler.handle_request_refresh_who_has() done, defined at /global/home/users/harsha/miniconda3/envs/pyenv/lib/python3.9/site-packages/distributed/scheduler.py:5622> exception=KeyError('tcp://10.0.39.8:40123')>\n",
      "Traceback (most recent call last):\n",
      "  File \"/global/home/users/harsha/miniconda3/envs/pyenv/lib/python3.9/site-packages/distributed/scheduler.py\", line 5638, in handle_request_refresh_who_has\n",
      "    self.stream_comms[worker].send(\n",
      "KeyError: 'tcp://10.0.39.8:40123'\n",
      "Task exception was never retrieved\n",
      "future: <Task finished name='Task-783516' coro=<Scheduler.handle_request_refresh_who_has() done, defined at /global/home/users/harsha/miniconda3/envs/pyenv/lib/python3.9/site-packages/distributed/scheduler.py:5622> exception=KeyError('tcp://10.0.39.8:40123')>\n",
      "Traceback (most recent call last):\n",
      "  File \"/global/home/users/harsha/miniconda3/envs/pyenv/lib/python3.9/site-packages/distributed/scheduler.py\", line 5638, in handle_request_refresh_who_has\n",
      "    self.stream_comms[worker].send(\n",
      "KeyError: 'tcp://10.0.39.8:40123'\n",
      "Task exception was never retrieved\n",
      "future: <Task finished name='Task-783519' coro=<Scheduler.handle_request_refresh_who_has() done, defined at /global/home/users/harsha/miniconda3/envs/pyenv/lib/python3.9/site-packages/distributed/scheduler.py:5622> exception=KeyError('tcp://10.0.39.8:40123')>\n",
      "Traceback (most recent call last):\n",
      "  File \"/global/home/users/harsha/miniconda3/envs/pyenv/lib/python3.9/site-packages/distributed/scheduler.py\", line 5638, in handle_request_refresh_who_has\n",
      "    self.stream_comms[worker].send(\n",
      "KeyError: 'tcp://10.0.39.8:40123'\n",
      "Task exception was never retrieved\n",
      "future: <Task finished name='Task-967911' coro=<Scheduler.handle_request_refresh_who_has() done, defined at /global/home/users/harsha/miniconda3/envs/pyenv/lib/python3.9/site-packages/distributed/scheduler.py:5622> exception=KeyError('tcp://10.0.39.8:32769')>\n",
      "Traceback (most recent call last):\n",
      "  File \"/global/home/users/harsha/miniconda3/envs/pyenv/lib/python3.9/site-packages/distributed/scheduler.py\", line 5638, in handle_request_refresh_who_has\n",
      "    self.stream_comms[worker].send(\n",
      "KeyError: 'tcp://10.0.39.8:32769'\n",
      "Task exception was never retrieved\n",
      "future: <Task finished name='Task-973626' coro=<Scheduler.handle_request_refresh_who_has() done, defined at /global/home/users/harsha/miniconda3/envs/pyenv/lib/python3.9/site-packages/distributed/scheduler.py:5622> exception=KeyError('tcp://10.0.39.13:39619')>\n",
      "Traceback (most recent call last):\n",
      "  File \"/global/home/users/harsha/miniconda3/envs/pyenv/lib/python3.9/site-packages/distributed/scheduler.py\", line 5638, in handle_request_refresh_who_has\n",
      "    self.stream_comms[worker].send(\n",
      "KeyError: 'tcp://10.0.39.13:39619'\n",
      "Task exception was never retrieved\n",
      "future: <Task finished name='Task-1040336' coro=<Scheduler.handle_request_refresh_who_has() done, defined at /global/home/users/harsha/miniconda3/envs/pyenv/lib/python3.9/site-packages/distributed/scheduler.py:5622> exception=KeyError('tcp://10.0.39.10:36537')>\n",
      "Traceback (most recent call last):\n",
      "  File \"/global/home/users/harsha/miniconda3/envs/pyenv/lib/python3.9/site-packages/distributed/scheduler.py\", line 5638, in handle_request_refresh_who_has\n",
      "    self.stream_comms[worker].send(\n",
      "KeyError: 'tcp://10.0.39.10:36537'\n",
      "Task exception was never retrieved\n",
      "future: <Task finished name='Task-1040438' coro=<Scheduler.handle_request_refresh_who_has() done, defined at /global/home/users/harsha/miniconda3/envs/pyenv/lib/python3.9/site-packages/distributed/scheduler.py:5622> exception=KeyError('tcp://10.0.39.10:36537')>\n",
      "Traceback (most recent call last):\n",
      "  File \"/global/home/users/harsha/miniconda3/envs/pyenv/lib/python3.9/site-packages/distributed/scheduler.py\", line 5638, in handle_request_refresh_who_has\n",
      "    self.stream_comms[worker].send(\n",
      "KeyError: 'tcp://10.0.39.10:36537'\n"
     ]
    }
   ],
   "source": [
    "# %%time\n",
    "# qmdm_err_season.to_dataset().to_zarr(cvals_det+'mdm_err_'+season+'_'+ic_year0+'_'+ic_year1+'.zarr',mode='w')"
   ]
  },
  {
   "cell_type": "code",
   "execution_count": null,
   "id": "85b39b03-ccc9-49f0-a061-ca23115c7608",
   "metadata": {
    "editable": true,
    "slideshow": {
     "slide_type": ""
    },
    "tags": []
   },
   "outputs": [],
   "source": [
    "# %%time\n",
    "# qshift_err_season.to_dataset().to_zarr(cvals_det+'shift_err_'+season+'_'+ic_year0+'_'+ic_year1+'.zarr',mode='w')"
   ]
  },
  {
   "cell_type": "code",
   "execution_count": null,
   "id": "c2ea1a71-daed-480e-b876-8d8425f1c097",
   "metadata": {},
   "outputs": [],
   "source": [
    "## Open files\n",
    "qmdm_err_season   = xr.open_zarr(cvals_det+'mdm_err_'+season+'_'+ic_year0+'_'+ic_year1+'.zarr').detrended_tmax\n",
    "qshift_err_season = xr.open_zarr(cvals_det+'shift_err_'+season+'_'+ic_year0+'_'+ic_year1+'.zarr').detrended_tmax"
   ]
  },
  {
   "cell_type": "code",
   "execution_count": null,
   "id": "2384f926-9431-4153-a37e-29ea73b1beee",
   "metadata": {},
   "outputs": [],
   "source": [
    "qshift_err_season.sel(lat=LAT,lon=LON,method='nearest').sel(member=0,dayofyear=1).values"
   ]
  },
  {
   "cell_type": "markdown",
   "id": "64ec7e58-7cd4-4be0-b75e-40c6e12d9962",
   "metadata": {},
   "source": [
    "### Compute Gaussian quantile functions and errors"
   ]
  },
  {
   "cell_type": "code",
   "execution_count": null,
   "id": "d6a42912-93e5-4450-bb12-0548f6ac21e4",
   "metadata": {},
   "outputs": [],
   "source": [
    "# Create a DataArray for the quantiles\n",
    "quantiles = xr.DataArray(np.linspace(0,1.0,30), dims='quantile').assign_coords(quantile=('quantile',quants))"
   ]
  },
  {
   "cell_type": "code",
   "execution_count": null,
   "id": "a7d761d9-efa5-4f06-b5a7-171cb29d7884",
   "metadata": {},
   "outputs": [],
   "source": [
    "####### Construct gaussians for EOC ################\n",
    "qgauss_standard_normal        = xr.apply_ufunc(erfinv,2*quantiles-1)\n",
    "#################\n",
    "qpi_gauss_season      = eoc_amean_season + eoc_astd_season * np.sqrt(2) *qgauss_standard_normal\n",
    "qpi_gauss_season.name = 'qgauss_detrended'\n",
    "qpi_gauss_season\n",
    "## gaussmo = gaussian with eoc mean only and pre-ind std\n",
    "qpi_gaussmo_season      = eoc_amean_season + pi_astd_season * np.sqrt(2) * qgauss_standard_normal      \n",
    "qpi_gaussmo_season.name = 'qgaussmo_detrended'\n",
    "qpi_gaussmo_season"
   ]
  },
  {
   "cell_type": "code",
   "execution_count": null,
   "id": "0ccafd0b-1bc0-45fa-aac9-8601df1a23e2",
   "metadata": {},
   "outputs": [],
   "source": [
    "%%time\n",
    "qgauss_err_season   = qpi_gauss_season   - qeoc_season\n",
    "qgaussmo_err_season = qpi_gaussmo_season - qeoc_season\n",
    "#\n",
    "qgauss_err_season.name   = 'qgauss_error'\n",
    "qgaussmo_err_season.name = 'qgaussmo_error'\n",
    "#\n",
    "qgauss_err_season"
   ]
  },
  {
   "cell_type": "code",
   "execution_count": null,
   "id": "49f1a481-5be8-4ecb-978a-b577087f7627",
   "metadata": {},
   "outputs": [],
   "source": [
    "%%time\n",
    "qgauss_err_season.to_dataset().to_zarr(cvals_det+'gauss_err_'+season+'_'+ic_year0+'_'+ic_year1+'.zarr',mode='w')\n",
    "qgaussmo_err_season.to_dataset().to_zarr(cvals_det+'gaussmo_err_'+season+'_'+ic_year0+'_'+ic_year1+'.zarr',mode='w')"
   ]
  },
  {
   "cell_type": "code",
   "execution_count": null,
   "id": "58f467f8-501d-45e6-a119-58568dbea347",
   "metadata": {},
   "outputs": [],
   "source": [
    "%%time\n",
    "qgauss_err_season   = xr.open_zarr(cvals_det+'gauss_err_'+season+'_'+ic_year0+'_'+ic_year1+'.zarr').qgauss_error\n",
    "qgaussmo_err_season = xr.open_zarr(cvals_det+'gaussmo_err_'+season+'_'+ic_year0+'_'+ic_year1+'.zarr').qgaussmo_error"
   ]
  },
  {
   "cell_type": "markdown",
   "id": "a9e9c87a-cbc5-4ee6-bb47-dd9634e91797",
   "metadata": {},
   "source": [
    "### Plot MDM errors"
   ]
  },
  {
   "cell_type": "code",
   "execution_count": null,
   "id": "7ffed6b4-ed46-48e6-9550-10ccc750e331",
   "metadata": {},
   "outputs": [],
   "source": [
    "######## New colorbar only for shift + stretch and gaussian ############\n",
    "x = 5\n",
    "# create a figure and axis\n",
    "fig, ax = plt.subplots(figsize=(6, 1))\n",
    "fig.subplots_adjust(bottom=0.5)\n",
    "# Define colormap\n",
    "cmap = plt.get_cmap('RdBu_r')\n",
    "# Make a norm object with the center at 0: TwoSlopeNorm\n",
    "norm = mcolors.TwoSlopeNorm(vmin=-x, vcenter=0, vmax=x)\n",
    "# Making numpy array from -3 to 3, with step 0.2\n",
    "values = np.arange(-x, x+0.25, 0.25)\n",
    "# Creating a mappable object and setting the norm and cmap for colorbar\n",
    "mappable = cm.ScalarMappable(norm=norm, cmap=cmap)\n",
    "mappable.set_array([])\n",
    "# Creating a colorbar\n",
    "ticks1 = altspace(-4,1,9)\n",
    "cbar = plt.colorbar(mappable, ax=ax, orientation='vertical',ticks=ticks1)\n",
    "cbar.set_label('')\n",
    "plt.gca().set_visible(False)"
   ]
  },
  {
   "cell_type": "code",
   "execution_count": null,
   "id": "2320b16b",
   "metadata": {},
   "outputs": [],
   "source": [
    "%%time\n",
    "member =0 \n",
    "# Creating a figure and axes\n",
    "fig, axs = plt.subplots(nrows=1, ncols=2, figsize=(10,5), subplot_kw={'projection': cart.crs.PlateCarree()}\\\n",
    "                       , gridspec_kw = {'wspace':0.05, 'hspace':0.2})\n",
    "\n",
    "# Plotting qgmsc_err\n",
    "qmdm_err_season.sel(quantile=0.9,method='nearest').sel(member=member).mean('dayofyear').plot(ax=axs[0], transform=cart.crs.PlateCarree(),\\\n",
    "                                                    add_colorbar=False, cmap=cmap, norm=norm)\n",
    "axs[0].coastlines(color=\"black\")\n",
    "axs[0].set_title(season+r': $L_2(Q_h) - Q_f$ at $p=0.9$')\n",
    "\n",
    "# Plotting G2, gaussian error\n",
    "im = qgauss_err_season.sel(quantile=0.9,method='nearest').sel(member=member).mean('dayofyear').plot(ax=axs[1], transform=cart.crs.PlateCarree(),\\\n",
    "                                                          add_colorbar=False, cmap=cmap, norm=norm)\n",
    "axs[1].coastlines(color=\"black\")\n",
    "axs[1].set_title(season+': $G_2(Q_h) - Q_f$ at $p=0.9$')\n",
    "\n",
    "# Adding colorbar\n",
    "cbar = plt.colorbar(im, ax=axs.ravel().tolist(), shrink=0.5, orientation='vertical')\n",
    "cbar.set_label('Error')\n",
    "\n",
    "plt.show()"
   ]
  },
  {
   "cell_type": "code",
   "execution_count": null,
   "id": "9d0fc897",
   "metadata": {},
   "outputs": [],
   "source": [
    "%%time\n",
    "# Creating a figure and axes\n",
    "fig, axs = plt.subplots(nrows=1, ncols=2, figsize=(10,5), subplot_kw={'projection': cart.crs.PlateCarree()}\\\n",
    "                       , gridspec_kw = {'wspace':0.05, 'hspace':0.2})\n",
    "\n",
    "# Plotting qgmsc_err\n",
    "qshift_err_season.sel(quantile=0.9,method='nearest').sel(member=member).mean('dayofyear').plot(ax=axs[0], transform=cart.crs.PlateCarree(),\\\n",
    "                                                    add_colorbar=False, cmap=cmap, norm=norm)\n",
    "axs[0].coastlines(color=\"black\")\n",
    "axs[0].set_title(season+': $L_1(Q_i) - Q_f$ at $p=0.9$')\n",
    "\n",
    "# Plotting da2\n",
    "im = qgaussmo_err_season.sel(quantile=0.9,method='nearest').sel(member=member).mean('dayofyear').plot(ax=axs[1], transform=cart.crs.PlateCarree(),\\\n",
    "                                                          add_colorbar=False, cmap=cmap, norm=norm)\n",
    "axs[1].coastlines(color=\"black\")\n",
    "axs[1].set_title(season+r': $G_1(Q_i) - Q_f$ at $p=0.9$')\n",
    "\n",
    "# Adding colorbar\n",
    "cbar = plt.colorbar(im, ax=axs.ravel().tolist(), shrink=0.5, orientation='vertical')\n",
    "cbar.set_label('Errors')\n",
    "\n",
    "plt.show()"
   ]
  },
  {
   "cell_type": "markdown",
   "id": "7e3f8391-0faf-4d96-aa97-8786498207af",
   "metadata": {},
   "source": [
    "### Compute ensemble mean of absolute errors"
   ]
  },
  {
   "cell_type": "code",
   "execution_count": null,
   "id": "5a0e67d2-0778-4e1e-806a-ffbe514d3e06",
   "metadata": {},
   "outputs": [],
   "source": [
    "qmdm_abserr_season = np.abs(qmdm_err_season)\n"
   ]
  },
  {
   "cell_type": "code",
   "execution_count": null,
   "id": "0bf52e06-09c8-435b-941b-9bd214819486",
   "metadata": {},
   "outputs": [],
   "source": [
    "#############################################################################################################"
   ]
  }
 ],
 "metadata": {
  "kernelspec": {
   "display_name": "python:mdm",
   "language": "python",
   "name": "mdm"
  },
  "language_info": {
   "codemirror_mode": {
    "name": "ipython",
    "version": 3
   },
   "file_extension": ".py",
   "mimetype": "text/x-python",
   "name": "python",
   "nbconvert_exporter": "python",
   "pygments_lexer": "ipython3",
   "version": "3.10.13"
  }
 },
 "nbformat": 4,
 "nbformat_minor": 5
}
