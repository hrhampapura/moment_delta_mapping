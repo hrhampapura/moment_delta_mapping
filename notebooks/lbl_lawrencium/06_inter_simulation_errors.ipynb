{
 "cells": [
  {
   "cell_type": "markdown",
   "id": "596c519b",
   "metadata": {},
   "source": [
    "# Test the performance of MDM vs QDM + Sort for the globe"
   ]
  },
  {
   "cell_type": "code",
   "execution_count": 1,
   "id": "dd62abd7",
   "metadata": {},
   "outputs": [
    {
     "name": "stderr",
     "output_type": "stream",
     "text": [
      "/global/home/users/harsha/miniconda3/envs/pyenv/lib/python3.9/site-packages/scipy/__init__.py:146: UserWarning: A NumPy version >=1.16.5 and <1.23.0 is required for this version of SciPy (detected version 1.23.5\n",
      "  warnings.warn(f\"A NumPy version >={np_minversion} and <{np_maxversion}\"\n",
      "/global/home/users/harsha/miniconda3/envs/pyenv/lib/python3.9/site-packages/numba/core/cpu.py:78: UserWarning: Numba extension module 'numba_scipy' failed to load due to 'ContextualVersionConflict((numpy 1.23.5 (/global/home/users/harsha/miniconda3/envs/pyenv/lib/python3.9/site-packages), Requirement.parse('numpy<1.23.0,>=1.16.5'), {'scipy'}))'.\n",
      "  numba.core.entrypoints.init_all()\n",
      "/global/home/users/harsha/miniconda3/envs/pyenv/lib/python3.9/site-packages/numba/core/cpu.py:78: UserWarning: Numba extension module 'sparse._numba_extension' failed to load due to 'ContextualVersionConflict((numpy 1.23.5 (/global/home/users/harsha/miniconda3/envs/pyenv/lib/python3.9/site-packages), Requirement.parse('numpy<1.23.0,>=1.16.5'), {'scipy'}))'.\n",
      "  numba.core.entrypoints.init_all()\n"
     ]
    }
   ],
   "source": [
    "import numpy as np\n",
    "import xarray as xr\n",
    "from distributed import Client\n",
    "import dask_jobqueue\n",
    "import matplotlib.pyplot as plt\n",
    "import matplotlib as mtplt\n",
    "import glob\n",
    "# import netCDF4 as nc\n",
    "import zarr\n",
    "import nc_time_axis\n",
    "import xskillscore as xs\n",
    "import cartopy as cart\n",
    "#np.set_printoptions(threshold=np.inf)\n",
    "import matplotlib.colors as mcolors\n",
    "import matplotlib.cm as cm\n",
    "from datetime import datetime, timedelta\n",
    "import pandas as pd\n",
    "import random"
   ]
  },
  {
   "cell_type": "code",
   "execution_count": 2,
   "id": "cdc90cc0",
   "metadata": {},
   "outputs": [],
   "source": [
    "chic_lat  = 41.8781\n",
    "chic_lon  = (360-87.6298)%360\n",
    "ben_lat   = 12.9716\n",
    "ben_lon   = 77.5946\n",
    "########## CONUS ############\n",
    "#CONUS lat-lon\n",
    "top       = 50.0 # north lat\n",
    "left      = -124.7844079+360 # west long\n",
    "right     = -66.9513812+360 # east long\n",
    "bottom    =  24.7433195 # south lat\n",
    "################################\n",
    "cesm2_path        = '/global/scratch/users/harsha/LENS/cesm2/tasmax/'\n",
    "cvals             = '/global/scratch/users/harsha/LENS/cesm2/cvals/detrended/'\n",
    "cmip6_cvals       = cvals + 'cmip6/'\n",
    "#cvals_det     = '/global/scratch/users/harsha/LENS/cesm2/cvals/detrended/'\n",
    "############\n",
    "pi_year  = 1865\n",
    "eoc_year = 2085\n",
    "#\n",
    "doy  = 211\n",
    "#\n",
    "pi_year0  = '1850'\n",
    "pi_year1  = '1879'\n",
    "ic_year0  = '2071'\n",
    "ic_year1  = '2100'"
   ]
  },
  {
   "cell_type": "code",
   "execution_count": 3,
   "id": "95e5d6a5-9fae-4072-8ba2-9c3f71f0103b",
   "metadata": {},
   "outputs": [
    {
     "data": {
      "text/plain": [
       "'July 30'"
      ]
     },
     "execution_count": 3,
     "metadata": {},
     "output_type": "execute_result"
    }
   ],
   "source": [
    "def no_leap_date(day_of_year):\n",
    "    # Start from the first day of a non-leap year\n",
    "    start_date = datetime(2021, 1, 1)\n",
    "\n",
    "    # Calculate the actual date (subtract 1 because January 1st is day 1)\n",
    "    actual_date = start_date + timedelta(days=day_of_year - 1)\n",
    "\n",
    "    # Format the date to get 'Month Day'\n",
    "    return actual_date.strftime('%B %d')\n",
    "###############################\n",
    "date = no_leap_date(doy)\n",
    "date"
   ]
  },
  {
   "cell_type": "code",
   "execution_count": 4,
   "id": "cbf31585",
   "metadata": {},
   "outputs": [],
   "source": [
    "def to_daily(ds):\n",
    "    year       = ds.time.dt.year\n",
    "    dayofyear  = ds.time.dt.dayofyear\n",
    "\n",
    "    # assign new coords\n",
    "    ds = ds.assign_coords(year=(\"time\", year.data), dayofyear=(\"time\", dayofyear.data))\n",
    "\n",
    "    # reshape the array to (..., \"day\", \"year\")\n",
    "    return ds.set_index(time=(\"year\", \"dayofyear\")).unstack(\"time\")  "
   ]
  },
  {
   "cell_type": "code",
   "execution_count": 5,
   "id": "db193e4c",
   "metadata": {},
   "outputs": [],
   "source": [
    "# calculate global means\n",
    "def get_lat_name(ds):\n",
    "    for lat_name in ['lat', 'latitude']:\n",
    "        if lat_name in ds.coords:\n",
    "            return lat_name\n",
    "    raise RuntimeError(\"Couldn't find a latitude coordinate\")\n",
    "\n",
    "def global_mean(ds):\n",
    "    lat = ds[get_lat_name(ds)]\n",
    "    weight = np.cos(np.deg2rad(lat))\n",
    "    weight /= weight.mean()\n",
    "    other_dims = set(ds.dims) - {'quantile','model_id','obs_id'}\n",
    "    return (ds * weight).mean(other_dims)"
   ]
  },
  {
   "cell_type": "code",
   "execution_count": 6,
   "id": "b5b4e61b",
   "metadata": {},
   "outputs": [],
   "source": [
    "def implement_mdm(ds_obs,init_mean,final_mean,init_std,final_std):\n",
    "    # Assuming coordinates year and day for ds_obs\n",
    "    obs_mean = ds_obs.mean('year')\n",
    "    sratio   = final_std/init_std\n",
    "    ds_mdm   = obs_mean + (final_mean - init_mean) + sratio*(ds_obs - obs_mean)        \n",
    "    return ds_mdm\n",
    "\n",
    "def implement_shift(ds_obs,init_mean,final_mean):\n",
    "    # Assuming coordinates year and day for ds_obs\n",
    "    #obs_mean   = ds_obs.mean('year')\n",
    "    ds_shift   = ds_obs + (final_mean - init_mean) \n",
    "    return ds_shift \n",
    "    \n",
    "def implement_qdm(qobs, qinit, qfinal):\n",
    "    # Implement quantile delta mapping. Assumes model data has corrd called 'mtime'\n",
    "    #qinit    = init_data.quantile(quants,dim='mtime')\n",
    "    #qfinal   = final_data.quantile(quants,dim='mtime')\n",
    "    ds_qdm   = qobs + (qfinal - qinit)\n",
    "    return ds_qdm\n",
    "\n",
    "def is_sorted(arr):\n",
    "    return np.all(arr[:-1] <= arr[1:]) or np.all(arr[:-1] >= arr[1:])\n",
    "\n",
    "#\n",
    "quants = np.linspace(0,1.0,30)\n",
    "def compute_quantiles(ds, quantiles=quants):\n",
    "    return ds.chunk(dict(year=-1)).quantile(quantiles, dim='year',skipna=False)"
   ]
  },
  {
   "cell_type": "code",
   "execution_count": 7,
   "id": "da8680bd-73cc-4cbe-a490-8f2cb461aa2e",
   "metadata": {},
   "outputs": [],
   "source": [
    "# job_extra = ['--qos=cf_lowprio','--account=ac_cumulus'] \n",
    "job_extra =['--qos=lr6_lowprio','--account=ac_cumulus','--constraint=lr6_m192']\n",
    "#job_extra =['--qos=condo_cumulus_lr6','--account=lr_cumulus','--constraint=lr6_m192']\n",
    "#job_extra =['--qos=lr_lowprio','--account=ac_cumulus']\n",
    "cluster = dask_jobqueue.SLURMCluster(queue=\"lr6\", cores=20, walltime='5:00:00', \n",
    "                local_directory='/global/scratch/users/harsha/dask_space/', \n",
    "                log_directory='/global/scratch/users/harsha/dask_space/', \n",
    "                job_extra_directives=job_extra, interface='eth0', memory=\"192GB\") \n",
    "client  = Client(cluster) \n",
    "cluster.scale_up(2)"
   ]
  },
  {
   "cell_type": "code",
   "execution_count": 8,
   "id": "ae24c3e5",
   "metadata": {},
   "outputs": [
    {
     "data": {
      "application/vnd.jupyter.widget-view+json": {
       "model_id": "ddab59807fa147cbaaa89192d0917044",
       "version_major": 2,
       "version_minor": 0
      },
      "text/html": [
       "<div class=\"jp-RenderedHTMLCommon jp-RenderedHTML jp-mod-trusted jp-OutputArea-output\">\n",
       "    <div style=\"width: 24px; height: 24px; background-color: #e1e1e1; border: 3px solid #9D9D9D; border-radius: 5px; position: absolute;\">\n",
       "    </div>\n",
       "    <div style=\"margin-left: 48px;\">\n",
       "        <h3 style=\"margin-bottom: 0px; margin-top: 0px;\">SLURMCluster</h3>\n",
       "        <p style=\"color: #9D9D9D; margin-bottom: 0px;\">8a039945</p>\n",
       "        <table style=\"width: 100%; text-align: left;\">\n",
       "            <tr>\n",
       "                <td style=\"text-align: left;\">\n",
       "                    <strong>Dashboard:</strong> <a href=\"http://10.0.39.4:8787/status\" target=\"_blank\">http://10.0.39.4:8787/status</a>\n",
       "                </td>\n",
       "                <td style=\"text-align: left;\">\n",
       "                    <strong>Workers:</strong> 0\n",
       "                </td>\n",
       "            </tr>\n",
       "            <tr>\n",
       "                <td style=\"text-align: left;\">\n",
       "                    <strong>Total threads:</strong> 0\n",
       "                </td>\n",
       "                <td style=\"text-align: left;\">\n",
       "                    <strong>Total memory:</strong> 0 B\n",
       "                </td>\n",
       "            </tr>\n",
       "            \n",
       "        </table>\n",
       "\n",
       "        <details>\n",
       "            <summary style=\"margin-bottom: 20px;\">\n",
       "                <h3 style=\"display: inline;\">Scheduler Info</h3>\n",
       "            </summary>\n",
       "\n",
       "            <div style=\"\">\n",
       "    <div>\n",
       "        <div style=\"width: 24px; height: 24px; background-color: #FFF7E5; border: 3px solid #FF6132; border-radius: 5px; position: absolute;\"> </div>\n",
       "        <div style=\"margin-left: 48px;\">\n",
       "            <h3 style=\"margin-bottom: 0px;\">Scheduler</h3>\n",
       "            <p style=\"color: #9D9D9D; margin-bottom: 0px;\">Scheduler-e28e2de0-5cf8-4579-ac4c-493759ea27e3</p>\n",
       "            <table style=\"width: 100%; text-align: left;\">\n",
       "                <tr>\n",
       "                    <td style=\"text-align: left;\">\n",
       "                        <strong>Comm:</strong> tcp://10.0.39.4:33367\n",
       "                    </td>\n",
       "                    <td style=\"text-align: left;\">\n",
       "                        <strong>Workers:</strong> 0\n",
       "                    </td>\n",
       "                </tr>\n",
       "                <tr>\n",
       "                    <td style=\"text-align: left;\">\n",
       "                        <strong>Dashboard:</strong> <a href=\"http://10.0.39.4:8787/status\" target=\"_blank\">http://10.0.39.4:8787/status</a>\n",
       "                    </td>\n",
       "                    <td style=\"text-align: left;\">\n",
       "                        <strong>Total threads:</strong> 0\n",
       "                    </td>\n",
       "                </tr>\n",
       "                <tr>\n",
       "                    <td style=\"text-align: left;\">\n",
       "                        <strong>Started:</strong> Just now\n",
       "                    </td>\n",
       "                    <td style=\"text-align: left;\">\n",
       "                        <strong>Total memory:</strong> 0 B\n",
       "                    </td>\n",
       "                </tr>\n",
       "            </table>\n",
       "        </div>\n",
       "    </div>\n",
       "\n",
       "    <details style=\"margin-left: 48px;\">\n",
       "        <summary style=\"margin-bottom: 20px;\">\n",
       "            <h3 style=\"display: inline;\">Workers</h3>\n",
       "        </summary>\n",
       "\n",
       "        \n",
       "\n",
       "    </details>\n",
       "</div>\n",
       "\n",
       "        </details>\n",
       "    </div>\n",
       "</div>"
      ],
      "text/plain": [
       "SLURMCluster(8a039945, 'tcp://10.0.39.4:33367', workers=0, threads=0, memory=0 B)"
      ]
     },
     "metadata": {},
     "output_type": "display_data"
    }
   ],
   "source": [
    "cluster"
   ]
  },
  {
   "cell_type": "markdown",
   "id": "b222edb1",
   "metadata": {},
   "source": [
    "## Compare QDM + Sort and MDM "
   ]
  },
  {
   "cell_type": "markdown",
   "id": "adb436b3",
   "metadata": {},
   "source": [
    "### Load CESM2 data"
   ]
  },
  {
   "cell_type": "code",
   "execution_count": null,
   "id": "67e0d2af",
   "metadata": {},
   "outputs": [],
   "source": [
    "%%time\n",
    "ds_ssp  = xr.open_mfdataset(cesm2_path+'ssp370_cesm2tmax.zarr',engine='zarr')\n",
    "ds_hist = xr.open_mfdataset(cesm2_path+'bhist_cesm2tmax.zarr',engine='zarr')"
   ]
  },
  {
   "cell_type": "code",
   "execution_count": null,
   "id": "0fe191e2",
   "metadata": {},
   "outputs": [],
   "source": [
    "%%time\n",
    "#t-temp, nw - no-warming, w-warming, hw = historical warming, g=global\n",
    "tpi   = ds_hist.TREFHTMX.sel(method='nearest').sel(time=slice(pi_year0,pi_year1))\n",
    "\n",
    "teoc  = ds_ssp.TREFHTMX.sel(method='nearest').sel(time=slice(ic_year0,ic_year1))"
   ]
  },
  {
   "cell_type": "code",
   "execution_count": null,
   "id": "3a65f285",
   "metadata": {},
   "outputs": [],
   "source": [
    "tdpi  = to_daily(tpi)\n",
    "tdeoc = to_daily(teoc)"
   ]
  },
  {
   "cell_type": "code",
   "execution_count": null,
   "id": "9924cf41",
   "metadata": {},
   "outputs": [],
   "source": [
    "######################"
   ]
  },
  {
   "cell_type": "code",
   "execution_count": null,
   "id": "550f7b5b",
   "metadata": {},
   "outputs": [],
   "source": [
    "# Total range of numbers\n",
    "total_range = list(range(1, 100))\n",
    "\n",
    "# Generate the first list of N unique random numbers\n",
    "N = 8\n",
    "random.seed(42) \n",
    "model_list = random.sample(total_range, N)\n",
    "\n",
    "# Remove these numbers from the total range to avoid repetition\n",
    "remaining_range = [num for num in total_range if num not in model_list]\n",
    "\n",
    "# Generate the second list of 10 unique random numbers from the remaining numbers\n",
    "obs_list = random.sample(remaining_range, N)\n",
    "\n",
    "model_list = model_list + [99,0]\n",
    "obs_list   = obs_list + [0,99]\n",
    "\n",
    "# Pair the numbers together\n",
    "paired_numbers = list(zip(model_list, obs_list))\n",
    "#\n",
    "\n",
    "# Print the pairs\n",
    "print(\"List of pairs:\")\n",
    "for pair in paired_numbers:\n",
    "    print(pair)"
   ]
  },
  {
   "cell_type": "markdown",
   "id": "39188128",
   "metadata": {},
   "source": [
    "### Select Observation and Model indices. "
   ]
  },
  {
   "cell_type": "code",
   "execution_count": null,
   "id": "859b58cc",
   "metadata": {},
   "outputs": [],
   "source": [
    "############ Select some ensemble members as obs and others as model ######\n",
    "#\n",
    "pi_obs  = tdpi.sel(member = obs_list)\n",
    "eoc_obs = tdeoc.sel(member= obs_list)\n",
    "#\n",
    "#\n",
    "pi_model_det  = xr.open_zarr(cvals+'pi_detrended.zarr').detrended_tmax\n",
    "eoc_model_det = xr.open_zarr(cvals+'eoc_detrended.zarr').detrended_tmax\n",
    "#\n",
    "pi_model_det  = pi_model_det.sel(member = model_list)\n",
    "eoc_model_det = eoc_model_det.sel(member = model_list)\n",
    "#\n",
    "pi_model  = tdpi.sel(member = model_list)\n",
    "eoc_model = tdeoc.sel(member = model_list)\n",
    "#\n",
    "pi_model  = pi_model.chunk({'lat':8,'lon':60,'member':-1,'year':10,'dayofyear':73})\n",
    "eoc_model = eoc_model.chunk({'lat':8,'lon':60,'member':-1,'year':10,'dayofyear':73})\n",
    "pi_obs    = pi_obs.chunk({'lat':8,'lon':60,'member':-1,'year':10,'dayofyear':73})\n",
    "eoc_obs   = eoc_obs.chunk({'lat':8,'lon':60,'member':-1,'year':10,'dayofyear':73})\n",
    "# eoc_obs"
   ]
  },
  {
   "cell_type": "code",
   "execution_count": null,
   "id": "f3c1f4f1",
   "metadata": {},
   "outputs": [],
   "source": [
    "pi_model  = pi_model.rename({'member':'model_id'})\n",
    "eoc_model = eoc_model.rename({'member':'model_id'})\n",
    "#\n",
    "pi_model_det  = pi_model_det.rename({'member':'model_id'})\n",
    "eoc_model_det = eoc_model_det.rename({'member':'model_id'})\n",
    "#\n",
    "pi_obs     = pi_obs.rename({'member':'obs_id'})\n",
    "eoc_obs    = eoc_obs.rename({'member':'obs_id'})"
   ]
  },
  {
   "cell_type": "code",
   "execution_count": null,
   "id": "0353efea",
   "metadata": {},
   "outputs": [],
   "source": [
    "pi_omean  = pi_obs.mean('year')\n",
    "#\n",
    "pi_mmean  = pi_model_det.mean('year')\n",
    "pi_mstd   = pi_model_det.std('year')\n",
    "#\n",
    "eoc_mmean = eoc_model_det.mean('year')\n",
    "eoc_mstd  = eoc_model_det.std('year')\n",
    "pi_mmean"
   ]
  },
  {
   "cell_type": "markdown",
   "id": "f9b6e6d4",
   "metadata": {},
   "source": [
    "## Perform Moment Delta Mapping"
   ]
  },
  {
   "cell_type": "code",
   "execution_count": null,
   "id": "78063b6f",
   "metadata": {},
   "outputs": [],
   "source": [
    "pi_mdm  = implement_mdm(pi_obs,pi_mmean,eoc_mmean,pi_mstd,eoc_mstd)"
   ]
  },
  {
   "cell_type": "code",
   "execution_count": null,
   "id": "112d931c-980d-4c68-8880-f57f0c52d6c9",
   "metadata": {},
   "outputs": [],
   "source": [
    "pi_shift = implement_shift(pi_obs,pi_mmean,eoc_mmean)"
   ]
  },
  {
   "cell_type": "code",
   "execution_count": null,
   "id": "16d9a63f",
   "metadata": {},
   "outputs": [],
   "source": [
    "qpi_mdm   = compute_quantiles(pi_mdm)\n",
    "qpi_shift = compute_quantiles(pi_shift)\n",
    "#\n",
    "qpi_shift = qpi_shift.chunk({'obs_id':1})\n",
    "qpi_mdm   = qpi_mdm.chunk({'obs_id':1})\n",
    "qpi_mdm"
   ]
  },
  {
   "cell_type": "code",
   "execution_count": null,
   "id": "405776f0-973f-4ef0-86c3-b9da0030f64d",
   "metadata": {},
   "outputs": [],
   "source": [
    "qpi_shift"
   ]
  },
  {
   "cell_type": "code",
   "execution_count": null,
   "id": "d6a86e1a",
   "metadata": {},
   "outputs": [],
   "source": [
    "# %%time\n",
    "# qpi_mdm.rename('tmax').to_dataset().to_zarr(cvals+'qpi_mdm_36examples.zarr',mode='w')\n",
    "# qpi_mdm.rename('tmax').to_dataset().to_zarr(cvals+'qpi_mdm_27examples.zarr',mode='w')\n",
    "#\n",
    "# qpi_mdm.rename('tmax').to_dataset().to_zarr(cvals+'qpi_mdm_100examples.zarr',mode='w')\n",
    "qpi_shift.rename('tmax').to_dataset().to_zarr(cvals+'qpi_shift_100examples.zarr',mode='w')"
   ]
  },
  {
   "cell_type": "markdown",
   "id": "ae6f7380",
   "metadata": {},
   "source": [
    "## Perform Quantile Delta Mapping"
   ]
  },
  {
   "cell_type": "code",
   "execution_count": null,
   "id": "6083a5c6",
   "metadata": {},
   "outputs": [],
   "source": [
    "qpi_model  = compute_quantiles(pi_model)\n",
    "qeoc_model = compute_quantiles(eoc_model)\n",
    "#\n",
    "qpi_obs  = compute_quantiles(pi_obs)\n",
    "qeoc_obs = compute_quantiles(eoc_obs)\n",
    "#\n",
    "qano     = qeoc_model - qpi_model"
   ]
  },
  {
   "cell_type": "code",
   "execution_count": null,
   "id": "7e1ec9cb",
   "metadata": {},
   "outputs": [],
   "source": [
    "qpi_qdm =  qpi_obs + qano\n",
    "# qpi_qdm = qpi_qdm.chunk({'obs_id':-1})\n",
    "qpi_qdm = qpi_qdm.chunk({'obs_id':1})\n",
    "qpi_qdm"
   ]
  },
  {
   "cell_type": "code",
   "execution_count": null,
   "id": "532de1ee",
   "metadata": {},
   "outputs": [],
   "source": [
    "# %%time\n",
    "# qpi_qdm.rename('tmax').to_dataset().to_zarr(cvals+'qpi_qdm_36examples.zarr',mode='w')\n",
    "# qpi_qdm.rename('tmax').to_dataset().to_zarr(cvals+'qpi_qdm_27examples.zarr',mode='w')\n",
    "# qpi_qdm.rename('tmax').to_dataset().to_zarr(cvals+'qpi_qdm_100examples.zarr',mode='w')"
   ]
  },
  {
   "cell_type": "markdown",
   "id": "a9ad05c9",
   "metadata": {},
   "source": [
    "## MDM vs QDM"
   ]
  },
  {
   "cell_type": "code",
   "execution_count": null,
   "id": "df9398fb",
   "metadata": {},
   "outputs": [],
   "source": [
    "# qpi_mdm = xr.open_zarr(cvals+'qpi_mdm_27examples.zarr').tmax\n",
    "# qpi_qdm = xr.open_zarr(cvals+'qpi_qdm_27examples.zarr').tmax\n",
    "# qpi_mdm = xr.open_zarr(cvals+'qpi_mdm_36examples.zarr').tmax\n",
    "# qpi_qdm = xr.open_zarr(cvals+'qpi_qdm_36examples.zarr').tmax\n",
    "#\n",
    "qpi_mdm   = xr.open_zarr(cvals+'qpi_mdm_100examples.zarr').tmax\n",
    "qpi_qdm   = xr.open_zarr(cvals+'qpi_qdm_100examples.zarr').tmax\n",
    "qpi_shift = xr.open_zarr(cvals+'qpi_shift_100examples.zarr').tmax\n",
    "#\n",
    "qpi_mdm"
   ]
  },
  {
   "cell_type": "code",
   "execution_count": null,
   "id": "51230126-eb84-496d-9da0-b10271054b69",
   "metadata": {},
   "outputs": [],
   "source": [
    "qpi_shift"
   ]
  },
  {
   "cell_type": "markdown",
   "id": "ff0fa2a3",
   "metadata": {},
   "source": [
    "## Select model and observations and plot"
   ]
  },
  {
   "cell_type": "code",
   "execution_count": null,
   "id": "b9508cd7-402f-4819-973f-483ccd4ec537",
   "metadata": {},
   "outputs": [],
   "source": [
    "qpi_sqdm  = xr.apply_ufunc(\n",
    "    np.sort,\n",
    "    qpi_qdm,\n",
    "    input_core_dims=[['quantile']],\n",
    "    output_core_dims=[['quantile']],\n",
    "    dask='parallelized'\n",
    ")\n",
    "# qpi_sqdm"
   ]
  },
  {
   "cell_type": "markdown",
   "id": "e0e6f674-98cd-4dc2-a28f-0ca2931898e7",
   "metadata": {},
   "source": [
    "### Results for Bengaluru, July 30"
   ]
  },
  {
   "cell_type": "code",
   "execution_count": null,
   "id": "b27c33ca",
   "metadata": {},
   "outputs": [],
   "source": [
    "model_index = 0\n",
    "obs_index   = 99\n",
    "# Pick lat lon\n",
    "LAT = ben_lat\n",
    "LON = ben_lon\n",
    "location = 'Bengaluru'"
   ]
  },
  {
   "cell_type": "code",
   "execution_count": null,
   "id": "996d3914",
   "metadata": {},
   "outputs": [],
   "source": [
    "%%time\n",
    "# Calculate quantile curves for Bengaluru\n",
    "#\n",
    "qpi_mdm_day    = qpi_mdm.sel(dayofyear=doy).sel(lat=LAT,lon=LON,method='nearest')\\\n",
    "                  .sel(model_id = model_index).sel(obs_id = obs_index)\n",
    "#\n",
    "qpi_qdm_day    = qpi_qdm.sel(dayofyear=doy).sel(lat=LAT,lon=LON,method='nearest')\\\n",
    "                    .sel(model_id = model_index).sel(obs_id = obs_index)\n",
    "#\n",
    "qpi_shift_day    = qpi_shift.sel(dayofyear=doy).sel(lat=LAT,lon=LON,method='nearest')\\\n",
    "                    .sel(model_id = model_index).sel(obs_id = obs_index)\n",
    "#\n",
    "# qeoc_model_day = qeoc_model.sel(dayofyear=doy).sel(lat=LAT,lon=LON,method='nearest').sel(model_id =model_index)\n",
    "#\n",
    "qpi_sqdm_day = qpi_sqdm.sel(dayofyear=doy).sel(lat=LAT,lon=LON,method='nearest')\\\n",
    "                .sel(model_id = model_index).sel(obs_id = obs_index)\n",
    "qpi_model_day  = qpi_model.sel(dayofyear=doy).sel(lat=LAT,lon=LON,method='nearest').sel(model_id =model_index)\n",
    "qpi_obs_day    = qpi_obs.sel(dayofyear=doy).sel(lat=LAT,lon=LON,method='nearest').sel(obs_id =obs_index)\n",
    "qeoc_obs_day   = qeoc_obs.sel(dayofyear=doy).sel(lat=LAT,lon=LON,method='nearest').sel(obs_id =obs_index)"
   ]
  },
  {
   "cell_type": "code",
   "execution_count": null,
   "id": "ebf0c546-351d-4f58-9843-f8f35205e741",
   "metadata": {},
   "outputs": [],
   "source": [
    "%%time\n",
    "#\n",
    "text_str = f'obs_index = {obs_index}\\nmodel_index = {model_index}'  # Construct the text string with line breaks\n",
    "#\n",
    "plt.plot(quants,qpi_mdm_day,'--',color='green',label='PI + MDM')\n",
    "plt.plot(quants,qpi_qdm_day,'--',color='tab:orange',label='QDM')\n",
    "plt.plot(quants,qpi_shift,'--',color='black',label='PI + shift')\n",
    "plt.plot(quants,qeoc_obs_day,color='tab:red',label ='EOC obs')\n",
    "plt.plot(quants,qpi_obs_day,color= 'tab:blue', label ='PI obs')\n",
    "#\n",
    "plt.xlabel('Quantiles')\n",
    "plt.ylabel('Tmax')\n",
    "plt.legend(loc='lower right')\n",
    "plt.title('Quantile function:'+ location + ', ' + date)\n",
    "plt.text(0.05, 0.95, text_str, transform=plt.gca().transAxes, fontsize=12, \\\n",
    "         verticalalignment='top', bbox=dict(boxstyle=\"round\", alpha=0.5))"
   ]
  },
  {
   "cell_type": "code",
   "execution_count": null,
   "id": "4a7574e4-2809-4731-be54-08f2324c5014",
   "metadata": {},
   "outputs": [],
   "source": [
    "is_sorted(qpi_qdm_day.values)"
   ]
  },
  {
   "cell_type": "code",
   "execution_count": null,
   "id": "33ca09d7-3cf6-4a47-b478-109bef414e6a",
   "metadata": {},
   "outputs": [],
   "source": [
    "%%time\n",
    "rmse_qdm_day = xs.rmse(qpi_qdm_day,qeoc_obs_day,dim = 'quantile')\n",
    "rmse_mdm_day = xs.rmse(qpi_mdm_day,qeoc_obs_day,dim = 'quantile')\n",
    "rmse_sqdm_day = xs.rmse(qpi_sqdm_day,qeoc_obs_day,dim = 'quantile')\n",
    "print(rmse_mdm_day.values,rmse_qdm_day.values,rmse_sqdm_day.values)"
   ]
  },
  {
   "cell_type": "markdown",
   "id": "6f76c8bc-d788-4ba0-9705-a65d3542461c",
   "metadata": {},
   "source": [
    "### Results for Chicago, July 30"
   ]
  },
  {
   "cell_type": "code",
   "execution_count": null,
   "id": "031d214a-3fb3-4bd7-9311-75bdfe28e588",
   "metadata": {},
   "outputs": [],
   "source": [
    "model_index = 0\n",
    "obs_index   = 99\n",
    "# Pick lat lon\n",
    "LAT = chic_lat\n",
    "LON = chic_lon\n",
    "location = 'Chicago'"
   ]
  },
  {
   "cell_type": "code",
   "execution_count": null,
   "id": "9f74edcc-c666-4fcd-84fc-ccdd232326de",
   "metadata": {},
   "outputs": [],
   "source": [
    "%%time\n",
    "# Calculate quantile curves for Bengaluru\n",
    "#\n",
    "qpi_mdm_day    = qpi_mdm.sel(dayofyear=doy).sel(lat=LAT,lon=LON,method='nearest')\\\n",
    "                  .sel(model_id = model_index).sel(obs_id = obs_index)\n",
    "#\n",
    "qpi_qdm_day    = qpi_qdm.sel(dayofyear=doy).sel(lat=LAT,lon=LON,method='nearest')\\\n",
    "                    .sel(model_id = model_index).sel(obs_id = obs_index)\n",
    "#\n",
    "qpi_shift_day    = qpi_shift.sel(dayofyear=doy).sel(lat=LAT,lon=LON,method='nearest')\\\n",
    "                    .sel(model_id = model_index).sel(obs_id = obs_index)\n",
    "#\n",
    "# qeoc_model_day = qeoc_model.sel(dayofyear=doy).sel(lat=LAT,lon=LON,method='nearest').sel(model_id =model_index)\n",
    "#\n",
    "qpi_sqdm_day = qpi_sqdm.sel(dayofyear=doy).sel(lat=LAT,lon=LON,method='nearest')\\\n",
    "                .sel(model_id = model_index).sel(obs_id = obs_index)\n",
    "qpi_model_day  = qpi_model.sel(dayofyear=doy).sel(lat=LAT,lon=LON,method='nearest').sel(model_id =model_index)\n",
    "qpi_obs_day    = qpi_obs.sel(dayofyear=doy).sel(lat=LAT,lon=LON,method='nearest').sel(obs_id =obs_index)\n",
    "qeoc_obs_day   = qeoc_obs.sel(dayofyear=doy).sel(lat=LAT,lon=LON,method='nearest').sel(obs_id =obs_index)"
   ]
  },
  {
   "cell_type": "code",
   "execution_count": null,
   "id": "ae08e6f2-6ed0-4fdc-8989-591eee7a37f7",
   "metadata": {},
   "outputs": [],
   "source": [
    "%%time\n",
    "#\n",
    "text_str = f'obs_index = {obs_index}\\nmodel_index = {model_index}'  # Construct the text string with line breaks\n",
    "#\n",
    "plt.plot(quants,qpi_mdm_day,'--',color='green',label='PI + MDM')\n",
    "plt.plot(quants,qpi_qdm_day,'--',color='tab:orange',label='QDM')\n",
    "plt.plot(quants,qpi_shift,'--',color='black',label='PI + shift')\n",
    "plt.plot(quants,qeoc_obs_day,color='tab:red',label ='EOC obs')\n",
    "plt.plot(quants,qpi_obs_day,color= 'tab:blue', label ='PI obs')\n",
    "#\n",
    "plt.xlabel('Quantiles')\n",
    "plt.ylabel('Tmax')\n",
    "plt.legend(loc='lower right')\n",
    "plt.title('Quantile function:'+ location + ',' + date)\n",
    "plt.text(0.05, 0.95, text_str, transform=plt.gca().transAxes, fontsize=12, \\\n",
    "         verticalalignment='top', bbox=dict(boxstyle=\"round\", alpha=0.5))"
   ]
  },
  {
   "cell_type": "code",
   "execution_count": null,
   "id": "05cb291d-8c17-4172-aaec-3fe9fdfb8648",
   "metadata": {},
   "outputs": [],
   "source": [
    "is_sorted(qpi_qdm_day.values)"
   ]
  },
  {
   "cell_type": "code",
   "execution_count": null,
   "id": "6961fc6a-04a8-49b2-ac04-2224842ba7a3",
   "metadata": {},
   "outputs": [],
   "source": [
    "%%time\n",
    "rmse_qdm_day = xs.rmse(qpi_qdm_day,qeoc_obs_day,dim = 'quantile')\n",
    "rmse_mdm_day = xs.rmse(qpi_mdm_day,qeoc_obs_day,dim = 'quantile')\n",
    "rmse_sqdm_day = xs.rmse(qpi_sqdm_day,qeoc_obs_day,dim = 'quantile')\n",
    "print(rmse_mdm_day.values,rmse_qdm_day.values,rmse_sqdm_day.values)"
   ]
  },
  {
   "cell_type": "markdown",
   "id": "9cd5a80e",
   "metadata": {
    "jp-MarkdownHeadingCollapsed": true
   },
   "source": [
    "### Plot RMSEs of Sorted + QDM and PI + MDM for globe"
   ]
  },
  {
   "cell_type": "code",
   "execution_count": null,
   "id": "1f71380e",
   "metadata": {},
   "outputs": [],
   "source": [
    "# qeoc_obs0 = qeoc_obs.expand_dims(dim={'model_id':model_list}).assign_coords(model_id = qpi_mdm.coords['model_id'])\n",
    "# qeoc_obs0"
   ]
  },
  {
   "cell_type": "code",
   "execution_count": null,
   "id": "724e16ab",
   "metadata": {},
   "outputs": [],
   "source": [
    "# rmse_mdm = xs.rmse(qeoc_obs0,qpi_mdm,dim='quantile')\n",
    "# rmse_mdm"
   ]
  },
  {
   "cell_type": "code",
   "execution_count": null,
   "id": "767e4637",
   "metadata": {},
   "outputs": [],
   "source": [
    "# rmse_sqdm = xs.rmse(qeoc_obs0,qpi_sqdm,dim='quantile')\n",
    "# rmse_sqdm"
   ]
  },
  {
   "cell_type": "code",
   "execution_count": null,
   "id": "85a3205f",
   "metadata": {},
   "outputs": [],
   "source": [
    "%%time\n",
    "# rmse_mdm.rename('tmax').to_dataset().to_zarr(cvals+'rmse_mdm_27examples.zarr',mode='w')\n",
    "# rmse_mdm.rename('tmax').to_dataset().to_zarr(cvals+'rmse_mdm_36examples.zarr',mode='w')"
   ]
  },
  {
   "cell_type": "code",
   "execution_count": null,
   "id": "273e609f",
   "metadata": {},
   "outputs": [],
   "source": [
    "%%time\n",
    "# rmse_sqdm.rename('tmax').to_dataset().to_zarr(cvals+'rmse_sqdm_27examples.zarr',mode='w')\n",
    "# rmse_sqdm.rename('tmax').to_dataset().to_zarr(cvals+'rmse_sqdm_36examples.zarr',mode='w')"
   ]
  },
  {
   "cell_type": "code",
   "execution_count": null,
   "id": "ebb0c7f6",
   "metadata": {},
   "outputs": [],
   "source": [
    "%%time\n",
    "# rmse_mdm  = xr.open_zarr(cvals+'rmse_mdm_27examples.zarr').tmax\n",
    "# rmse_sqdm = xr.open_zarr(cvals+'rmse_sqdm_27examples.zarr').tmax\n",
    "#\n",
    "# rmse_mdm  = xr.open_zarr(cvals+'rmse_mdm_36examples.zarr').tmax\n",
    "# rmse_sqdm = xr.open_zarr(cvals+'rmse_sqdm_36examples.zarr').tmax"
   ]
  },
  {
   "cell_type": "code",
   "execution_count": null,
   "id": "466d4700",
   "metadata": {},
   "outputs": [],
   "source": [
    "# rmse_mdm_day  = rmse_mdm.sel(model_id=model_index).sel(obs_id=obs_index).sel(dayofyear=doy)\n",
    "# rmse_sqdm_day = rmse_sqdm.sel(model_id=model_index).sel(obs_id=obs_index).sel(dayofyear=doy)"
   ]
  },
  {
   "cell_type": "code",
   "execution_count": null,
   "id": "242a1e69",
   "metadata": {},
   "outputs": [],
   "source": [
    "# %%time\n",
    "# rmse_mdm_day.plot(cmap='RdBu_r')"
   ]
  },
  {
   "cell_type": "code",
   "execution_count": null,
   "id": "86e7e6d2",
   "metadata": {},
   "outputs": [],
   "source": [
    "# rmse_sqdm_day.plot(cmap='RdBu_r')"
   ]
  },
  {
   "cell_type": "markdown",
   "id": "3088264e",
   "metadata": {},
   "source": [
    "- Test if model_index and obs_index are same, rmse for Sorted QDM should be zero"
   ]
  },
  {
   "cell_type": "code",
   "execution_count": null,
   "id": "da66c080",
   "metadata": {},
   "outputs": [],
   "source": [
    "# rmse_sqdm_day.values"
   ]
  },
  {
   "cell_type": "markdown",
   "id": "346d050f",
   "metadata": {},
   "source": [
    "### Compute global mean of absolute error \n",
    "- Quantile function after applying mdm on model pre-ind quantile function is denoted qpi_mdm using some qeoc_obs\n",
    "- `Observed' end-of-21st-century quantile function is qeoc_obs\n",
    "- Therefore, error for a give model and obs pair is defined as qpi_mdm - qeoc_obs. \n",
    "- Here, qeoc_obs0 is used instead of qeoc_obs to implement this computation using xarray broadcasting\n",
    "- We then take the absolute value of this quantitiy and compute global mean"
   ]
  },
  {
   "cell_type": "code",
   "execution_count": null,
   "id": "67edd2e4",
   "metadata": {},
   "outputs": [],
   "source": [
    "mdm_abserr = np.fabs(qeoc_obs - qpi_mdm)\n",
    "mdm_abserr "
   ]
  },
  {
   "cell_type": "code",
   "execution_count": null,
   "id": "f50a02f6",
   "metadata": {},
   "outputs": [],
   "source": [
    "# Mean absolute Error, where mean is global and annual mean\n",
    "mdm_mae = global_mean(mdm_abserr)\n",
    "mdm_mae"
   ]
  },
  {
   "cell_type": "code",
   "execution_count": null,
   "id": "e094d751",
   "metadata": {},
   "outputs": [],
   "source": [
    "%%time\n",
    "# # mdm_mae.rename('tmax').to_dataset().to_zarr(cvals+'mdm_mae_27examples.zarr',mode='w')\n",
    "# mdm_mae.rename('tmax').to_dataset().to_zarr(cvals+'mdm_mae_36examples.zarr',mode='w')\n",
    "# mdm_mae.rename('tmax').to_dataset().to_zarr(cvals+'mdm_mae_100examples.zarr',mode='w')"
   ]
  },
  {
   "cell_type": "code",
   "execution_count": null,
   "id": "7fb39932",
   "metadata": {},
   "outputs": [],
   "source": [
    "# mdm_mae = xr.open_zarr(cvals+'mdm_mae_27examples.zarr').tmax\n",
    "# mdm_mae = xr.open_zarr(cvals+'mdm_mae_36examples.zarr').tmax\n",
    "mdm_mae = xr.open_zarr(cvals+'mdm_mae_100examples.zarr').tmax"
   ]
  },
  {
   "cell_type": "code",
   "execution_count": null,
   "id": "88498d92",
   "metadata": {},
   "outputs": [],
   "source": [
    "mdm_mae.sel(model_id=0,obs_id=0).plot()\n",
    "plt.ylabel('Mean Absolute Error (K)')\n",
    "plt.xlabel('Percentiles')"
   ]
  },
  {
   "cell_type": "code",
   "execution_count": null,
   "id": "0858ff48",
   "metadata": {},
   "outputs": [],
   "source": [
    "mdm_mae.sel(model_id=99,obs_id=0).plot()\n",
    "plt.ylabel('Mean Absolute Error (K)')\n",
    "plt.xlabel('Percentiles')"
   ]
  },
  {
   "cell_type": "code",
   "execution_count": null,
   "id": "6c97cb77",
   "metadata": {},
   "outputs": [],
   "source": [
    "mdm_mae.sel(model_id=99,obs_id=99).values"
   ]
  },
  {
   "cell_type": "markdown",
   "id": "0d39433d",
   "metadata": {},
   "source": [
    "### Calculate Mean Absolute Error for sorted QDM"
   ]
  },
  {
   "cell_type": "code",
   "execution_count": null,
   "id": "f453fe2a-53bd-49b5-90c2-718b53d8687d",
   "metadata": {},
   "outputs": [],
   "source": [
    "sqdm_abserr = np.fabs(qeoc_obs - qpi_sqdm)\n",
    "sqdm_mae = global_mean(sqdm_abserr)"
   ]
  },
  {
   "cell_type": "code",
   "execution_count": null,
   "id": "dd54df0f-e25b-47bf-942d-8b0fe815dd21",
   "metadata": {},
   "outputs": [],
   "source": [
    "%%time\n",
    "# # sqdm_mae.rename('tmax').to_dataset().to_zarr(cvals+'sqdm_mae_27examples.zarr',mode='w')\n",
    "# sqdm_mae.rename('tmax').to_dataset().to_zarr(cvals+'sqdm_mae_36examples.zarr',mode='w')\n",
    "# sqdm_mae.rename('tmax').to_dataset().to_zarr(cvals+'sqdm_mae_100examples.zarr',mode='w')"
   ]
  },
  {
   "cell_type": "code",
   "execution_count": null,
   "id": "04a54524-4230-492e-84ed-ebbcca855075",
   "metadata": {},
   "outputs": [],
   "source": [
    "%%time\n",
    "# sqdm_mae = xr.open_zarr(cvals+'sqdm_mae_27examples.zarr').tmax\n",
    "# sqdm_mae = xr.open_zarr(cvals+'sqdm_mae_36examples.zarr').tmax\n",
    "sqdm_mae = xr.open_zarr(cvals+'sqdm_mae_100examples.zarr').tmax\n",
    "sqdm_mae.sel(model_id=0,obs_id=0).plot()"
   ]
  },
  {
   "cell_type": "code",
   "execution_count": null,
   "id": "378fbd6d-db76-49e5-9b74-6cf07483b8c9",
   "metadata": {},
   "outputs": [],
   "source": [
    "sqdm_mae.sel(model_id=99,obs_id=99).plot()"
   ]
  },
  {
   "cell_type": "markdown",
   "id": "5628a393-04dd-47ea-bdd4-4d62dbd4855c",
   "metadata": {},
   "source": [
    "## Calculate mean of mean absolute error over (obs_id,model_id) pairs \n",
    " - Recall that MAE for a given (obs,model) pair is computed as a global mean and mean overy days of the year."
   ]
  },
  {
   "cell_type": "code",
   "execution_count": null,
   "id": "aba7ca2c-56b8-4496-8417-0c8e05e5a760",
   "metadata": {},
   "outputs": [],
   "source": [
    "%%time\n",
    "mdm_mae_flattened  = mdm_mae.stack(pairs=('obs_id','model_id'),create_index=False)\n",
    "sqdm_mae_flattened = sqdm_mae.stack(pairs=('obs_id','model_id'),create_index=False)\n",
    "mdm_mae_flattened"
   ]
  },
  {
   "cell_type": "code",
   "execution_count": null,
   "id": "b9f244bd-e91c-495c-bbe5-d1cdf0272b6f",
   "metadata": {},
   "outputs": [],
   "source": [
    "average_mdm_mae  = mdm_mae_flattened.mean('pairs')\n",
    "average_sqdm_mae = sqdm_mae_flattened.mean('pairs')"
   ]
  },
  {
   "cell_type": "code",
   "execution_count": null,
   "id": "1d29dc1c-5473-4f5e-8613-98b3661a63f8",
   "metadata": {},
   "outputs": [],
   "source": [
    "%%time\n",
    "# average_mdm_mae.to_dataset().to_zarr(cvals + 'mdm_mae_avg36pairs.zarr',mode='w')\n",
    "# average_sqdm_mae.to_dataset().to_zarr(cvals + 'sqdm_mae_avg36pairs.zarr',mode='w')\n",
    "# average_mdm_mae.to_dataset().to_zarr(cvals + 'mdm_mae_avg100pairs.zarr',mode='w')\n",
    "# average_sqdm_mae.to_dataset().to_zarr(cvals + 'sqdm_mae_avg100pairs.zarr',mode='w')"
   ]
  },
  {
   "cell_type": "code",
   "execution_count": null,
   "id": "2103ec80-81be-46f7-90cc-7673bfcf3750",
   "metadata": {},
   "outputs": [],
   "source": [
    "# average_mdm_mae  = xr.open_zarr(cvals + 'mdm_mae_avg36pairs.zarr').tmax\n",
    "# average_sqdm_mae = xr.open_zarr(cvals + 'sqdm_mae_avg36pairs.zarr').tmax\n",
    "average_mdm_mae  = xr.open_zarr(cvals + 'mdm_mae_avg100pairs.zarr').tmax\n",
    "average_sqdm_mae = xr.open_zarr(cvals + 'sqdm_mae_avg100pairs.zarr').tmax"
   ]
  },
  {
   "cell_type": "code",
   "execution_count": null,
   "id": "61a43969-cdb7-48cd-a643-242e11dea9c8",
   "metadata": {},
   "outputs": [],
   "source": [
    "%%time\n",
    "qano_std_agmean = xr.open_zarr(cvals+'cmip6_quantiles_ano_agmean.zarr').tasmax_qanomaly\n",
    "qano_std_agmean"
   ]
  },
  {
   "cell_type": "code",
   "execution_count": null,
   "id": "d2359ef8-121b-4f90-9fb6-9cb8d2853347",
   "metadata": {},
   "outputs": [],
   "source": [
    "%%time\n",
    "quants30        = np.linspace(0,1.0,30)\n",
    "plt.plot(quants30,average_mdm_mae,'--',label='MDM',color = 'blue')\n",
    "plt.plot(quants30,average_sqdm_mae,'--',label='QDM + sort',color = 'orange')\n",
    "#plt.plot(quants30,qano_std_agmean,'-.',color='tab:gray',markersize=4)\n",
    "plt.legend(loc='upper center',prop={'size':12},frameon=False)\n",
    "#\n",
    "plt.title('Average of MAE over 100 (obs,model) pairs')\n",
    "plt.ylabel('Mean Absolute Error (K)',fontsize=13)\n",
    "plt.xlabel('Probability p',fontsize=13,labelpad=10)\n",
    "plt.xlim(0.0,1.0)\n",
    "plt.ylim(0.0,2.0)\n",
    "plt.show()"
   ]
  },
  {
   "cell_type": "markdown",
   "id": "eeeffa24-79e8-4b37-ac50-c4754998fb86",
   "metadata": {},
   "source": [
    "### CMIP6 curves"
   ]
  },
  {
   "cell_type": "code",
   "execution_count": null,
   "id": "411e1eec-5445-46f3-a467-2a3e84025294",
   "metadata": {},
   "outputs": [],
   "source": [
    "cmip6_average_mdm_mae  = xr.open_zarr(cvals + 'cmip6_mdm_mae_avg289pairs.zarr').tmax\n",
    "cmip6_average_sqdm_mae = xr.open_zarr(cvals + 'cmip6_sqdm_mae_avg289pairs.zarr').tmax"
   ]
  },
  {
   "cell_type": "code",
   "execution_count": null,
   "id": "90bf078d-3edc-4f5c-ad44-748171db2f30",
   "metadata": {},
   "outputs": [],
   "source": [
    "%%time\n",
    "quants30        = np.linspace(0,1.0,30)\n",
    "plt.plot(quants30,cmip6_average_mdm_mae,'--',label='MDM',color = 'blue')\n",
    "plt.plot(quants30,cmip6_average_sqdm_mae,'--',label='QDM + sort',color = 'orange')\n",
    "plt.legend(loc='upper center',prop={'size':12},frameon=False)\n",
    "#\n",
    "plt.title('Average of MAE over 306 (obs,model) pairs: CMIP6')\n",
    "plt.ylabel('Mean Absolute Error (K)',fontsize=13)\n",
    "plt.xlabel('Probability p',fontsize=13,labelpad=10)\n",
    "plt.xlim(0.0,1.0)\n",
    "plt.ylim(0.0,2.0)\n",
    "plt.show()"
   ]
  },
  {
   "cell_type": "markdown",
   "id": "05e43aa8-ebd3-415c-8fc8-089aa774aaab",
   "metadata": {},
   "source": [
    "## Errors for CESM2 model"
   ]
  },
  {
   "cell_type": "code",
   "execution_count": null,
   "id": "01ec3a7d-be99-4f60-8e32-d57d229f1cb9",
   "metadata": {},
   "outputs": [],
   "source": [
    "%%time\n",
    "qgmc_gmaepath     = cvals+'qgmc_gmae'+'_'+ic_year0+'_'+ic_year1+'.zarr'\n",
    "qgmsc_gmaepath    = cvals+'qgmsc_gmae'+'_'+ic_year0+'_'+ic_year1+'.zarr'\n",
    "qgmc_gmae     = xr.open_zarr(qgmc_gmaepath).Error\n",
    "qgmsc_gmae    = xr.open_zarr(qgmsc_gmaepath).Error"
   ]
  },
  {
   "cell_type": "code",
   "execution_count": null,
   "id": "babaaba6-8f94-4114-9f78-7711c5a41b87",
   "metadata": {},
   "outputs": [],
   "source": [
    "plt.plot(quants,qgmsc_gmae,label=r'$L_2(Q_i^m)-Q_f^m$',color='blue')\n",
    "plt.axhline(y = 0,linestyle = '--',label = 'QDM + sort', color = 'r') \n",
    "plt.legend(loc='upper center',prop={'size':12},frameon=False)\n",
    "plt.title('')\n",
    "plt.ylabel('Mean Absolute Error (K)',fontsize=13)\n",
    "plt.xlabel('Probability p',fontsize=13,labelpad=10)\n",
    "plt.xlim(0.0,1.0)\n",
    "plt.ylim(0.0,2.0)\n",
    "plt.show()"
   ]
  },
  {
   "cell_type": "markdown",
   "id": "5547f015",
   "metadata": {},
   "source": [
    "## Check the sorting function"
   ]
  },
  {
   "cell_type": "code",
   "execution_count": null,
   "id": "e03b60c6",
   "metadata": {},
   "outputs": [],
   "source": [
    "is_sorted(qpi_sqdm_day.values)"
   ]
  },
  {
   "cell_type": "code",
   "execution_count": null,
   "id": "f230c97c",
   "metadata": {},
   "outputs": [],
   "source": [
    "is_sorted(qpi_mdm_day.values)"
   ]
  },
  {
   "cell_type": "code",
   "execution_count": null,
   "id": "18242d37",
   "metadata": {},
   "outputs": [],
   "source": [
    "%%time\n",
    "xs.rmse(qeoc_obs_day,qpi_mdm_day).values"
   ]
  },
  {
   "cell_type": "code",
   "execution_count": null,
   "id": "39848950",
   "metadata": {},
   "outputs": [],
   "source": [
    "%%time\n",
    "xs.rmse(qeoc_obs_day,qpi_qdm_day).values"
   ]
  }
 ],
 "metadata": {
  "kernelspec": {
   "display_name": "python:mdm",
   "language": "python",
   "name": "mdm"
  },
  "language_info": {
   "codemirror_mode": {
    "name": "ipython",
    "version": 3
   },
   "file_extension": ".py",
   "mimetype": "text/x-python",
   "name": "python",
   "nbconvert_exporter": "python",
   "pygments_lexer": "ipython3",
   "version": "3.10.13"
  }
 },
 "nbformat": 4,
 "nbformat_minor": 5
}
